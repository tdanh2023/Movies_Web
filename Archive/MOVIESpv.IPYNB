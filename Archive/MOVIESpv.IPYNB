{
 "cells": [
  {
   "cell_type": "code",
   "execution_count": 6,
   "metadata": {},
   "outputs": [
    {
     "data": {
      "text/html": [
       "<div>\n",
       "<style scoped>\n",
       "    .dataframe tbody tr th:only-of-type {\n",
       "        vertical-align: middle;\n",
       "    }\n",
       "\n",
       "    .dataframe tbody tr th {\n",
       "        vertical-align: top;\n",
       "    }\n",
       "\n",
       "    .dataframe thead th {\n",
       "        text-align: right;\n",
       "    }\n",
       "</style>\n",
       "<table border=\"1\" class=\"dataframe\">\n",
       "  <thead>\n",
       "    <tr style=\"text-align: right;\">\n",
       "      <th></th>\n",
       "      <th>id</th>\n",
       "      <th>image</th>\n",
       "      <th>title</th>\n",
       "      <th>description</th>\n",
       "      <th>runtimeStr</th>\n",
       "      <th>genres</th>\n",
       "      <th>genreList</th>\n",
       "      <th>contentRating</th>\n",
       "      <th>imDbRating</th>\n",
       "      <th>imDbRatingVotes</th>\n",
       "      <th>metacriticRating</th>\n",
       "      <th>plot</th>\n",
       "      <th>stars</th>\n",
       "      <th>starList</th>\n",
       "    </tr>\n",
       "  </thead>\n",
       "  <tbody>\n",
       "    <tr>\n",
       "      <th>0</th>\n",
       "      <td>tt15398776</td>\n",
       "      <td>https://m.media-amazon.com/images/M/MV5BMDBmYT...</td>\n",
       "      <td>Oppenheimer</td>\n",
       "      <td>(2023)</td>\n",
       "      <td>180 min</td>\n",
       "      <td>Biography, Drama, History</td>\n",
       "      <td>[{'key': 'Biography', 'value': 'Biography'}, {...</td>\n",
       "      <td>R</td>\n",
       "      <td>8.7</td>\n",
       "      <td>227103</td>\n",
       "      <td>88</td>\n",
       "      <td>The story of American scientist, J. Robert Opp...</td>\n",
       "      <td>Christopher Nolan, Cillian Murphy, Emily Blunt...</td>\n",
       "      <td>[{'id': 'tt15398776', 'name': 'Christopher Nol...</td>\n",
       "    </tr>\n",
       "    <tr>\n",
       "      <th>1</th>\n",
       "      <td>tt9362722</td>\n",
       "      <td>https://m.media-amazon.com/images/M/MV5BMzI0Nm...</td>\n",
       "      <td>Spider-Man: Across the Spider-Verse</td>\n",
       "      <td>(2023)</td>\n",
       "      <td>140 min</td>\n",
       "      <td>Animation, Action, Adventure</td>\n",
       "      <td>[{'key': 'Animation', 'value': 'Animation'}, {...</td>\n",
       "      <td>PG</td>\n",
       "      <td>8.9</td>\n",
       "      <td>195596</td>\n",
       "      <td>86</td>\n",
       "      <td>Miles Morales catapults across the Multiverse,...</td>\n",
       "      <td>Joaquim Dos Santos, Kemp Powers, Justin K. Tho...</td>\n",
       "      <td>[{'id': 'tt9362722', 'name': 'Joaquim Dos Sant...</td>\n",
       "    </tr>\n",
       "    <tr>\n",
       "      <th>2</th>\n",
       "      <td>tt0816692</td>\n",
       "      <td>https://m.media-amazon.com/images/M/MV5BZjdkOT...</td>\n",
       "      <td>Interstellar</td>\n",
       "      <td>(2014)</td>\n",
       "      <td>169 min</td>\n",
       "      <td>Adventure, Drama, Sci-Fi</td>\n",
       "      <td>[{'key': 'Adventure', 'value': 'Adventure'}, {...</td>\n",
       "      <td>PG-13</td>\n",
       "      <td>8.7</td>\n",
       "      <td>1952294</td>\n",
       "      <td>74</td>\n",
       "      <td>When Earth becomes uninhabitable in the future...</td>\n",
       "      <td>Christopher Nolan, Matthew McConaughey, Anne H...</td>\n",
       "      <td>[{'id': 'tt0816692', 'name': 'Christopher Nola...</td>\n",
       "    </tr>\n",
       "    <tr>\n",
       "      <th>3</th>\n",
       "      <td>tt0468569</td>\n",
       "      <td>https://m.media-amazon.com/images/M/MV5BMTMxNT...</td>\n",
       "      <td>The Dark Knight</td>\n",
       "      <td>(2008)</td>\n",
       "      <td>152 min</td>\n",
       "      <td>Action, Crime, Drama</td>\n",
       "      <td>[{'key': 'Action', 'value': 'Action'}, {'key':...</td>\n",
       "      <td>PG-13</td>\n",
       "      <td>9.0</td>\n",
       "      <td>2751318</td>\n",
       "      <td>84</td>\n",
       "      <td>When the menace known as the Joker wreaks havo...</td>\n",
       "      <td>Christopher Nolan, Christian Bale, Heath Ledge...</td>\n",
       "      <td>[{'id': 'tt0468569', 'name': 'Christopher Nola...</td>\n",
       "    </tr>\n",
       "    <tr>\n",
       "      <th>4</th>\n",
       "      <td>tt1375666</td>\n",
       "      <td>https://m.media-amazon.com/images/M/MV5BMjAxMz...</td>\n",
       "      <td>Inception</td>\n",
       "      <td>(2010)</td>\n",
       "      <td>148 min</td>\n",
       "      <td>Action, Adventure, Sci-Fi</td>\n",
       "      <td>[{'key': 'Action', 'value': 'Action'}, {'key':...</td>\n",
       "      <td>PG-13</td>\n",
       "      <td>8.8</td>\n",
       "      <td>2442074</td>\n",
       "      <td>74</td>\n",
       "      <td>A thief who steals corporate secrets through t...</td>\n",
       "      <td>Christopher Nolan, Leonardo DiCaprio, Joseph G...</td>\n",
       "      <td>[{'id': 'tt1375666', 'name': 'Christopher Nola...</td>\n",
       "    </tr>\n",
       "  </tbody>\n",
       "</table>\n",
       "</div>"
      ],
      "text/plain": [
       "           id                                              image  \\\n",
       "0  tt15398776  https://m.media-amazon.com/images/M/MV5BMDBmYT...   \n",
       "1   tt9362722  https://m.media-amazon.com/images/M/MV5BMzI0Nm...   \n",
       "2   tt0816692  https://m.media-amazon.com/images/M/MV5BZjdkOT...   \n",
       "3   tt0468569  https://m.media-amazon.com/images/M/MV5BMTMxNT...   \n",
       "4   tt1375666  https://m.media-amazon.com/images/M/MV5BMjAxMz...   \n",
       "\n",
       "                                 title description runtimeStr  \\\n",
       "0                          Oppenheimer      (2023)    180 min   \n",
       "1  Spider-Man: Across the Spider-Verse      (2023)    140 min   \n",
       "2                         Interstellar      (2014)    169 min   \n",
       "3                      The Dark Knight      (2008)    152 min   \n",
       "4                            Inception      (2010)    148 min   \n",
       "\n",
       "                         genres  \\\n",
       "0     Biography, Drama, History   \n",
       "1  Animation, Action, Adventure   \n",
       "2      Adventure, Drama, Sci-Fi   \n",
       "3          Action, Crime, Drama   \n",
       "4     Action, Adventure, Sci-Fi   \n",
       "\n",
       "                                           genreList contentRating imDbRating  \\\n",
       "0  [{'key': 'Biography', 'value': 'Biography'}, {...             R        8.7   \n",
       "1  [{'key': 'Animation', 'value': 'Animation'}, {...            PG        8.9   \n",
       "2  [{'key': 'Adventure', 'value': 'Adventure'}, {...         PG-13        8.7   \n",
       "3  [{'key': 'Action', 'value': 'Action'}, {'key':...         PG-13        9.0   \n",
       "4  [{'key': 'Action', 'value': 'Action'}, {'key':...         PG-13        8.8   \n",
       "\n",
       "  imDbRatingVotes metacriticRating  \\\n",
       "0          227103               88   \n",
       "1          195596               86   \n",
       "2         1952294               74   \n",
       "3         2751318               84   \n",
       "4         2442074               74   \n",
       "\n",
       "                                                plot  \\\n",
       "0  The story of American scientist, J. Robert Opp...   \n",
       "1  Miles Morales catapults across the Multiverse,...   \n",
       "2  When Earth becomes uninhabitable in the future...   \n",
       "3  When the menace known as the Joker wreaks havo...   \n",
       "4  A thief who steals corporate secrets through t...   \n",
       "\n",
       "                                               stars  \\\n",
       "0  Christopher Nolan, Cillian Murphy, Emily Blunt...   \n",
       "1  Joaquim Dos Santos, Kemp Powers, Justin K. Tho...   \n",
       "2  Christopher Nolan, Matthew McConaughey, Anne H...   \n",
       "3  Christopher Nolan, Christian Bale, Heath Ledge...   \n",
       "4  Christopher Nolan, Leonardo DiCaprio, Joseph G...   \n",
       "\n",
       "                                            starList  \n",
       "0  [{'id': 'tt15398776', 'name': 'Christopher Nol...  \n",
       "1  [{'id': 'tt9362722', 'name': 'Joaquim Dos Sant...  \n",
       "2  [{'id': 'tt0816692', 'name': 'Christopher Nola...  \n",
       "3  [{'id': 'tt0468569', 'name': 'Christopher Nola...  \n",
       "4  [{'id': 'tt1375666', 'name': 'Christopher Nola...  "
      ]
     },
     "execution_count": 6,
     "metadata": {},
     "output_type": "execute_result"
    }
   ],
   "source": [
    "import requests\n",
    "import csv\n",
    "import pandas as pd\n",
    "import json\n",
    "import plotly.graph_objects as go\n",
    "# API endpoint URL\n",
    "api_url = \"https://imdb-api.com/API/AdvancedSearch/k_ubtu0kka?title_type=feature&groups=top_250&languages=en&count=250\"\n",
    "\n",
    "# Make a GET request to the API\n",
    "response = requests.get(api_url)\n",
    "movie_list=pd.DataFrame(response.json()[\"results\"])\n",
    "\n",
    "\n",
    "movie_list.head()"
   ]
  },
  {
   "cell_type": "code",
   "execution_count": 2,
   "metadata": {},
   "outputs": [
    {
     "data": {
      "text/html": [
       "<div>\n",
       "<style scoped>\n",
       "    .dataframe tbody tr th:only-of-type {\n",
       "        vertical-align: middle;\n",
       "    }\n",
       "\n",
       "    .dataframe tbody tr th {\n",
       "        vertical-align: top;\n",
       "    }\n",
       "\n",
       "    .dataframe thead th {\n",
       "        text-align: right;\n",
       "    }\n",
       "</style>\n",
       "<table border=\"1\" class=\"dataframe\">\n",
       "  <thead>\n",
       "    <tr style=\"text-align: right;\">\n",
       "      <th></th>\n",
       "      <th>title</th>\n",
       "      <th>description</th>\n",
       "      <th>genres</th>\n",
       "      <th>contentRating</th>\n",
       "      <th>imDbRating</th>\n",
       "      <th>stars</th>\n",
       "    </tr>\n",
       "  </thead>\n",
       "  <tbody>\n",
       "    <tr>\n",
       "      <th>0</th>\n",
       "      <td>Oppenheimer</td>\n",
       "      <td>(2023)</td>\n",
       "      <td>Biography, Drama, History</td>\n",
       "      <td>R</td>\n",
       "      <td>8.7</td>\n",
       "      <td>Christopher Nolan, Cillian Murphy, Emily Blunt...</td>\n",
       "    </tr>\n",
       "    <tr>\n",
       "      <th>1</th>\n",
       "      <td>Spider-Man: Across the Spider-Verse</td>\n",
       "      <td>(2023)</td>\n",
       "      <td>Animation, Action, Adventure</td>\n",
       "      <td>PG</td>\n",
       "      <td>8.9</td>\n",
       "      <td>Joaquim Dos Santos, Kemp Powers, Justin K. Tho...</td>\n",
       "    </tr>\n",
       "    <tr>\n",
       "      <th>2</th>\n",
       "      <td>Interstellar</td>\n",
       "      <td>(2014)</td>\n",
       "      <td>Adventure, Drama, Sci-Fi</td>\n",
       "      <td>PG-13</td>\n",
       "      <td>8.7</td>\n",
       "      <td>Christopher Nolan, Matthew McConaughey, Anne H...</td>\n",
       "    </tr>\n",
       "    <tr>\n",
       "      <th>3</th>\n",
       "      <td>The Dark Knight</td>\n",
       "      <td>(2008)</td>\n",
       "      <td>Action, Crime, Drama</td>\n",
       "      <td>PG-13</td>\n",
       "      <td>9.0</td>\n",
       "      <td>Christopher Nolan, Christian Bale, Heath Ledge...</td>\n",
       "    </tr>\n",
       "    <tr>\n",
       "      <th>4</th>\n",
       "      <td>Inception</td>\n",
       "      <td>(2010)</td>\n",
       "      <td>Action, Adventure, Sci-Fi</td>\n",
       "      <td>PG-13</td>\n",
       "      <td>8.8</td>\n",
       "      <td>Christopher Nolan, Leonardo DiCaprio, Joseph G...</td>\n",
       "    </tr>\n",
       "    <tr>\n",
       "      <th>...</th>\n",
       "      <td>...</td>\n",
       "      <td>...</td>\n",
       "      <td>...</td>\n",
       "      <td>...</td>\n",
       "      <td>...</td>\n",
       "      <td>...</td>\n",
       "    </tr>\n",
       "    <tr>\n",
       "      <th>211</th>\n",
       "      <td>The Kid</td>\n",
       "      <td>(1921)</td>\n",
       "      <td>Comedy, Drama, Family</td>\n",
       "      <td>Passed</td>\n",
       "      <td>8.3</td>\n",
       "      <td>Charles Chaplin, Edna Purviance, Jackie Coogan...</td>\n",
       "    </tr>\n",
       "    <tr>\n",
       "      <th>212</th>\n",
       "      <td>Mr. Smith Goes to Washington</td>\n",
       "      <td>(1939)</td>\n",
       "      <td>Comedy, Drama</td>\n",
       "      <td>Passed</td>\n",
       "      <td>8.1</td>\n",
       "      <td>Frank Capra, James Stewart, Jean Arthur, Claud...</td>\n",
       "    </tr>\n",
       "    <tr>\n",
       "      <th>213</th>\n",
       "      <td>The General</td>\n",
       "      <td>(1926)</td>\n",
       "      <td>Action, Adventure, Comedy</td>\n",
       "      <td>Passed</td>\n",
       "      <td>8.1</td>\n",
       "      <td>Clyde Bruckman, Buster Keaton, Marion Mack, Gl...</td>\n",
       "    </tr>\n",
       "    <tr>\n",
       "      <th>214</th>\n",
       "      <td>Sherlock Jr.</td>\n",
       "      <td>(1924)</td>\n",
       "      <td>Action, Comedy, Romance</td>\n",
       "      <td>Passed</td>\n",
       "      <td>8.2</td>\n",
       "      <td>Buster Keaton, Kathryn McGuire, Joe Keaton, Er...</td>\n",
       "    </tr>\n",
       "    <tr>\n",
       "      <th>215</th>\n",
       "      <td>The Gold Rush</td>\n",
       "      <td>(1925)</td>\n",
       "      <td>Adventure, Comedy, Drama</td>\n",
       "      <td>Passed</td>\n",
       "      <td>8.1</td>\n",
       "      <td>Charles Chaplin, Mack Swain, Tom Murray, Henry...</td>\n",
       "    </tr>\n",
       "  </tbody>\n",
       "</table>\n",
       "<p>216 rows × 6 columns</p>\n",
       "</div>"
      ],
      "text/plain": [
       "                                   title description  \\\n",
       "0                            Oppenheimer      (2023)   \n",
       "1    Spider-Man: Across the Spider-Verse      (2023)   \n",
       "2                           Interstellar      (2014)   \n",
       "3                        The Dark Knight      (2008)   \n",
       "4                              Inception      (2010)   \n",
       "..                                   ...         ...   \n",
       "211                              The Kid      (1921)   \n",
       "212         Mr. Smith Goes to Washington      (1939)   \n",
       "213                          The General      (1926)   \n",
       "214                         Sherlock Jr.      (1924)   \n",
       "215                        The Gold Rush      (1925)   \n",
       "\n",
       "                           genres contentRating imDbRating  \\\n",
       "0       Biography, Drama, History             R        8.7   \n",
       "1    Animation, Action, Adventure            PG        8.9   \n",
       "2        Adventure, Drama, Sci-Fi         PG-13        8.7   \n",
       "3            Action, Crime, Drama         PG-13        9.0   \n",
       "4       Action, Adventure, Sci-Fi         PG-13        8.8   \n",
       "..                            ...           ...        ...   \n",
       "211         Comedy, Drama, Family        Passed        8.3   \n",
       "212                 Comedy, Drama        Passed        8.1   \n",
       "213     Action, Adventure, Comedy        Passed        8.1   \n",
       "214       Action, Comedy, Romance        Passed        8.2   \n",
       "215      Adventure, Comedy, Drama        Passed        8.1   \n",
       "\n",
       "                                                 stars  \n",
       "0    Christopher Nolan, Cillian Murphy, Emily Blunt...  \n",
       "1    Joaquim Dos Santos, Kemp Powers, Justin K. Tho...  \n",
       "2    Christopher Nolan, Matthew McConaughey, Anne H...  \n",
       "3    Christopher Nolan, Christian Bale, Heath Ledge...  \n",
       "4    Christopher Nolan, Leonardo DiCaprio, Joseph G...  \n",
       "..                                                 ...  \n",
       "211  Charles Chaplin, Edna Purviance, Jackie Coogan...  \n",
       "212  Frank Capra, James Stewart, Jean Arthur, Claud...  \n",
       "213  Clyde Bruckman, Buster Keaton, Marion Mack, Gl...  \n",
       "214  Buster Keaton, Kathryn McGuire, Joe Keaton, Er...  \n",
       "215  Charles Chaplin, Mack Swain, Tom Murray, Henry...  \n",
       "\n",
       "[216 rows x 6 columns]"
      ]
     },
     "execution_count": 2,
     "metadata": {},
     "output_type": "execute_result"
    }
   ],
   "source": [
    "movies_cleaned= movie_list[[\"title\",\"description\",\"genres\",\"contentRating\",\"imDbRating\",\"stars\"]]\n",
    "movies_cleaned"
   ]
  },
  {
   "cell_type": "code",
   "execution_count": 3,
   "metadata": {},
   "outputs": [
    {
     "name": "stdout",
     "output_type": "stream",
     "text": [
      "{\"title\":{\"0\":\"Oppenheimer\",\"1\":\"Spider-Man: Across the Spider-Verse\",\"2\":\"Interstellar\",\"3\":\"The Dark Knight\",\"4\":\"Inception\",\"5\":\"Top Gun: Maverick\",\"6\":\"The Shawshank Redemption\",\"7\":\"The Wolf of Wall Street\",\"8\":\"The Prestige\",\"9\":\"Raiders of the Lost Ark\",\"10\":\"The Godfather\",\"11\":\"Pulp Fiction\",\"12\":\"Spider-Man: Into the Spider-Verse\",\"13\":\"Memento\",\"14\":\"Jaws\",\"15\":\"Indiana Jones and the Last Crusade\",\"16\":\"The Dark Knight Rises\",\"17\":\"Jurassic Park\",\"18\":\"Inglourious Basterds\",\"19\":\"Batman Begins\",\"20\":\"Spider-Man: No Way Home\",\"21\":\"The Departed\",\"22\":\"Heat\",\"23\":\"Prisoners\",\"24\":\"No Country for Old Men\",\"25\":\"The Lord of the Rings: The Fellowship of the Ring\",\"26\":\"Fight Club\",\"27\":\"Avengers: Endgame\",\"28\":\"Gladiator\",\"29\":\"Django Unchained\",\"30\":\"Alien\",\"31\":\"Joker\",\"32\":\"Back to the Future\",\"33\":\"Gone Girl\",\"34\":\"The Grand Budapest Hotel\",\"35\":\"Se7en\",\"36\":\"Aliens\",\"37\":\"Schindler's List\",\"38\":\"Forrest Gump\",\"39\":\"Pirates of the Caribbean: The Curse of the Black Pearl\",\"40\":\"Parasite\",\"41\":\"American Beauty\",\"42\":\"Goodfellas\",\"43\":\"The Matrix\",\"44\":\"Whiplash\",\"45\":\"Saving Private Ryan\",\"46\":\"The Silence of the Lambs\",\"47\":\"There Will Be Blood\",\"48\":\"Shutter Island\",\"49\":\"The Shining\",\"50\":\"Requiem for a Dream\",\"51\":\"L\\u00e9on: The Professional\",\"52\":\"Good Will Hunting\",\"53\":\"Mad Max: Fury Road\",\"54\":\"Terminator 2: Judgment Day\",\"55\":\"12 Angry Men\",\"56\":\"Hacksaw Ridge\",\"57\":\"Taxi Driver\",\"58\":\"One Flew Over the Cuckoo's Nest\",\"59\":\"The Truman Show\",\"60\":\"The Green Mile\",\"61\":\"Blade Runner\",\"62\":\"The Terminator\",\"63\":\"1917\",\"64\":\"The Lord of the Rings: The Return of the King\",\"65\":\"Stand by Me\",\"66\":\"The Pianist\",\"67\":\"Apocalypse Now\",\"68\":\"The Godfather Part II\",\"69\":\"Star Wars: Episode IV - A New Hope\",\"70\":\"Catch Me If You Can\",\"71\":\"Scarface\",\"72\":\"2001: A Space Odyssey\",\"73\":\"The Usual Suspects\",\"74\":\"Avengers: Infinity War\",\"75\":\"The Hunt\",\"76\":\"Logan\",\"77\":\"Ford v Ferrari\",\"78\":\"The Wizard of Oz\",\"79\":\"Braveheart\",\"80\":\"Harry Potter and the Deathly Hallows: Part 2\",\"81\":\"Eternal Sunshine of the Spotless Mind\",\"82\":\"Die Hard\",\"83\":\"The Big Lebowski\",\"84\":\"Cool Hand Luke\",\"85\":\"Once Upon a Time in America\",\"86\":\"A Clockwork Orange\",\"87\":\"Snatch\",\"88\":\"The Exorcist\",\"89\":\"Casino\",\"90\":\"The Lion King\",\"91\":\"Reservoir Dogs\",\"92\":\"Ratatouille\",\"93\":\"Green Book\",\"94\":\"American History X\",\"95\":\"The Good, the Bad and the Ugly\",\"96\":\"Full Metal Jacket\",\"97\":\"Fargo\",\"98\":\"Amadeus\",\"99\":\"The Lord of the Rings: The Two Towers\",\"100\":\"The Help\",\"101\":\"Inside Out\",\"102\":\"The Thing\",\"103\":\"The Sixth Sense\",\"104\":\"Kill Bill: Vol. 1\",\"105\":\"Toy Story\",\"106\":\"Warrior\",\"107\":\"Three Billboards Outside Ebbing, Missouri\",\"108\":\"A Beautiful Mind\",\"109\":\"The Intouchables\",\"110\":\"Dead Poets Society\",\"111\":\"The Incredibles\",\"112\":\"Casablanca\",\"113\":\"Hamilton\",\"114\":\"L.A. Confidential\",\"115\":\"Rocky\",\"116\":\"Trainspotting\",\"117\":\"Psycho\",\"118\":\"Life Is Beautiful\",\"119\":\"Finding Nemo\",\"120\":\"The Father\",\"121\":\"Incendies\",\"122\":\"Into the Wild\",\"123\":\"Up\",\"124\":\"Rush\",\"125\":\"Star Wars: Episode V - The Empire Strikes Back\",\"126\":\"Coco\",\"127\":\"Spotlight\",\"128\":\"Memories of Murder\",\"129\":\"Monsters, Inc.\",\"130\":\"Before Sunrise\",\"131\":\"Dr. Strangelove or: How I Learned to Stop Worrying and Love the Bomb\",\"132\":\"V for Vendetta\",\"133\":\"Once Upon a Time in the West\",\"134\":\"Star Wars: Episode VI - Return of the Jedi\",\"135\":\"Lawrence of Arabia\",\"136\":\"WALL\\u00b7E\",\"137\":\"Platoon\",\"138\":\"The Deer Hunter\",\"139\":\"Gone with the Wind\",\"140\":\"Room\",\"141\":\"Downfall\",\"142\":\"Am\\u00e9lie\",\"143\":\"The Sound of Music\",\"144\":\"Dances with Wolves\",\"145\":\"Lock, Stock and Two Smoking Barrels\",\"146\":\"Chinatown\",\"147\":\"Aladdin\",\"148\":\"Unforgiven\",\"149\":\"Groundhog Day\",\"150\":\"How to Train Your Dragon\",\"151\":\"12 Years a Slave\",\"152\":\"Toy Story 3\",\"153\":\"3 Idiots\",\"154\":\"It's a Wonderful Life\",\"155\":\"Dial M for Murder\",\"156\":\"Rear Window\",\"157\":\"Barry Lyndon\",\"158\":\"Monty Python and the Holy Grail\",\"159\":\"Singin' in the Rain\",\"160\":\"Citizen Kane\",\"161\":\"Vertigo\",\"162\":\"Some Like It Hot\",\"163\":\"Raging Bull\",\"164\":\"The Great Escape\",\"165\":\"Gran Torino\",\"166\":\"Million Dollar Baby\",\"167\":\"To Kill a Mockingbird\",\"168\":\"Hachi: A Dog's Tale\",\"169\":\"Metropolis\",\"170\":\"For a Few Dollars More\",\"171\":\"The Iron Giant\",\"172\":\"North by Northwest\",\"173\":\"Before Sunset\",\"174\":\"The Sting\",\"175\":\"The Elephant Man\",\"176\":\"Sunset Blvd.\",\"177\":\"Life of Brian\",\"178\":\"Ben-Hur\",\"179\":\"Paths of Glory\",\"180\":\"The Third Man\",\"181\":\"The Apartment\",\"182\":\"Judgment at Nuremberg\",\"183\":\"The Bridge on the River Kwai\",\"184\":\"Persona\",\"185\":\"Witness for the Prosecution\",\"186\":\"Network\",\"187\":\"In the Name of the Father\",\"188\":\"Dangal\",\"189\":\"Double Indemnity\",\"190\":\"Hotel Rwanda\",\"191\":\"On the Waterfront\",\"192\":\"Ikiru\",\"193\":\"The Great Dictator\",\"194\":\"It Happened One Night\",\"195\":\"Rebecca\",\"196\":\"Mary and Max\",\"197\":\"All About Eve\",\"198\":\"Klaus\",\"199\":\"Like Stars on Earth\",\"200\":\"The Best Years of Our Lives\",\"201\":\"The 400 Blows\",\"202\":\"The Grapes of Wrath\",\"203\":\"Modern Times\",\"204\":\"Tokyo Story\",\"205\":\"Bicycle Thieves\",\"206\":\"City Lights\",\"207\":\"The Treasure of the Sierra Madre\",\"208\":\"The Wages of Fear\",\"209\":\"To Be or Not to Be\",\"210\":\"The Battle of Algiers\",\"211\":\"The Kid\",\"212\":\"Mr. Smith Goes to Washington\",\"213\":\"The General\",\"214\":\"Sherlock Jr.\",\"215\":\"The Gold Rush\"},\"description\":{\"0\":\"(2023)\",\"1\":\"(2023)\",\"2\":\"(2014)\",\"3\":\"(2008)\",\"4\":\"(2010)\",\"5\":\"(2022)\",\"6\":\"(1994)\",\"7\":\"(2013)\",\"8\":\"(2006)\",\"9\":\"(1981)\",\"10\":\"(1972)\",\"11\":\"(1994)\",\"12\":\"(2018)\",\"13\":\"(2000)\",\"14\":\"(1975)\",\"15\":\"(1989)\",\"16\":\"(2012)\",\"17\":\"(1993)\",\"18\":\"(2009)\",\"19\":\"(2005)\",\"20\":\"(2021)\",\"21\":\"(2006)\",\"22\":\"(1995)\",\"23\":\"(2013)\",\"24\":\"(2007)\",\"25\":\"(2001)\",\"26\":\"(1999)\",\"27\":\"(2019)\",\"28\":\"(2000)\",\"29\":\"(2012)\",\"30\":\"(1979)\",\"31\":\"(I) (2019)\",\"32\":\"(1985)\",\"33\":\"(2014)\",\"34\":\"(2014)\",\"35\":\"(1995)\",\"36\":\"(1986)\",\"37\":\"(1993)\",\"38\":\"(1994)\",\"39\":\"(2003)\",\"40\":\"(2019)\",\"41\":\"(1999)\",\"42\":\"(1990)\",\"43\":\"(1999)\",\"44\":\"(2014)\",\"45\":\"(1998)\",\"46\":\"(1991)\",\"47\":\"(2007)\",\"48\":\"(2010)\",\"49\":\"(1980)\",\"50\":\"(2000)\",\"51\":\"(1994)\",\"52\":\"(1997)\",\"53\":\"(2015)\",\"54\":\"(1991)\",\"55\":\"(1957)\",\"56\":\"(2016)\",\"57\":\"(1976)\",\"58\":\"(1975)\",\"59\":\"(1998)\",\"60\":\"(1999)\",\"61\":\"(1982)\",\"62\":\"(1984)\",\"63\":\"(2019)\",\"64\":\"(2003)\",\"65\":\"(1986)\",\"66\":\"(2002)\",\"67\":\"(1979)\",\"68\":\"(1974)\",\"69\":\"(1977)\",\"70\":\"(2002)\",\"71\":\"(1983)\",\"72\":\"(1968)\",\"73\":\"(1995)\",\"74\":\"(2018)\",\"75\":\"(2012)\",\"76\":\"(2017)\",\"77\":\"(2019)\",\"78\":\"(1939)\",\"79\":\"(1995)\",\"80\":\"(2011)\",\"81\":\"(2004)\",\"82\":\"(1988)\",\"83\":\"(1998)\",\"84\":\"(1967)\",\"85\":\"(1984)\",\"86\":\"(1971)\",\"87\":\"(2000)\",\"88\":\"(1973)\",\"89\":\"(1995)\",\"90\":\"(1994)\",\"91\":\"(1992)\",\"92\":\"(2007)\",\"93\":\"(2018)\",\"94\":\"(1998)\",\"95\":\"(1966)\",\"96\":\"(1987)\",\"97\":\"(1996)\",\"98\":\"(1984)\",\"99\":\"(2002)\",\"100\":\"(2011)\",\"101\":\"(I) (2015)\",\"102\":\"(1982)\",\"103\":\"(1999)\",\"104\":\"(2003)\",\"105\":\"(1995)\",\"106\":\"(2011)\",\"107\":\"(2017)\",\"108\":\"(2001)\",\"109\":\"(2011)\",\"110\":\"(1989)\",\"111\":\"(2004)\",\"112\":\"(1942)\",\"113\":\"(2020)\",\"114\":\"(1997)\",\"115\":\"(1976)\",\"116\":\"(1996)\",\"117\":\"(1960)\",\"118\":\"(1997)\",\"119\":\"(2003)\",\"120\":\"(I) (2020)\",\"121\":\"(2010)\",\"122\":\"(2007)\",\"123\":\"(2009)\",\"124\":\"(I) (2013)\",\"125\":\"(1980)\",\"126\":\"(I) (2017)\",\"127\":\"(I) (2015)\",\"128\":\"(2003)\",\"129\":\"(2001)\",\"130\":\"(1995)\",\"131\":\"(1964)\",\"132\":\"(2005)\",\"133\":\"(1968)\",\"134\":\"(1983)\",\"135\":\"(1962)\",\"136\":\"(2008)\",\"137\":\"(1986)\",\"138\":\"(1978)\",\"139\":\"(1939)\",\"140\":\"(I) (2015)\",\"141\":\"(2004)\",\"142\":\"(2001)\",\"143\":\"(1965)\",\"144\":\"(1990)\",\"145\":\"(1998)\",\"146\":\"(1974)\",\"147\":\"(1992)\",\"148\":\"(1992)\",\"149\":\"(1993)\",\"150\":\"(2010)\",\"151\":\"(2013)\",\"152\":\"(2010)\",\"153\":\"(2009)\",\"154\":\"(1946)\",\"155\":\"(1954)\",\"156\":\"(1954)\",\"157\":\"(1975)\",\"158\":\"(1975)\",\"159\":\"(1952)\",\"160\":\"(1941)\",\"161\":\"(1958)\",\"162\":\"(1959)\",\"163\":\"(1980)\",\"164\":\"(1963)\",\"165\":\"(2008)\",\"166\":\"(2004)\",\"167\":\"(1962)\",\"168\":\"(2009)\",\"169\":\"(1927)\",\"170\":\"(1965)\",\"171\":\"(1999)\",\"172\":\"(1959)\",\"173\":\"(2004)\",\"174\":\"(1973)\",\"175\":\"(1980)\",\"176\":\"(1950)\",\"177\":\"(1979)\",\"178\":\"(1959)\",\"179\":\"(1957)\",\"180\":\"(1949)\",\"181\":\"(1960)\",\"182\":\"(1961)\",\"183\":\"(1957)\",\"184\":\"(1966)\",\"185\":\"(1957)\",\"186\":\"(1976)\",\"187\":\"(1993)\",\"188\":\"(2016)\",\"189\":\"(1944)\",\"190\":\"(2004)\",\"191\":\"(1954)\",\"192\":\"(1952)\",\"193\":\"(1940)\",\"194\":\"(1934)\",\"195\":\"(1940)\",\"196\":\"(2009)\",\"197\":\"(1950)\",\"198\":\"(2019)\",\"199\":\"(2007)\",\"200\":\"(1946)\",\"201\":\"(1959)\",\"202\":\"(1940)\",\"203\":\"(1936)\",\"204\":\"(1953)\",\"205\":\"(1948)\",\"206\":\"(1931)\",\"207\":\"(1948)\",\"208\":\"(1953)\",\"209\":\"(1942)\",\"210\":\"(1966)\",\"211\":\"(1921)\",\"212\":\"(1939)\",\"213\":\"(1926)\",\"214\":\"(1924)\",\"215\":\"(1925)\"},\"genres\":{\"0\":\"Biography, Drama, History\",\"1\":\"Animation, Action, Adventure\",\"2\":\"Adventure, Drama, Sci-Fi\",\"3\":\"Action, Crime, Drama\",\"4\":\"Action, Adventure, Sci-Fi\",\"5\":\"Action, Drama\",\"6\":\"Drama\",\"7\":\"Biography, Comedy, Crime\",\"8\":\"Drama, Mystery, Sci-Fi\",\"9\":\"Action, Adventure\",\"10\":\"Crime, Drama\",\"11\":\"Crime, Drama\",\"12\":\"Animation, Action, Adventure\",\"13\":\"Mystery, Thriller\",\"14\":\"Adventure, Mystery, Thriller\",\"15\":\"Action, Adventure\",\"16\":\"Action, Drama, Thriller\",\"17\":\"Action, Adventure, Sci-Fi\",\"18\":\"Adventure, Drama, War\",\"19\":\"Action, Crime, Drama\",\"20\":\"Action, Adventure, Fantasy\",\"21\":\"Crime, Drama, Thriller\",\"22\":\"Action, Crime, Drama\",\"23\":\"Crime, Drama, Mystery\",\"24\":\"Crime, Drama, Thriller\",\"25\":\"Action, Adventure, Drama\",\"26\":\"Drama\",\"27\":\"Action, Adventure, Drama\",\"28\":\"Action, Adventure, Drama\",\"29\":\"Drama, Western\",\"30\":\"Horror, Sci-Fi\",\"31\":\"Crime, Drama, Thriller\",\"32\":\"Adventure, Comedy, Sci-Fi\",\"33\":\"Drama, Mystery, Thriller\",\"34\":\"Adventure, Comedy, Crime\",\"35\":\"Crime, Drama, Mystery\",\"36\":\"Action, Adventure, Sci-Fi\",\"37\":\"Biography, Drama, History\",\"38\":\"Drama, Romance\",\"39\":\"Action, Adventure, Fantasy\",\"40\":\"Drama, Thriller\",\"41\":\"Drama\",\"42\":\"Biography, Crime, Drama\",\"43\":\"Action, Sci-Fi\",\"44\":\"Drama, Music\",\"45\":\"Drama, War\",\"46\":\"Crime, Drama, Thriller\",\"47\":\"Drama\",\"48\":\"Mystery, Thriller\",\"49\":\"Drama, Horror\",\"50\":\"Drama\",\"51\":\"Action, Crime, Drama\",\"52\":\"Drama, Romance\",\"53\":\"Action, Adventure, Sci-Fi\",\"54\":\"Action, Sci-Fi\",\"55\":\"Crime, Drama\",\"56\":\"Biography, Drama, History\",\"57\":\"Crime, Drama\",\"58\":\"Drama\",\"59\":\"Comedy, Drama\",\"60\":\"Crime, Drama, Fantasy\",\"61\":\"Action, Drama, Sci-Fi\",\"62\":\"Action, Sci-Fi\",\"63\":\"Action, Drama, War\",\"64\":\"Action, Adventure, Drama\",\"65\":\"Adventure, Drama\",\"66\":\"Biography, Drama, Music\",\"67\":\"Drama, Mystery, War\",\"68\":\"Crime, Drama\",\"69\":\"Action, Adventure, Fantasy\",\"70\":\"Biography, Crime, Drama\",\"71\":\"Crime, Drama\",\"72\":\"Adventure, Sci-Fi\",\"73\":\"Crime, Drama, Mystery\",\"74\":\"Action, Adventure, Sci-Fi\",\"75\":\"Drama\",\"76\":\"Action, Drama, Sci-Fi\",\"77\":\"Action, Biography, Drama\",\"78\":\"Adventure, Family, Fantasy\",\"79\":\"Biography, Drama, History\",\"80\":\"Adventure, Family, Fantasy\",\"81\":\"Drama, Romance, Sci-Fi\",\"82\":\"Action, Thriller\",\"83\":\"Comedy, Crime\",\"84\":\"Crime, Drama\",\"85\":\"Crime, Drama\",\"86\":\"Crime, Sci-Fi\",\"87\":\"Comedy, Crime\",\"88\":\"Horror\",\"89\":\"Crime, Drama\",\"90\":\"Animation, Adventure, Drama\",\"91\":\"Crime, Thriller\",\"92\":\"Animation, Adventure, Comedy\",\"93\":\"Biography, Comedy, Drama\",\"94\":\"Crime, Drama\",\"95\":\"Adventure, Western\",\"96\":\"Drama, War\",\"97\":\"Crime, Thriller\",\"98\":\"Biography, Drama, Music\",\"99\":\"Action, Adventure, Drama\",\"100\":\"Drama\",\"101\":\"Animation, Adventure, Comedy\",\"102\":\"Horror, Mystery, Sci-Fi\",\"103\":\"Drama, Mystery, Thriller\",\"104\":\"Action, Crime, Thriller\",\"105\":\"Animation, Adventure, Comedy\",\"106\":\"Action, Drama, Sport\",\"107\":\"Comedy, Crime, Drama\",\"108\":\"Biography, Drama\",\"109\":\"Biography, Comedy, Drama\",\"110\":\"Comedy, Drama\",\"111\":\"Animation, Action, Adventure\",\"112\":\"Drama, Romance, War\",\"113\":\"Biography, Drama, History\",\"114\":\"Crime, Drama, Mystery\",\"115\":\"Drama, Sport\",\"116\":\"Drama\",\"117\":\"Horror, Mystery, Thriller\",\"118\":\"Comedy, Drama, Romance\",\"119\":\"Animation, Adventure, Comedy\",\"120\":\"Drama, Mystery\",\"121\":\"Drama, Mystery\",\"122\":\"Adventure, Biography, Drama\",\"123\":\"Animation, Adventure, Comedy\",\"124\":\"Action, Biography, Drama\",\"125\":\"Action, Adventure, Fantasy\",\"126\":\"Animation, Adventure, Drama\",\"127\":\"Biography, Crime, Drama\",\"128\":\"Crime, Drama, Mystery\",\"129\":\"Animation, Adventure, Comedy\",\"130\":\"Drama, Romance\",\"131\":\"Comedy, War\",\"132\":\"Action, Drama, Sci-Fi\",\"133\":\"Western\",\"134\":\"Action, Adventure, Fantasy\",\"135\":\"Adventure, Biography, Drama\",\"136\":\"Animation, Adventure, Family\",\"137\":\"Drama, War\",\"138\":\"Drama, War\",\"139\":\"Drama, Romance, War\",\"140\":\"Drama, Thriller\",\"141\":\"Biography, Drama, History\",\"142\":\"Comedy, Romance\",\"143\":\"Biography, Drama, Family\",\"144\":\"Adventure, Drama, Western\",\"145\":\"Action, Comedy, Crime\",\"146\":\"Drama, Mystery, Thriller\",\"147\":\"Animation, Adventure, Comedy\",\"148\":\"Drama, Western\",\"149\":\"Comedy, Drama, Fantasy\",\"150\":\"Animation, Action, Adventure\",\"151\":\"Biography, Drama, History\",\"152\":\"Animation, Adventure, Comedy\",\"153\":\"Comedy, Drama\",\"154\":\"Drama, Family, Fantasy\",\"155\":\"Crime, Thriller\",\"156\":\"Mystery, Thriller\",\"157\":\"Adventure, Drama, War\",\"158\":\"Adventure, Comedy, Fantasy\",\"159\":\"Comedy, Musical, Romance\",\"160\":\"Drama, Mystery\",\"161\":\"Mystery, Romance, Thriller\",\"162\":\"Comedy, Music, Romance\",\"163\":\"Biography, Drama, Sport\",\"164\":\"Adventure, Drama, History\",\"165\":\"Drama\",\"166\":\"Drama, Sport\",\"167\":\"Crime, Drama\",\"168\":\"Biography, Drama, Family\",\"169\":\"Drama, Sci-Fi\",\"170\":\"Drama, Western\",\"171\":\"Animation, Action, Adventure\",\"172\":\"Action, Adventure, Mystery\",\"173\":\"Drama, Romance\",\"174\":\"Comedy, Crime, Drama\",\"175\":\"Biography, Drama\",\"176\":\"Drama, Film-Noir\",\"177\":\"Comedy\",\"178\":\"Adventure, Drama\",\"179\":\"Drama, War\",\"180\":\"Film-Noir, Mystery, Thriller\",\"181\":\"Comedy, Drama, Romance\",\"182\":\"Drama, War\",\"183\":\"Adventure, Drama, War\",\"184\":\"Drama, Thriller\",\"185\":\"Crime, Drama, Mystery\",\"186\":\"Drama\",\"187\":\"Biography, Crime, Drama\",\"188\":\"Action, Biography, Drama\",\"189\":\"Crime, Drama, Film-Noir\",\"190\":\"Biography, Drama, History\",\"191\":\"Crime, Drama, Thriller\",\"192\":\"Drama\",\"193\":\"Comedy, Drama, War\",\"194\":\"Comedy, Romance\",\"195\":\"Drama, Film-Noir, Mystery\",\"196\":\"Animation, Comedy, Drama\",\"197\":\"Drama\",\"198\":\"Animation, Adventure, Comedy\",\"199\":\"Drama, Family\",\"200\":\"Drama, Romance, War\",\"201\":\"Crime, Drama\",\"202\":\"Drama\",\"203\":\"Comedy, Drama, Romance\",\"204\":\"Drama\",\"205\":\"Drama\",\"206\":\"Comedy, Drama, Romance\",\"207\":\"Adventure, Drama, Western\",\"208\":\"Adventure, Drama, Thriller\",\"209\":\"Comedy, Romance, War\",\"210\":\"Drama, War\",\"211\":\"Comedy, Drama, Family\",\"212\":\"Comedy, Drama\",\"213\":\"Action, Adventure, Comedy\",\"214\":\"Action, Comedy, Romance\",\"215\":\"Adventure, Comedy, Drama\"},\"contentRating\":{\"0\":\"R\",\"1\":\"PG\",\"2\":\"PG-13\",\"3\":\"PG-13\",\"4\":\"PG-13\",\"5\":\"PG-13\",\"6\":\"R\",\"7\":\"R\",\"8\":\"PG-13\",\"9\":\"PG\",\"10\":\"R\",\"11\":\"R\",\"12\":\"PG\",\"13\":\"R\",\"14\":\"PG\",\"15\":\"PG-13\",\"16\":\"PG-13\",\"17\":\"PG-13\",\"18\":\"R\",\"19\":\"PG-13\",\"20\":\"PG-13\",\"21\":\"R\",\"22\":\"R\",\"23\":\"R\",\"24\":\"R\",\"25\":\"PG-13\",\"26\":\"R\",\"27\":\"PG-13\",\"28\":\"R\",\"29\":\"R\",\"30\":\"R\",\"31\":\"R\",\"32\":\"PG\",\"33\":\"R\",\"34\":\"R\",\"35\":\"R\",\"36\":\"R\",\"37\":\"R\",\"38\":\"PG-13\",\"39\":\"PG-13\",\"40\":\"R\",\"41\":\"R\",\"42\":\"R\",\"43\":\"R\",\"44\":\"R\",\"45\":\"R\",\"46\":\"R\",\"47\":\"R\",\"48\":\"R\",\"49\":\"R\",\"50\":\"R\",\"51\":\"R\",\"52\":\"R\",\"53\":\"R\",\"54\":\"R\",\"55\":\"Approved\",\"56\":\"R\",\"57\":\"R\",\"58\":\"R\",\"59\":\"PG\",\"60\":\"R\",\"61\":\"R\",\"62\":\"R\",\"63\":\"R\",\"64\":\"PG-13\",\"65\":\"R\",\"66\":\"R\",\"67\":\"R\",\"68\":\"R\",\"69\":\"PG\",\"70\":\"PG-13\",\"71\":\"R\",\"72\":\"G\",\"73\":\"R\",\"74\":\"PG-13\",\"75\":\"R\",\"76\":\"R\",\"77\":\"PG-13\",\"78\":\"PG\",\"79\":\"R\",\"80\":\"PG-13\",\"81\":\"R\",\"82\":\"R\",\"83\":\"R\",\"84\":\"GP\",\"85\":\"R\",\"86\":\"R\",\"87\":\"R\",\"88\":\"R\",\"89\":\"R\",\"90\":\"G\",\"91\":\"R\",\"92\":\"G\",\"93\":\"PG-13\",\"94\":\"R\",\"95\":\"Approved\",\"96\":\"R\",\"97\":\"R\",\"98\":\"R\",\"99\":\"PG-13\",\"100\":\"PG-13\",\"101\":\"PG\",\"102\":\"16+\",\"103\":\"PG-13\",\"104\":\"R\",\"105\":\"G\",\"106\":\"PG-13\",\"107\":\"R\",\"108\":\"PG-13\",\"109\":\"R\",\"110\":\"PG\",\"111\":\"PG\",\"112\":\"PG\",\"113\":\"PG-13\",\"114\":\"R\",\"115\":\"PG\",\"116\":\"R\",\"117\":\"R\",\"118\":\"PG-13\",\"119\":\"G\",\"120\":\"PG-13\",\"121\":\"R\",\"122\":\"R\",\"123\":\"PG\",\"124\":\"R\",\"125\":\"PG\",\"126\":\"PG\",\"127\":\"R\",\"128\":\"Not Rated\",\"129\":\"G\",\"130\":\"R\",\"131\":\"PG\",\"132\":\"R\",\"133\":\"PG-13\",\"134\":\"PG\",\"135\":\"Approved\",\"136\":\"G\",\"137\":\"R\",\"138\":\"R\",\"139\":\"Passed\",\"140\":\"R\",\"141\":\"R\",\"142\":\"R\",\"143\":\"G\",\"144\":\"PG-13\",\"145\":\"R\",\"146\":\"R\",\"147\":\"G\",\"148\":\"R\",\"149\":\"PG\",\"150\":\"PG\",\"151\":\"R\",\"152\":\"G\",\"153\":\"PG-13\",\"154\":\"PG\",\"155\":\"PG\",\"156\":\"PG\",\"157\":\"PG\",\"158\":\"PG\",\"159\":\"G\",\"160\":\"PG\",\"161\":\"PG\",\"162\":\"Passed\",\"163\":\"R\",\"164\":\"Approved\",\"165\":\"R\",\"166\":\"PG-13\",\"167\":\"Approved\",\"168\":\"G\",\"169\":\"Not Rated\",\"170\":\"R\",\"171\":\"PG\",\"172\":\"Approved\",\"173\":\"R\",\"174\":\"PG\",\"175\":\"PG\",\"176\":\"Passed\",\"177\":\"R\",\"178\":\"G\",\"179\":\"Approved\",\"180\":\"Approved\",\"181\":\"Approved\",\"182\":\"Approved\",\"183\":\"PG\",\"184\":\"Not Rated\",\"185\":\"Approved\",\"186\":\"R\",\"187\":\"R\",\"188\":\"Not Rated\",\"189\":\"Passed\",\"190\":\"PG-13\",\"191\":\"Approved\",\"192\":\"Not Rated\",\"193\":\"G\",\"194\":\"Passed\",\"195\":\"Approved\",\"196\":\"Not Rated\",\"197\":\"Passed\",\"198\":\"PG\",\"199\":\"PG\",\"200\":\"Approved\",\"201\":\"Not Rated\",\"202\":\"Passed\",\"203\":\"G\",\"204\":\"Not Rated\",\"205\":\"Not Rated\",\"206\":\"G\",\"207\":\"Passed\",\"208\":\"Not Rated\",\"209\":\"Passed\",\"210\":\"Not Rated\",\"211\":\"Passed\",\"212\":\"Passed\",\"213\":\"Passed\",\"214\":\"Passed\",\"215\":\"Passed\"},\"imDbRating\":{\"0\":\"8.7\",\"1\":\"8.9\",\"2\":\"8.7\",\"3\":\"9.0\",\"4\":\"8.8\",\"5\":\"8.3\",\"6\":\"9.3\",\"7\":\"8.2\",\"8\":\"8.5\",\"9\":\"8.4\",\"10\":\"9.2\",\"11\":\"8.9\",\"12\":\"8.4\",\"13\":\"8.4\",\"14\":\"8.1\",\"15\":\"8.2\",\"16\":\"8.4\",\"17\":\"8.2\",\"18\":\"8.3\",\"19\":\"8.2\",\"20\":\"8.2\",\"21\":\"8.5\",\"22\":\"8.3\",\"23\":\"8.1\",\"24\":\"8.2\",\"25\":\"8.8\",\"26\":\"8.8\",\"27\":\"8.4\",\"28\":\"8.5\",\"29\":\"8.4\",\"30\":\"8.5\",\"31\":\"8.4\",\"32\":\"8.5\",\"33\":\"8.1\",\"34\":\"8.1\",\"35\":\"8.6\",\"36\":\"8.4\",\"37\":\"9.0\",\"38\":\"8.8\",\"39\":\"8.1\",\"40\":\"8.5\",\"41\":\"8.3\",\"42\":\"8.7\",\"43\":\"8.7\",\"44\":\"8.5\",\"45\":\"8.6\",\"46\":\"8.6\",\"47\":\"8.2\",\"48\":\"8.2\",\"49\":\"8.4\",\"50\":\"8.3\",\"51\":\"8.5\",\"52\":\"8.3\",\"53\":\"8.1\",\"54\":\"8.6\",\"55\":\"9.0\",\"56\":\"8.1\",\"57\":\"8.2\",\"58\":\"8.7\",\"59\":\"8.2\",\"60\":\"8.6\",\"61\":\"8.1\",\"62\":\"8.1\",\"63\":\"8.2\",\"64\":\"9.0\",\"65\":\"8.1\",\"66\":\"8.5\",\"67\":\"8.4\",\"68\":\"9.0\",\"69\":\"8.6\",\"70\":\"8.1\",\"71\":\"8.3\",\"72\":\"8.3\",\"73\":\"8.5\",\"74\":\"8.4\",\"75\":\"8.3\",\"76\":\"8.1\",\"77\":\"8.1\",\"78\":\"8.1\",\"79\":\"8.3\",\"80\":\"8.1\",\"81\":\"8.3\",\"82\":\"8.2\",\"83\":\"8.1\",\"84\":\"8.1\",\"85\":\"8.3\",\"86\":\"8.3\",\"87\":\"8.2\",\"88\":\"8.1\",\"89\":\"8.2\",\"90\":\"8.5\",\"91\":\"8.3\",\"92\":\"8.1\",\"93\":\"8.2\",\"94\":\"8.5\",\"95\":\"8.8\",\"96\":\"8.3\",\"97\":\"8.1\",\"98\":\"8.4\",\"99\":\"8.8\",\"100\":\"8.1\",\"101\":\"8.1\",\"102\":\"8.2\",\"103\":\"8.2\",\"104\":\"8.2\",\"105\":\"8.3\",\"106\":\"8.1\",\"107\":\"8.1\",\"108\":\"8.2\",\"109\":\"8.5\",\"110\":\"8.1\",\"111\":\"8.0\",\"112\":\"8.5\",\"113\":\"8.3\",\"114\":\"8.2\",\"115\":\"8.1\",\"116\":\"8.1\",\"117\":\"8.5\",\"118\":\"8.6\",\"119\":\"8.2\",\"120\":\"8.2\",\"121\":\"8.3\",\"122\":\"8.1\",\"123\":\"8.3\",\"124\":\"8.1\",\"125\":\"8.7\",\"126\":\"8.4\",\"127\":\"8.1\",\"128\":\"8.1\",\"129\":\"8.1\",\"130\":\"8.1\",\"131\":\"8.4\",\"132\":\"8.2\",\"133\":\"8.5\",\"134\":\"8.3\",\"135\":\"8.3\",\"136\":\"8.4\",\"137\":\"8.1\",\"138\":\"8.1\",\"139\":\"8.2\",\"140\":\"8.1\",\"141\":\"8.2\",\"142\":\"8.3\",\"143\":\"8.1\",\"144\":\"8.0\",\"145\":\"8.1\",\"146\":\"8.2\",\"147\":\"8.0\",\"148\":\"8.2\",\"149\":\"8.0\",\"150\":\"8.1\",\"151\":\"8.1\",\"152\":\"8.3\",\"153\":\"8.4\",\"154\":\"8.6\",\"155\":\"8.2\",\"156\":\"8.5\",\"157\":\"8.1\",\"158\":\"8.2\",\"159\":\"8.3\",\"160\":\"8.3\",\"161\":\"8.3\",\"162\":\"8.2\",\"163\":\"8.1\",\"164\":\"8.2\",\"165\":\"8.1\",\"166\":\"8.1\",\"167\":\"8.3\",\"168\":\"8.1\",\"169\":\"8.3\",\"170\":\"8.2\",\"171\":\"8.1\",\"172\":\"8.3\",\"173\":\"8.1\",\"174\":\"8.3\",\"175\":\"8.2\",\"176\":\"8.4\",\"177\":\"8.0\",\"178\":\"8.1\",\"179\":\"8.4\",\"180\":\"8.1\",\"181\":\"8.3\",\"182\":\"8.3\",\"183\":\"8.1\",\"184\":\"8.1\",\"185\":\"8.4\",\"186\":\"8.1\",\"187\":\"8.1\",\"188\":\"8.3\",\"189\":\"8.3\",\"190\":\"8.1\",\"191\":\"8.1\",\"192\":\"8.3\",\"193\":\"8.4\",\"194\":\"8.1\",\"195\":\"8.1\",\"196\":\"8.1\",\"197\":\"8.2\",\"198\":\"8.2\",\"199\":\"8.3\",\"200\":\"8.1\",\"201\":\"8.1\",\"202\":\"8.1\",\"203\":\"8.5\",\"204\":\"8.2\",\"205\":\"8.3\",\"206\":\"8.5\",\"207\":\"8.2\",\"208\":\"8.2\",\"209\":\"8.2\",\"210\":\"8.1\",\"211\":\"8.3\",\"212\":\"8.1\",\"213\":\"8.1\",\"214\":\"8.2\",\"215\":\"8.1\"},\"stars\":{\"0\":\"Christopher Nolan, Cillian Murphy, Emily Blunt, Matt Damon, Robert Downey Jr.\",\"1\":\"Joaquim Dos Santos, Kemp Powers, Justin K. Thompson, Shameik Moore, Hailee Steinfeld, Brian Tyree Henry, Luna Lauren Velez\",\"2\":\"Christopher Nolan, Matthew McConaughey, Anne Hathaway, Jessica Chastain, Mackenzie Foy\",\"3\":\"Christopher Nolan, Christian Bale, Heath Ledger, Aaron Eckhart, Michael Caine\",\"4\":\"Christopher Nolan, Leonardo DiCaprio, Joseph Gordon-Levitt, Elliot Page, Ken Watanabe\",\"5\":\"Joseph Kosinski, Tom Cruise, Jennifer Connelly, Miles Teller, Val Kilmer\",\"6\":\"Frank Darabont, Tim Robbins, Morgan Freeman, Bob Gunton, William Sadler\",\"7\":\"Martin Scorsese, Leonardo DiCaprio, Jonah Hill, Margot Robbie, Matthew McConaughey\",\"8\":\"Christopher Nolan, Christian Bale, Hugh Jackman, Scarlett Johansson, Michael Caine\",\"9\":\"Steven Spielberg, Harrison Ford, Karen Allen, Paul Freeman, John Rhys-Davies\",\"10\":\"Francis Ford Coppola, Marlon Brando, Al Pacino, James Caan, Diane Keaton\",\"11\":\"Quentin Tarantino, John Travolta, Uma Thurman, Samuel L. Jackson, Bruce Willis\",\"12\":\"Bob Persichetti, Peter Ramsey, Rodney Rothman, Shameik Moore, Jake Johnson, Hailee Steinfeld, Mahershala Ali\",\"13\":\"Christopher Nolan, Guy Pearce, Carrie-Anne Moss, Joe Pantoliano, Mark Boone Junior\",\"14\":\"Steven Spielberg, Roy Scheider, Robert Shaw, Richard Dreyfuss, Lorraine Gary\",\"15\":\"Steven Spielberg, Harrison Ford, Sean Connery, Alison Doody, Denholm Elliott\",\"16\":\"Christopher Nolan, Christian Bale, Tom Hardy, Anne Hathaway, Gary Oldman\",\"17\":\"Steven Spielberg, Sam Neill, Laura Dern, Jeff Goldblum, Richard Attenborough\",\"18\":\"Quentin Tarantino, Brad Pitt, Diane Kruger, Eli Roth, M\\u00e9lanie Laurent\",\"19\":\"Christopher Nolan, Christian Bale, Michael Caine, Ken Watanabe, Liam Neeson\",\"20\":\"Jon Watts, Tom Holland, Zendaya, Benedict Cumberbatch, Jacob Batalon\",\"21\":\"Martin Scorsese, Leonardo DiCaprio, Matt Damon, Jack Nicholson, Mark Wahlberg\",\"22\":\"Michael Mann, Al Pacino, Robert De Niro, Val Kilmer, Jon Voight\",\"23\":\"Denis Villeneuve, Hugh Jackman, Jake Gyllenhaal, Viola Davis, Melissa Leo\",\"24\":\"Ethan Coen, Joel Coen, Tommy Lee Jones, Javier Bardem, Josh Brolin, Woody Harrelson\",\"25\":\"Peter Jackson, Elijah Wood, Ian McKellen, Orlando Bloom, Sean Bean\",\"26\":\"David Fincher, Brad Pitt, Edward Norton, Meat Loaf, Zach Grenier\",\"27\":\"Anthony Russo, Joe Russo, Robert Downey Jr., Chris Evans, Mark Ruffalo, Chris Hemsworth\",\"28\":\"Ridley Scott, Russell Crowe, Joaquin Phoenix, Connie Nielsen, Oliver Reed\",\"29\":\"Quentin Tarantino, Jamie Foxx, Christoph Waltz, Leonardo DiCaprio, Kerry Washington\",\"30\":\"Ridley Scott, Sigourney Weaver, Tom Skerritt, John Hurt, Veronica Cartwright\",\"31\":\"Todd Phillips, Joaquin Phoenix, Robert De Niro, Zazie Beetz, Frances Conroy\",\"32\":\"Robert Zemeckis, Michael J. Fox, Christopher Lloyd, Lea Thompson, Crispin Glover\",\"33\":\"David Fincher, Ben Affleck, Rosamund Pike, Neil Patrick Harris, Tyler Perry\",\"34\":\"Wes Anderson, Ralph Fiennes, F. Murray Abraham, Mathieu Amalric, Adrien Brody\",\"35\":\"David Fincher, Morgan Freeman, Brad Pitt, Kevin Spacey, Andrew Kevin Walker\",\"36\":\"James Cameron, Sigourney Weaver, Michael Biehn, Carrie Henn, Paul Reiser\",\"37\":\"Steven Spielberg, Liam Neeson, Ralph Fiennes, Ben Kingsley, Caroline Goodall\",\"38\":\"Robert Zemeckis, Tom Hanks, Robin Wright, Gary Sinise, Sally Field\",\"39\":\"Gore Verbinski, Johnny Depp, Geoffrey Rush, Orlando Bloom, Keira Knightley\",\"40\":\"Bong Joon Ho, Song Kang-ho, Lee Sun-kyun, Cho Yeo-jeong, Choi Woo-sik\",\"41\":\"Sam Mendes, Kevin Spacey, Annette Bening, Thora Birch, Wes Bentley\",\"42\":\"Martin Scorsese, Robert De Niro, Ray Liotta, Joe Pesci, Lorraine Bracco\",\"43\":\"Lana Wachowski, Lilly Wachowski, Keanu Reeves, Laurence Fishburne, Carrie-Anne Moss, Hugo Weaving\",\"44\":\"Damien Chazelle, Miles Teller, J.K. Simmons, Melissa Benoist, Paul Reiser\",\"45\":\"Steven Spielberg, Tom Hanks, Matt Damon, Tom Sizemore, Edward Burns\",\"46\":\"Jonathan Demme, Jodie Foster, Anthony Hopkins, Lawrence A. Bonney, Kasi Lemmons\",\"47\":\"Paul Thomas Anderson, Daniel Day-Lewis, Paul Dano, Ciar\\u00e1n Hinds, Martin Stringer\",\"48\":\"Martin Scorsese, Leonardo DiCaprio, Emily Mortimer, Mark Ruffalo, Ben Kingsley\",\"49\":\"Stanley Kubrick, Jack Nicholson, Shelley Duvall, Danny Lloyd, Scatman Crothers\",\"50\":\"Darren Aronofsky, Ellen Burstyn, Jared Leto, Jennifer Connelly, Marlon Wayans\",\"51\":\"Luc Besson, Jean Reno, Gary Oldman, Natalie Portman, Danny Aiello\",\"52\":\"Gus Van Sant, Robin Williams, Matt Damon, Ben Affleck, Stellan Skarsg\\u00e5rd\",\"53\":\"George Miller, Tom Hardy, Charlize Theron, Nicholas Hoult, Zo\\u00eb Kravitz\",\"54\":\"James Cameron, Arnold Schwarzenegger, Linda Hamilton, Edward Furlong, Robert Patrick\",\"55\":\"Sidney Lumet, Henry Fonda, Lee J. Cobb, Martin Balsam, John Fiedler\",\"56\":\"Mel Gibson, Andrew Garfield, Sam Worthington, Luke Bracey, Teresa Palmer\",\"57\":\"Martin Scorsese, Robert De Niro, Jodie Foster, Cybill Shepherd, Albert Brooks\",\"58\":\"Milos Forman, Jack Nicholson, Louise Fletcher, Michael Berryman, Peter Brocco\",\"59\":\"Peter Weir, Jim Carrey, Ed Harris, Laura Linney, Noah Emmerich\",\"60\":\"Frank Darabont, Tom Hanks, Michael Clarke Duncan, David Morse, Bonnie Hunt\",\"61\":\"Ridley Scott, Harrison Ford, Rutger Hauer, Sean Young, Edward James Olmos\",\"62\":\"James Cameron, Arnold Schwarzenegger, Linda Hamilton, Michael Biehn, Paul Winfield\",\"63\":\"Sam Mendes, Dean-Charles Chapman, George MacKay, Daniel Mays, Colin Firth\",\"64\":\"Peter Jackson, Elijah Wood, Viggo Mortensen, Ian McKellen, Orlando Bloom\",\"65\":\"Rob Reiner, Wil Wheaton, River Phoenix, Corey Feldman, Jerry O'Connell\",\"66\":\"Roman Polanski, Adrien Brody, Thomas Kretschmann, Frank Finlay, Emilia Fox\",\"67\":\"Francis Ford Coppola, Martin Sheen, Marlon Brando, Robert Duvall, Frederic Forrest\",\"68\":\"Francis Ford Coppola, Al Pacino, Robert De Niro, Robert Duvall, Diane Keaton\",\"69\":\"George Lucas, Mark Hamill, Harrison Ford, Carrie Fisher, Alec Guinness\",\"70\":\"Steven Spielberg, Leonardo DiCaprio, Tom Hanks, Christopher Walken, Martin Sheen\",\"71\":\"Brian De Palma, Al Pacino, Michelle Pfeiffer, Steven Bauer, Mary Elizabeth Mastrantonio\",\"72\":\"Stanley Kubrick, Keir Dullea, Gary Lockwood, William Sylvester, Daniel Richter\",\"73\":\"Bryan Singer, Kevin Spacey, Gabriel Byrne, Chazz Palminteri, Stephen Baldwin\",\"74\":\"Anthony Russo, Joe Russo, Robert Downey Jr., Chris Hemsworth, Mark Ruffalo, Chris Evans\",\"75\":\"Thomas Vinterberg, Mads Mikkelsen, Thomas Bo Larsen, Annika Wedderkopp, Lasse Fogelstr\\u00f8m\",\"76\":\"James Mangold, Hugh Jackman, Patrick Stewart, Dafne Keen, Boyd Holbrook\",\"77\":\"James Mangold, Matt Damon, Christian Bale, Jon Bernthal, Caitr\\u00edona Balfe\",\"78\":\"Victor Fleming, George Cukor, Mervyn LeRoy, Norman Taurog, Richard Thorpe, King Vidor, Judy Garland, Frank Morgan, Ray Bolger, Bert Lahr\",\"79\":\"Mel Gibson, Sophie Marceau, Patrick McGoohan, Angus Macfadyen\",\"80\":\"David Yates, Daniel Radcliffe, Emma Watson, Rupert Grint, Michael Gambon\",\"81\":\"Michel Gondry, Jim Carrey, Kate Winslet, Tom Wilkinson, Gerry Robert Byrne\",\"82\":\"John McTiernan, Bruce Willis, Alan Rickman, Bonnie Bedelia, Reginald VelJohnson\",\"83\":\"Joel Coen, Ethan Coen, Jeff Bridges, John Goodman, Julianne Moore, Steve Buscemi\",\"84\":\"Stuart Rosenberg, Paul Newman, George Kennedy, Strother Martin, J.D. Cannon\",\"85\":\"Sergio Leone, Robert De Niro, James Woods, Elizabeth McGovern, Treat Williams\",\"86\":\"Stanley Kubrick, Malcolm McDowell, Patrick Magee, Michael Bates, Warren Clarke\",\"87\":\"Guy Ritchie, Jason Statham, Brad Pitt, Stephen Graham, Vinnie Jones\",\"88\":\"William Friedkin, Ellen Burstyn, Max von Sydow, Linda Blair, Lee J. Cobb\",\"89\":\"Martin Scorsese, Robert De Niro, Sharon Stone, Joe Pesci, James Woods\",\"90\":\"Roger Allers, Rob Minkoff, Matthew Broderick, Jeremy Irons, James Earl Jones, Whoopi Goldberg\",\"91\":\"Quentin Tarantino, Harvey Keitel, Tim Roth, Michael Madsen, Chris Penn\",\"92\":\"Brad Bird, Jan Pinkava, Brad Garrett, Lou Romano, Patton Oswalt, Ian Holm\",\"93\":\"Peter Farrelly, Viggo Mortensen, Mahershala Ali, Linda Cardellini, Sebastian Maniscalco\",\"94\":\"Tony Kaye, Edward Norton, Edward Furlong, Beverly D'Angelo, Jennifer Lien\",\"95\":\"Sergio Leone, Clint Eastwood, Eli Wallach, Lee Van Cleef, Aldo Giuffr\\u00e8\",\"96\":\"Stanley Kubrick, Matthew Modine, R. Lee Ermey, Vincent D'Onofrio, Adam Baldwin\",\"97\":\"Joel Coen, Ethan Coen, William H. Macy, Frances McDormand, Steve Buscemi, Peter Stormare\",\"98\":\"Milos Forman, F. Murray Abraham, Tom Hulce, Elizabeth Berridge, Roy Dotrice\",\"99\":\"Peter Jackson, Elijah Wood, Ian McKellen, Viggo Mortensen, Orlando Bloom\",\"100\":\"Tate Taylor, Viola Davis, Emma Stone, Octavia Spencer, Bryce Dallas Howard\",\"101\":\"Pete Docter, Ronnie Del Carmen, Amy Poehler, Bill Hader, Lewis Black, Mindy Kaling\",\"102\":\"John Carpenter, Kurt Russell, Wilford Brimley, Keith David, Richard Masur\",\"103\":\"M. Night Shyamalan, Bruce Willis, Haley Joel Osment, Toni Collette, Olivia Williams\",\"104\":\"Quentin Tarantino, Uma Thurman, David Carradine, Daryl Hannah, Michael Madsen\",\"105\":\"John Lasseter, Tom Hanks, Tim Allen, Don Rickles, Jim Varney\",\"106\":\"Gavin O'Connor, Tom Hardy, Nick Nolte, Joel Edgerton, Jennifer Morrison\",\"107\":\"Martin McDonagh, Frances McDormand, Woody Harrelson, Sam Rockwell, Caleb Landry Jones\",\"108\":\"Ron Howard, Russell Crowe, Ed Harris, Jennifer Connelly, Christopher Plummer\",\"109\":\"Olivier Nakache, \\u00c9ric Toledano, Fran\\u00e7ois Cluzet, Omar Sy, Anne Le Ny, Audrey Fleurot\",\"110\":\"Peter Weir, Robin Williams, Robert Sean Leonard, Ethan Hawke, Josh Charles\",\"111\":\"Brad Bird, Craig T. Nelson, Samuel L. Jackson, Holly Hunter, Jason Lee\",\"112\":\"Michael Curtiz, Humphrey Bogart, Ingrid Bergman, Paul Henreid, Claude Rains\",\"113\":\"Thomas Kail, Lin-Manuel Miranda, Phillipa Soo, Leslie Odom Jr., Ren\\u00e9e Elise Goldsberry\",\"114\":\"Curtis Hanson, Kevin Spacey, Russell Crowe, Guy Pearce, Kim Basinger\",\"115\":\"John G. Avildsen, Sylvester Stallone, Talia Shire, Burt Young, Carl Weathers\",\"116\":\"Danny Boyle, Ewan McGregor, Ewen Bremner, Jonny Lee Miller, Kevin McKidd\",\"117\":\"Alfred Hitchcock, Anthony Perkins, Janet Leigh, Vera Miles, John Gavin\",\"118\":\"Roberto Benigni, Nicoletta Braschi, Giorgio Cantarini, Giustino Durano\",\"119\":\"Andrew Stanton, Lee Unkrich, Albert Brooks, Ellen DeGeneres, Alexander Gould, Willem Dafoe\",\"120\":\"Florian Zeller, Anthony Hopkins, Olivia Colman, Mark Gatiss, Olivia Williams\",\"121\":\"Denis Villeneuve, Lubna Azabal, M\\u00e9lissa D\\u00e9sormeaux-Poulin, Maxim Gaudette, Mustafa Kamel\",\"122\":\"Sean Penn, Emile Hirsch, Vince Vaughn, Catherine Keener, Marcia Gay Harden\",\"123\":\"Pete Docter, Bob Peterson, Edward Asner, Jordan Nagai, John Ratzenberger, Christopher Plummer\",\"124\":\"Ron Howard, Daniel Br\\u00fchl, Chris Hemsworth, Olivia Wilde, Alexandra Maria Lara\",\"125\":\"Irvin Kershner, Mark Hamill, Harrison Ford, Carrie Fisher, Billy Dee Williams\",\"126\":\"Lee Unkrich, Adrian Molina, Anthony Gonzalez, Gael Garc\\u00eda Bernal, Benjamin Bratt, Alanna Ubach\",\"127\":\"Tom McCarthy, Mark Ruffalo, Michael Keaton, Rachel McAdams, Liev Schreiber\",\"128\":\"Bong Joon Ho, Song Kang-ho, Kim Sang-kyung, Roe-ha Kim, Jae-ho Song\",\"129\":\"Pete Docter, David Silverman, Lee Unkrich, Billy Crystal, John Goodman, Mary Gibbs, Steve Buscemi\",\"130\":\"Richard Linklater, Ethan Hawke, Julie Delpy, Andrea Eckert, Hanno P\\u00f6schl\",\"131\":\"Stanley Kubrick, Peter Sellers, George C. Scott, Sterling Hayden, Keenan Wynn\",\"132\":\"James McTeigue, Hugo Weaving, Natalie Portman, Rupert Graves, Stephen Rea\",\"133\":\"Sergio Leone, Henry Fonda, Charles Bronson, Claudia Cardinale, Jason Robards\",\"134\":\"Richard Marquand, Mark Hamill, Harrison Ford, Carrie Fisher, Billy Dee Williams\",\"135\":\"David Lean, Peter O'Toole, Alec Guinness, Anthony Quinn, Jack Hawkins\",\"136\":\"Andrew Stanton, Ben Burtt, Elissa Knight, Jeff Garlin, Fred Willard\",\"137\":\"Oliver Stone, Charlie Sheen, Tom Berenger, Willem Dafoe, Keith David\",\"138\":\"Michael Cimino, Robert De Niro, Christopher Walken, John Cazale, John Savage\",\"139\":\"Victor Fleming, George Cukor, Sam Wood, Clark Gable, Vivien Leigh, Thomas Mitchell, Barbara O'Neil\",\"140\":\"Lenny Abrahamson, Brie Larson, Jacob Tremblay, Sean Bridgers, Wendy Crewson\",\"141\":\"Oliver Hirschbiegel, Bruno Ganz, Alexandra Maria Lara, Ulrich Matthes, Juliane K\\u00f6hler\",\"142\":\"Jean-Pierre Jeunet, Audrey Tautou, Mathieu Kassovitz, Rufus, Lorella Cravotta\",\"143\":\"Robert Wise, Julie Andrews, Christopher Plummer, Eleanor Parker, Richard Haydn\",\"144\":\"Kevin Costner, Mary McDonnell, Graham Greene, Rodney A. Grant\",\"145\":\"Guy Ritchie, Jason Flemyng, Dexter Fletcher, Nick Moran, Jason Statham\",\"146\":\"Roman Polanski, Jack Nicholson, Faye Dunaway, John Huston, Perry Lopez\",\"147\":\"Ron Clements, John Musker, Scott Weinger, Robin Williams, Linda Larkin, Jonathan Freeman\",\"148\":\"Clint Eastwood, Gene Hackman, Morgan Freeman, Richard Harris\",\"149\":\"Harold Ramis, Bill Murray, Andie MacDowell, Chris Elliott, Stephen Tobolowsky\",\"150\":\"Dean DeBlois, Chris Sanders, Jay Baruchel, Gerard Butler, Christopher Mintz-Plasse, Craig Ferguson\",\"151\":\"Steve McQueen, Chiwetel Ejiofor, Michael Kenneth Williams, Michael Fassbender, Brad Pitt\",\"152\":\"Lee Unkrich, Tom Hanks, Tim Allen, Joan Cusack, Ned Beatty\",\"153\":\"Rajkumar Hirani, Aamir Khan, Madhavan, Mona Singh, Sharman Joshi\",\"154\":\"Frank Capra, James Stewart, Donna Reed, Lionel Barrymore, Thomas Mitchell\",\"155\":\"Alfred Hitchcock, Ray Milland, Grace Kelly, Robert Cummings, John Williams\",\"156\":\"Alfred Hitchcock, James Stewart, Grace Kelly, Wendell Corey, Thelma Ritter\",\"157\":\"Stanley Kubrick, Ryan O'Neal, Marisa Berenson, Patrick Magee, Hardy Kr\\u00fcger\",\"158\":\"Terry Gilliam, Terry Jones, Graham Chapman, John Cleese, Eric Idle\",\"159\":\"Stanley Donen, Gene Kelly, Donald O'Connor, Debbie Reynolds, Jean Hagen\",\"160\":\"Orson Welles, Joseph Cotten, Dorothy Comingore, Agnes Moorehead\",\"161\":\"Alfred Hitchcock, James Stewart, Kim Novak, Barbara Bel Geddes, Tom Helmore\",\"162\":\"Billy Wilder, Marilyn Monroe, Tony Curtis, Jack Lemmon, George Raft\",\"163\":\"Martin Scorsese, Robert De Niro, Cathy Moriarty, Joe Pesci, Frank Vincent\",\"164\":\"John Sturges, Steve McQueen, James Garner, Richard Attenborough, Charles Bronson\",\"165\":\"Clint Eastwood, Bee Vang, Christopher Carley, Ahney Her\",\"166\":\"Clint Eastwood, Hilary Swank, Morgan Freeman, Jay Baruchel\",\"167\":\"Robert Mulligan, Gregory Peck, John Megna, Frank Overton, Rosemary Murphy\",\"168\":\"Lasse Hallstr\\u00f6m, Richard Gere, Joan Allen, Cary-Hiroyuki Tagawa, Sarah Roemer\",\"169\":\"Fritz Lang, Brigitte Helm, Alfred Abel, Gustav Fr\\u00f6hlich, Rudolf Klein-Rogge\",\"170\":\"Sergio Leone, Clint Eastwood, Lee Van Cleef, Gian Maria Volont\\u00e8, Mara Krupp\",\"171\":\"Brad Bird, Eli Marienthal, Harry Connick Jr., Jennifer Aniston, Vin Diesel\",\"172\":\"Alfred Hitchcock, Cary Grant, Eva Marie Saint, James Mason, Jessie Royce Landis\",\"173\":\"Richard Linklater, Ethan Hawke, Julie Delpy, Vernon Dobtcheff, Louise Lemoine Torr\\u00e8s\",\"174\":\"George Roy Hill, Paul Newman, Robert Redford, Robert Shaw, Charles Durning\",\"175\":\"David Lynch, Anthony Hopkins, John Hurt, Anne Bancroft, John Gielgud\",\"176\":\"Billy Wilder, William Holden, Gloria Swanson, Erich von Stroheim, Nancy Olson\",\"177\":\"Terry Jones, Graham Chapman, John Cleese, Michael Palin, Terry Gilliam\",\"178\":\"William Wyler, Charlton Heston, Jack Hawkins, Stephen Boyd, Haya Harareet\",\"179\":\"Stanley Kubrick, Kirk Douglas, Ralph Meeker, Adolphe Menjou, George Macready\",\"180\":\"Carol Reed, Orson Welles, Joseph Cotten, Alida Valli, Trevor Howard\",\"181\":\"Billy Wilder, Jack Lemmon, Shirley MacLaine, Fred MacMurray, Ray Walston\",\"182\":\"Stanley Kramer, Spencer Tracy, Burt Lancaster, Richard Widmark, Marlene Dietrich\",\"183\":\"David Lean, William Holden, Alec Guinness, Jack Hawkins, Sessue Hayakawa\",\"184\":\"Ingmar Bergman, Bibi Andersson, Liv Ullmann, Margaretha Krook, Gunnar Bj\\u00f6rnstrand\",\"185\":\"Billy Wilder, Tyrone Power, Marlene Dietrich, Charles Laughton, Elsa Lanchester\",\"186\":\"Sidney Lumet, Faye Dunaway, William Holden, Peter Finch, Robert Duvall\",\"187\":\"Jim Sheridan, Daniel Day-Lewis, Pete Postlethwaite, Alison Crosbie, Philip King\",\"188\":\"Nitesh Tiwari, Aamir Khan, Sakshi Tanwar, Fatima Sana Shaikh, Sanya Malhotra\",\"189\":\"Billy Wilder, Fred MacMurray, Barbara Stanwyck, Edward G. Robinson, Byron Barr\",\"190\":\"Terry George, Don Cheadle, Sophie Okonedo, Joaquin Phoenix, Xolani Mali\",\"191\":\"Elia Kazan, Marlon Brando, Karl Malden, Lee J. Cobb, Rod Steiger\",\"192\":\"Akira Kurosawa, Takashi Shimura, Nobuo Kaneko, Shin'ichi Himori, Haruo Tanaka\",\"193\":\"Charles Chaplin, Paulette Goddard, Jack Oakie, Reginald Gardiner\",\"194\":\"Frank Capra, Clark Gable, Claudette Colbert, Walter Connolly, Roscoe Karns\",\"195\":\"Alfred Hitchcock, Laurence Olivier, Joan Fontaine, George Sanders, Judith Anderson\",\"196\":\"Adam Elliot, Toni Collette, Philip Seymour Hoffman, Eric Bana, Barry Humphries\",\"197\":\"Joseph L. Mankiewicz, Bette Davis, Anne Baxter, George Sanders, Celeste Holm\",\"198\":\"Sergio Pablos, Carlos Mart\\u00ednez L\\u00f3pez, Jason Schwartzman, J.K. Simmons, Rashida Jones, Will Sasso\",\"199\":\"Aamir Khan, Amole Gupte, Darsheel Safary, Tanay Chheda, Sachet Engineer\",\"200\":\"William Wyler, Myrna Loy, Dana Andrews, Fredric March, Teresa Wright\",\"201\":\"Fran\\u00e7ois Truffaut, Jean-Pierre L\\u00e9aud, Albert R\\u00e9my, Claire Maurier, Guy Decomble\",\"202\":\"John Ford, Henry Fonda, Jane Darwell, John Carradine, Charley Grapewin\",\"203\":\"Charles Chaplin, Paulette Goddard, Henry Bergman, Tiny Sandford\",\"204\":\"Yasujir\\u00f4 Ozu, Chish\\u00fb Ry\\u00fb, Chieko Higashiyama, S\\u00f4 Yamamura, Setsuko Hara\",\"205\":\"Vittorio De Sica, Lamberto Maggiorani, Enzo Staiola, Lianella Carell, Elena Altieri\",\"206\":\"Charles Chaplin, Virginia Cherrill, Florence Lee, Harry Myers\",\"207\":\"John Huston, Humphrey Bogart, Walter Huston, Tim Holt, Bruce Bennett\",\"208\":\"Henri-Georges Clouzot, Yves Montand, Charles Vanel, Peter van Eyck, Folco Lulli\",\"209\":\"Ernst Lubitsch, Carole Lombard, Jack Benny, Robert Stack, Felix Bressart\",\"210\":\"Gillo Pontecorvo, Brahim Hadjadj, Jean Martin, Yacef Saadi, Samia Kerbash\",\"211\":\"Charles Chaplin, Edna Purviance, Jackie Coogan, Carl Miller\",\"212\":\"Frank Capra, James Stewart, Jean Arthur, Claude Rains, Edward Arnold\",\"213\":\"Clyde Bruckman, Buster Keaton, Marion Mack, Glen Cavender, Jim Farley\",\"214\":\"Buster Keaton, Kathryn McGuire, Joe Keaton, Erwin Connelly\",\"215\":\"Charles Chaplin, Mack Swain, Tom Murray, Henry Bergman\"}}\n"
     ]
    }
   ],
   "source": [
    "movies_js=movies_cleaned.to_json()\n",
    "print(movies_js)"
   ]
  },
  {
   "cell_type": "code",
   "execution_count": 4,
   "metadata": {},
   "outputs": [
    {
     "name": "stdout",
     "output_type": "stream",
     "text": [
      "Drama        148\n",
      "Adventure     57\n",
      "Crime         45\n",
      "Action        45\n",
      "Comedy        42\n",
      "Biography     27\n",
      "Thriller      25\n",
      "Mystery       24\n",
      "Sci-Fi        20\n",
      "Romance       19\n",
      "Animation     18\n",
      "War           18\n",
      "Fantasy       11\n",
      "History        9\n",
      "Family         8\n",
      "Western        7\n",
      "Horror         5\n",
      "Music          4\n",
      "Sport          4\n",
      "Film-Noir      4\n",
      "Musical        1\n",
      "Name: genres, dtype: int64\n"
     ]
    }
   ],
   "source": [
    "df = pd.DataFrame(movies_cleaned)\n",
    "\n",
    "# Count occurrences of each genre\n",
    "genre_counts = df['genres'].str.split(', ').explode().value_counts()\n",
    "\n",
    "print(genre_counts)"
   ]
  },
  {
   "cell_type": "markdown",
   "metadata": {},
   "source": [
    "From the data we can see the percentage from the 250 top moives "
   ]
  },
  {
   "cell_type": "code",
   "execution_count": 9,
   "metadata": {},
   "outputs": [
    {
     "data": {
      "application/vnd.plotly.v1+json": {
       "config": {
        "plotlyServerURL": "https://plot.ly"
       },
       "data": [
        {
         "labels": [
          "Drama",
          "Adventure",
          "Crime",
          "Action",
          "Comedy",
          "Biography",
          "Thriller",
          "Mystery",
          "Sci-Fi",
          "Romance",
          "Animation",
          "War",
          "Fantasy",
          "History",
          "Family",
          "Western",
          "Horror",
          "Music",
          "Sport",
          "Film-Noir",
          "Musical"
         ],
         "type": "pie",
         "values": [
          148,
          57,
          45,
          45,
          42,
          27,
          25,
          24,
          20,
          19,
          18,
          18,
          11,
          9,
          8,
          7,
          5,
          4,
          4,
          4,
          1
         ]
        }
       ],
       "layout": {
        "template": {
         "data": {
          "bar": [
           {
            "error_x": {
             "color": "#2a3f5f"
            },
            "error_y": {
             "color": "#2a3f5f"
            },
            "marker": {
             "line": {
              "color": "#E5ECF6",
              "width": 0.5
             },
             "pattern": {
              "fillmode": "overlay",
              "size": 10,
              "solidity": 0.2
             }
            },
            "type": "bar"
           }
          ],
          "barpolar": [
           {
            "marker": {
             "line": {
              "color": "#E5ECF6",
              "width": 0.5
             },
             "pattern": {
              "fillmode": "overlay",
              "size": 10,
              "solidity": 0.2
             }
            },
            "type": "barpolar"
           }
          ],
          "carpet": [
           {
            "aaxis": {
             "endlinecolor": "#2a3f5f",
             "gridcolor": "white",
             "linecolor": "white",
             "minorgridcolor": "white",
             "startlinecolor": "#2a3f5f"
            },
            "baxis": {
             "endlinecolor": "#2a3f5f",
             "gridcolor": "white",
             "linecolor": "white",
             "minorgridcolor": "white",
             "startlinecolor": "#2a3f5f"
            },
            "type": "carpet"
           }
          ],
          "choropleth": [
           {
            "colorbar": {
             "outlinewidth": 0,
             "ticks": ""
            },
            "type": "choropleth"
           }
          ],
          "contour": [
           {
            "colorbar": {
             "outlinewidth": 0,
             "ticks": ""
            },
            "colorscale": [
             [
              0,
              "#0d0887"
             ],
             [
              0.1111111111111111,
              "#46039f"
             ],
             [
              0.2222222222222222,
              "#7201a8"
             ],
             [
              0.3333333333333333,
              "#9c179e"
             ],
             [
              0.4444444444444444,
              "#bd3786"
             ],
             [
              0.5555555555555556,
              "#d8576b"
             ],
             [
              0.6666666666666666,
              "#ed7953"
             ],
             [
              0.7777777777777778,
              "#fb9f3a"
             ],
             [
              0.8888888888888888,
              "#fdca26"
             ],
             [
              1,
              "#f0f921"
             ]
            ],
            "type": "contour"
           }
          ],
          "contourcarpet": [
           {
            "colorbar": {
             "outlinewidth": 0,
             "ticks": ""
            },
            "type": "contourcarpet"
           }
          ],
          "heatmap": [
           {
            "colorbar": {
             "outlinewidth": 0,
             "ticks": ""
            },
            "colorscale": [
             [
              0,
              "#0d0887"
             ],
             [
              0.1111111111111111,
              "#46039f"
             ],
             [
              0.2222222222222222,
              "#7201a8"
             ],
             [
              0.3333333333333333,
              "#9c179e"
             ],
             [
              0.4444444444444444,
              "#bd3786"
             ],
             [
              0.5555555555555556,
              "#d8576b"
             ],
             [
              0.6666666666666666,
              "#ed7953"
             ],
             [
              0.7777777777777778,
              "#fb9f3a"
             ],
             [
              0.8888888888888888,
              "#fdca26"
             ],
             [
              1,
              "#f0f921"
             ]
            ],
            "type": "heatmap"
           }
          ],
          "heatmapgl": [
           {
            "colorbar": {
             "outlinewidth": 0,
             "ticks": ""
            },
            "colorscale": [
             [
              0,
              "#0d0887"
             ],
             [
              0.1111111111111111,
              "#46039f"
             ],
             [
              0.2222222222222222,
              "#7201a8"
             ],
             [
              0.3333333333333333,
              "#9c179e"
             ],
             [
              0.4444444444444444,
              "#bd3786"
             ],
             [
              0.5555555555555556,
              "#d8576b"
             ],
             [
              0.6666666666666666,
              "#ed7953"
             ],
             [
              0.7777777777777778,
              "#fb9f3a"
             ],
             [
              0.8888888888888888,
              "#fdca26"
             ],
             [
              1,
              "#f0f921"
             ]
            ],
            "type": "heatmapgl"
           }
          ],
          "histogram": [
           {
            "marker": {
             "pattern": {
              "fillmode": "overlay",
              "size": 10,
              "solidity": 0.2
             }
            },
            "type": "histogram"
           }
          ],
          "histogram2d": [
           {
            "colorbar": {
             "outlinewidth": 0,
             "ticks": ""
            },
            "colorscale": [
             [
              0,
              "#0d0887"
             ],
             [
              0.1111111111111111,
              "#46039f"
             ],
             [
              0.2222222222222222,
              "#7201a8"
             ],
             [
              0.3333333333333333,
              "#9c179e"
             ],
             [
              0.4444444444444444,
              "#bd3786"
             ],
             [
              0.5555555555555556,
              "#d8576b"
             ],
             [
              0.6666666666666666,
              "#ed7953"
             ],
             [
              0.7777777777777778,
              "#fb9f3a"
             ],
             [
              0.8888888888888888,
              "#fdca26"
             ],
             [
              1,
              "#f0f921"
             ]
            ],
            "type": "histogram2d"
           }
          ],
          "histogram2dcontour": [
           {
            "colorbar": {
             "outlinewidth": 0,
             "ticks": ""
            },
            "colorscale": [
             [
              0,
              "#0d0887"
             ],
             [
              0.1111111111111111,
              "#46039f"
             ],
             [
              0.2222222222222222,
              "#7201a8"
             ],
             [
              0.3333333333333333,
              "#9c179e"
             ],
             [
              0.4444444444444444,
              "#bd3786"
             ],
             [
              0.5555555555555556,
              "#d8576b"
             ],
             [
              0.6666666666666666,
              "#ed7953"
             ],
             [
              0.7777777777777778,
              "#fb9f3a"
             ],
             [
              0.8888888888888888,
              "#fdca26"
             ],
             [
              1,
              "#f0f921"
             ]
            ],
            "type": "histogram2dcontour"
           }
          ],
          "mesh3d": [
           {
            "colorbar": {
             "outlinewidth": 0,
             "ticks": ""
            },
            "type": "mesh3d"
           }
          ],
          "parcoords": [
           {
            "line": {
             "colorbar": {
              "outlinewidth": 0,
              "ticks": ""
             }
            },
            "type": "parcoords"
           }
          ],
          "pie": [
           {
            "automargin": true,
            "type": "pie"
           }
          ],
          "scatter": [
           {
            "fillpattern": {
             "fillmode": "overlay",
             "size": 10,
             "solidity": 0.2
            },
            "type": "scatter"
           }
          ],
          "scatter3d": [
           {
            "line": {
             "colorbar": {
              "outlinewidth": 0,
              "ticks": ""
             }
            },
            "marker": {
             "colorbar": {
              "outlinewidth": 0,
              "ticks": ""
             }
            },
            "type": "scatter3d"
           }
          ],
          "scattercarpet": [
           {
            "marker": {
             "colorbar": {
              "outlinewidth": 0,
              "ticks": ""
             }
            },
            "type": "scattercarpet"
           }
          ],
          "scattergeo": [
           {
            "marker": {
             "colorbar": {
              "outlinewidth": 0,
              "ticks": ""
             }
            },
            "type": "scattergeo"
           }
          ],
          "scattergl": [
           {
            "marker": {
             "colorbar": {
              "outlinewidth": 0,
              "ticks": ""
             }
            },
            "type": "scattergl"
           }
          ],
          "scattermapbox": [
           {
            "marker": {
             "colorbar": {
              "outlinewidth": 0,
              "ticks": ""
             }
            },
            "type": "scattermapbox"
           }
          ],
          "scatterpolar": [
           {
            "marker": {
             "colorbar": {
              "outlinewidth": 0,
              "ticks": ""
             }
            },
            "type": "scatterpolar"
           }
          ],
          "scatterpolargl": [
           {
            "marker": {
             "colorbar": {
              "outlinewidth": 0,
              "ticks": ""
             }
            },
            "type": "scatterpolargl"
           }
          ],
          "scatterternary": [
           {
            "marker": {
             "colorbar": {
              "outlinewidth": 0,
              "ticks": ""
             }
            },
            "type": "scatterternary"
           }
          ],
          "surface": [
           {
            "colorbar": {
             "outlinewidth": 0,
             "ticks": ""
            },
            "colorscale": [
             [
              0,
              "#0d0887"
             ],
             [
              0.1111111111111111,
              "#46039f"
             ],
             [
              0.2222222222222222,
              "#7201a8"
             ],
             [
              0.3333333333333333,
              "#9c179e"
             ],
             [
              0.4444444444444444,
              "#bd3786"
             ],
             [
              0.5555555555555556,
              "#d8576b"
             ],
             [
              0.6666666666666666,
              "#ed7953"
             ],
             [
              0.7777777777777778,
              "#fb9f3a"
             ],
             [
              0.8888888888888888,
              "#fdca26"
             ],
             [
              1,
              "#f0f921"
             ]
            ],
            "type": "surface"
           }
          ],
          "table": [
           {
            "cells": {
             "fill": {
              "color": "#EBF0F8"
             },
             "line": {
              "color": "white"
             }
            },
            "header": {
             "fill": {
              "color": "#C8D4E3"
             },
             "line": {
              "color": "white"
             }
            },
            "type": "table"
           }
          ]
         },
         "layout": {
          "annotationdefaults": {
           "arrowcolor": "#2a3f5f",
           "arrowhead": 0,
           "arrowwidth": 1
          },
          "autotypenumbers": "strict",
          "coloraxis": {
           "colorbar": {
            "outlinewidth": 0,
            "ticks": ""
           }
          },
          "colorscale": {
           "diverging": [
            [
             0,
             "#8e0152"
            ],
            [
             0.1,
             "#c51b7d"
            ],
            [
             0.2,
             "#de77ae"
            ],
            [
             0.3,
             "#f1b6da"
            ],
            [
             0.4,
             "#fde0ef"
            ],
            [
             0.5,
             "#f7f7f7"
            ],
            [
             0.6,
             "#e6f5d0"
            ],
            [
             0.7,
             "#b8e186"
            ],
            [
             0.8,
             "#7fbc41"
            ],
            [
             0.9,
             "#4d9221"
            ],
            [
             1,
             "#276419"
            ]
           ],
           "sequential": [
            [
             0,
             "#0d0887"
            ],
            [
             0.1111111111111111,
             "#46039f"
            ],
            [
             0.2222222222222222,
             "#7201a8"
            ],
            [
             0.3333333333333333,
             "#9c179e"
            ],
            [
             0.4444444444444444,
             "#bd3786"
            ],
            [
             0.5555555555555556,
             "#d8576b"
            ],
            [
             0.6666666666666666,
             "#ed7953"
            ],
            [
             0.7777777777777778,
             "#fb9f3a"
            ],
            [
             0.8888888888888888,
             "#fdca26"
            ],
            [
             1,
             "#f0f921"
            ]
           ],
           "sequentialminus": [
            [
             0,
             "#0d0887"
            ],
            [
             0.1111111111111111,
             "#46039f"
            ],
            [
             0.2222222222222222,
             "#7201a8"
            ],
            [
             0.3333333333333333,
             "#9c179e"
            ],
            [
             0.4444444444444444,
             "#bd3786"
            ],
            [
             0.5555555555555556,
             "#d8576b"
            ],
            [
             0.6666666666666666,
             "#ed7953"
            ],
            [
             0.7777777777777778,
             "#fb9f3a"
            ],
            [
             0.8888888888888888,
             "#fdca26"
            ],
            [
             1,
             "#f0f921"
            ]
           ]
          },
          "colorway": [
           "#636efa",
           "#EF553B",
           "#00cc96",
           "#ab63fa",
           "#FFA15A",
           "#19d3f3",
           "#FF6692",
           "#B6E880",
           "#FF97FF",
           "#FECB52"
          ],
          "font": {
           "color": "#2a3f5f"
          },
          "geo": {
           "bgcolor": "white",
           "lakecolor": "white",
           "landcolor": "#E5ECF6",
           "showlakes": true,
           "showland": true,
           "subunitcolor": "white"
          },
          "hoverlabel": {
           "align": "left"
          },
          "hovermode": "closest",
          "mapbox": {
           "style": "light"
          },
          "paper_bgcolor": "white",
          "plot_bgcolor": "#E5ECF6",
          "polar": {
           "angularaxis": {
            "gridcolor": "white",
            "linecolor": "white",
            "ticks": ""
           },
           "bgcolor": "#E5ECF6",
           "radialaxis": {
            "gridcolor": "white",
            "linecolor": "white",
            "ticks": ""
           }
          },
          "scene": {
           "xaxis": {
            "backgroundcolor": "#E5ECF6",
            "gridcolor": "white",
            "gridwidth": 2,
            "linecolor": "white",
            "showbackground": true,
            "ticks": "",
            "zerolinecolor": "white"
           },
           "yaxis": {
            "backgroundcolor": "#E5ECF6",
            "gridcolor": "white",
            "gridwidth": 2,
            "linecolor": "white",
            "showbackground": true,
            "ticks": "",
            "zerolinecolor": "white"
           },
           "zaxis": {
            "backgroundcolor": "#E5ECF6",
            "gridcolor": "white",
            "gridwidth": 2,
            "linecolor": "white",
            "showbackground": true,
            "ticks": "",
            "zerolinecolor": "white"
           }
          },
          "shapedefaults": {
           "line": {
            "color": "#2a3f5f"
           }
          },
          "ternary": {
           "aaxis": {
            "gridcolor": "white",
            "linecolor": "white",
            "ticks": ""
           },
           "baxis": {
            "gridcolor": "white",
            "linecolor": "white",
            "ticks": ""
           },
           "bgcolor": "#E5ECF6",
           "caxis": {
            "gridcolor": "white",
            "linecolor": "white",
            "ticks": ""
           }
          },
          "title": {
           "x": 0.05
          },
          "xaxis": {
           "automargin": true,
           "gridcolor": "white",
           "linecolor": "white",
           "ticks": "",
           "title": {
            "standoff": 15
           },
           "zerolinecolor": "white",
           "zerolinewidth": 2
          },
          "yaxis": {
           "automargin": true,
           "gridcolor": "white",
           "linecolor": "white",
           "ticks": "",
           "title": {
            "standoff": 15
           },
           "zerolinecolor": "white",
           "zerolinewidth": 2
          }
         }
        },
        "title": {
         "text": "Genre"
        }
       }
      }
     },
     "metadata": {},
     "output_type": "display_data"
    }
   ],
   "source": [
    "fig = go.Figure(data=[go.Pie(labels=genre_counts.index, values=genre_counts.values)])\n",
    "\n",
    "\n",
    "fig.update_layout(title='Genre')\n",
    "\n",
    "fig.show()"
   ]
  },
  {
   "cell_type": "code",
   "execution_count": 17,
   "metadata": {},
   "outputs": [],
   "source": [
    "df_dict = movies_cleaned.to_dict(orient='records')\n",
    "\n",
    "json_file_path = 'data3.json'\n",
    "with open(json_file_path, 'w') as json_file:\n",
    "    json.dump(df_dict, json_file, indent=4)\n"
   ]
  },
  {
   "cell_type": "code",
   "execution_count": 19,
   "metadata": {},
   "outputs": [
    {
     "name": "stdout",
     "output_type": "stream",
     "text": [
      "Hierarchical data saved to hierarchical_data.json\n"
     ]
    }
   ],
   "source": [
    "def convert_to_hierarchy(movies_cleaned):\n",
    "    tree = {}\n",
    "    for _, row in movies_cleaned.iterrows():\n",
    "        node = {\"name\": row[\"title\"], \"children\": []}\n",
    "        node[\"children\"].append({\"name\": \"Year\", \"Description\": row[\"description\"]})\n",
    "        node[\"children\"].append({\"name\": \"Genres\", \"Genre\": row[\"genres\"]})\n",
    "        node[\"children\"].append({\"name\": \"Content Rating\", \"Rating\": row[\"contentRating\"]})\n",
    "        node[\"children\"].append({\"name\": \"imDb Rating\", \"IMDB Rating\": row[\"imDbRating\"]})\n",
    "        node[\"children\"].append({\"name\": \"Stars\", \"Stars\": row[\"stars\"]})\n",
    "        tree[row[\"title\"]] = node\n",
    "\n",
    "    return tree\n",
    "\n",
    "# Convert the data to a pandas DataFrame (assuming movies_cleaned is already a DataFrame)\n",
    "df = pd.DataFrame(movies_cleaned)\n",
    "\n",
    "# Convert DataFrame to hierarchical format for all movies in the list\n",
    "hierarchical_data = convert_to_hierarchy(df)\n",
    "\n",
    "# Convert to JSON string\n",
    "hierarchical_json_str = json.dumps(hierarchical_data, indent=2)\n",
    "\n",
    "# Save the hierarchical JSON data to a new file\n",
    "output_file_path = \"hierarchical_data.json\"  # Provide the desired file path and name\n",
    "with open(output_file_path, \"w\") as output_file:\n",
    "    output_file.write(hierarchical_json_str)\n",
    "\n",
    "print(f\"Hierarchical data saved to {output_file_path}\")\n"
   ]
  },
  {
   "cell_type": "code",
   "execution_count": 22,
   "metadata": {},
   "outputs": [
    {
     "name": "stdout",
     "output_type": "stream",
     "text": [
      "{\n",
      "  \"name\": \"Movie Data\",\n",
      "  \"children\": [\n",
      "    {\n",
      "      \"name\": \"Oppenheimer\",\n",
      "      \"children\": []\n",
      "    },\n",
      "    {\n",
      "      \"name\": \"Spider-Man: Across the Spider-Verse\",\n",
      "      \"children\": []\n",
      "    },\n",
      "    {\n",
      "      \"name\": \"Interstellar\",\n",
      "      \"children\": []\n",
      "    },\n",
      "    {\n",
      "      \"name\": \"The Dark Knight\",\n",
      "      \"children\": []\n",
      "    },\n",
      "    {\n",
      "      \"name\": \"Inception\",\n",
      "      \"children\": []\n",
      "    },\n",
      "    {\n",
      "      \"name\": \"Top Gun: Maverick\",\n",
      "      \"children\": []\n",
      "    },\n",
      "    {\n",
      "      \"name\": \"The Shawshank Redemption\",\n",
      "      \"children\": []\n",
      "    },\n",
      "    {\n",
      "      \"name\": \"The Wolf of Wall Street\",\n",
      "      \"children\": []\n",
      "    },\n",
      "    {\n",
      "      \"name\": \"The Prestige\",\n",
      "      \"children\": []\n",
      "    },\n",
      "    {\n",
      "      \"name\": \"Raiders of the Lost Ark\",\n",
      "      \"children\": []\n",
      "    },\n",
      "    {\n",
      "      \"name\": \"The Godfather\",\n",
      "      \"children\": []\n",
      "    },\n",
      "    {\n",
      "      \"name\": \"Pulp Fiction\",\n",
      "      \"children\": []\n",
      "    },\n",
      "    {\n",
      "      \"name\": \"Spider-Man: Into the Spider-Verse\",\n",
      "      \"children\": []\n",
      "    },\n",
      "    {\n",
      "      \"name\": \"Memento\",\n",
      "      \"children\": []\n",
      "    },\n",
      "    {\n",
      "      \"name\": \"Jaws\",\n",
      "      \"children\": []\n",
      "    },\n",
      "    {\n",
      "      \"name\": \"Indiana Jones and the Last Crusade\",\n",
      "      \"children\": []\n",
      "    },\n",
      "    {\n",
      "      \"name\": \"The Dark Knight Rises\",\n",
      "      \"children\": []\n",
      "    },\n",
      "    {\n",
      "      \"name\": \"Jurassic Park\",\n",
      "      \"children\": []\n",
      "    },\n",
      "    {\n",
      "      \"name\": \"Inglourious Basterds\",\n",
      "      \"children\": []\n",
      "    },\n",
      "    {\n",
      "      \"name\": \"Batman Begins\",\n",
      "      \"children\": []\n",
      "    },\n",
      "    {\n",
      "      \"name\": \"Spider-Man: No Way Home\",\n",
      "      \"children\": []\n",
      "    },\n",
      "    {\n",
      "      \"name\": \"The Departed\",\n",
      "      \"children\": []\n",
      "    },\n",
      "    {\n",
      "      \"name\": \"Heat\",\n",
      "      \"children\": []\n",
      "    },\n",
      "    {\n",
      "      \"name\": \"Prisoners\",\n",
      "      \"children\": []\n",
      "    },\n",
      "    {\n",
      "      \"name\": \"No Country for Old Men\",\n",
      "      \"children\": []\n",
      "    },\n",
      "    {\n",
      "      \"name\": \"The Lord of the Rings: The Fellowship of the Ring\",\n",
      "      \"children\": []\n",
      "    },\n",
      "    {\n",
      "      \"name\": \"Fight Club\",\n",
      "      \"children\": []\n",
      "    },\n",
      "    {\n",
      "      \"name\": \"Avengers: Endgame\",\n",
      "      \"children\": []\n",
      "    },\n",
      "    {\n",
      "      \"name\": \"Gladiator\",\n",
      "      \"children\": []\n",
      "    },\n",
      "    {\n",
      "      \"name\": \"Django Unchained\",\n",
      "      \"children\": []\n",
      "    },\n",
      "    {\n",
      "      \"name\": \"Alien\",\n",
      "      \"children\": []\n",
      "    },\n",
      "    {\n",
      "      \"name\": \"Joker\",\n",
      "      \"children\": []\n",
      "    },\n",
      "    {\n",
      "      \"name\": \"Back to the Future\",\n",
      "      \"children\": []\n",
      "    },\n",
      "    {\n",
      "      \"name\": \"Gone Girl\",\n",
      "      \"children\": []\n",
      "    },\n",
      "    {\n",
      "      \"name\": \"The Grand Budapest Hotel\",\n",
      "      \"children\": []\n",
      "    },\n",
      "    {\n",
      "      \"name\": \"Se7en\",\n",
      "      \"children\": []\n",
      "    },\n",
      "    {\n",
      "      \"name\": \"Aliens\",\n",
      "      \"children\": []\n",
      "    },\n",
      "    {\n",
      "      \"name\": \"Schindler's List\",\n",
      "      \"children\": []\n",
      "    },\n",
      "    {\n",
      "      \"name\": \"Forrest Gump\",\n",
      "      \"children\": []\n",
      "    },\n",
      "    {\n",
      "      \"name\": \"Pirates of the Caribbean: The Curse of the Black Pearl\",\n",
      "      \"children\": []\n",
      "    },\n",
      "    {\n",
      "      \"name\": \"Parasite\",\n",
      "      \"children\": []\n",
      "    },\n",
      "    {\n",
      "      \"name\": \"American Beauty\",\n",
      "      \"children\": []\n",
      "    },\n",
      "    {\n",
      "      \"name\": \"Goodfellas\",\n",
      "      \"children\": []\n",
      "    },\n",
      "    {\n",
      "      \"name\": \"The Matrix\",\n",
      "      \"children\": []\n",
      "    },\n",
      "    {\n",
      "      \"name\": \"Whiplash\",\n",
      "      \"children\": []\n",
      "    },\n",
      "    {\n",
      "      \"name\": \"Saving Private Ryan\",\n",
      "      \"children\": []\n",
      "    },\n",
      "    {\n",
      "      \"name\": \"The Silence of the Lambs\",\n",
      "      \"children\": []\n",
      "    },\n",
      "    {\n",
      "      \"name\": \"There Will Be Blood\",\n",
      "      \"children\": []\n",
      "    },\n",
      "    {\n",
      "      \"name\": \"Shutter Island\",\n",
      "      \"children\": []\n",
      "    },\n",
      "    {\n",
      "      \"name\": \"The Shining\",\n",
      "      \"children\": []\n",
      "    },\n",
      "    {\n",
      "      \"name\": \"Requiem for a Dream\",\n",
      "      \"children\": []\n",
      "    },\n",
      "    {\n",
      "      \"name\": \"L\\u00e9on: The Professional\",\n",
      "      \"children\": []\n",
      "    },\n",
      "    {\n",
      "      \"name\": \"Good Will Hunting\",\n",
      "      \"children\": []\n",
      "    },\n",
      "    {\n",
      "      \"name\": \"Mad Max: Fury Road\",\n",
      "      \"children\": []\n",
      "    },\n",
      "    {\n",
      "      \"name\": \"Terminator 2: Judgment Day\",\n",
      "      \"children\": []\n",
      "    },\n",
      "    {\n",
      "      \"name\": \"12 Angry Men\",\n",
      "      \"children\": []\n",
      "    },\n",
      "    {\n",
      "      \"name\": \"Hacksaw Ridge\",\n",
      "      \"children\": []\n",
      "    },\n",
      "    {\n",
      "      \"name\": \"Taxi Driver\",\n",
      "      \"children\": []\n",
      "    },\n",
      "    {\n",
      "      \"name\": \"One Flew Over the Cuckoo's Nest\",\n",
      "      \"children\": []\n",
      "    },\n",
      "    {\n",
      "      \"name\": \"The Truman Show\",\n",
      "      \"children\": []\n",
      "    },\n",
      "    {\n",
      "      \"name\": \"The Green Mile\",\n",
      "      \"children\": []\n",
      "    },\n",
      "    {\n",
      "      \"name\": \"Blade Runner\",\n",
      "      \"children\": []\n",
      "    },\n",
      "    {\n",
      "      \"name\": \"The Terminator\",\n",
      "      \"children\": []\n",
      "    },\n",
      "    {\n",
      "      \"name\": \"1917\",\n",
      "      \"children\": []\n",
      "    },\n",
      "    {\n",
      "      \"name\": \"The Lord of the Rings: The Return of the King\",\n",
      "      \"children\": []\n",
      "    },\n",
      "    {\n",
      "      \"name\": \"Stand by Me\",\n",
      "      \"children\": []\n",
      "    },\n",
      "    {\n",
      "      \"name\": \"The Pianist\",\n",
      "      \"children\": []\n",
      "    },\n",
      "    {\n",
      "      \"name\": \"Apocalypse Now\",\n",
      "      \"children\": []\n",
      "    },\n",
      "    {\n",
      "      \"name\": \"The Godfather Part II\",\n",
      "      \"children\": []\n",
      "    },\n",
      "    {\n",
      "      \"name\": \"Star Wars: Episode IV - A New Hope\",\n",
      "      \"children\": []\n",
      "    },\n",
      "    {\n",
      "      \"name\": \"Catch Me If You Can\",\n",
      "      \"children\": []\n",
      "    },\n",
      "    {\n",
      "      \"name\": \"Scarface\",\n",
      "      \"children\": []\n",
      "    },\n",
      "    {\n",
      "      \"name\": \"2001: A Space Odyssey\",\n",
      "      \"children\": []\n",
      "    },\n",
      "    {\n",
      "      \"name\": \"The Usual Suspects\",\n",
      "      \"children\": []\n",
      "    },\n",
      "    {\n",
      "      \"name\": \"Avengers: Infinity War\",\n",
      "      \"children\": []\n",
      "    },\n",
      "    {\n",
      "      \"name\": \"The Hunt\",\n",
      "      \"children\": []\n",
      "    },\n",
      "    {\n",
      "      \"name\": \"Logan\",\n",
      "      \"children\": []\n",
      "    },\n",
      "    {\n",
      "      \"name\": \"Ford v Ferrari\",\n",
      "      \"children\": []\n",
      "    },\n",
      "    {\n",
      "      \"name\": \"The Wizard of Oz\",\n",
      "      \"children\": []\n",
      "    },\n",
      "    {\n",
      "      \"name\": \"Braveheart\",\n",
      "      \"children\": []\n",
      "    },\n",
      "    {\n",
      "      \"name\": \"Harry Potter and the Deathly Hallows: Part 2\",\n",
      "      \"children\": []\n",
      "    },\n",
      "    {\n",
      "      \"name\": \"Eternal Sunshine of the Spotless Mind\",\n",
      "      \"children\": []\n",
      "    },\n",
      "    {\n",
      "      \"name\": \"Die Hard\",\n",
      "      \"children\": []\n",
      "    },\n",
      "    {\n",
      "      \"name\": \"The Big Lebowski\",\n",
      "      \"children\": []\n",
      "    },\n",
      "    {\n",
      "      \"name\": \"Cool Hand Luke\",\n",
      "      \"children\": []\n",
      "    },\n",
      "    {\n",
      "      \"name\": \"Once Upon a Time in America\",\n",
      "      \"children\": []\n",
      "    },\n",
      "    {\n",
      "      \"name\": \"A Clockwork Orange\",\n",
      "      \"children\": []\n",
      "    },\n",
      "    {\n",
      "      \"name\": \"Snatch\",\n",
      "      \"children\": []\n",
      "    },\n",
      "    {\n",
      "      \"name\": \"The Exorcist\",\n",
      "      \"children\": []\n",
      "    },\n",
      "    {\n",
      "      \"name\": \"Casino\",\n",
      "      \"children\": []\n",
      "    },\n",
      "    {\n",
      "      \"name\": \"The Lion King\",\n",
      "      \"children\": []\n",
      "    },\n",
      "    {\n",
      "      \"name\": \"Reservoir Dogs\",\n",
      "      \"children\": []\n",
      "    },\n",
      "    {\n",
      "      \"name\": \"Ratatouille\",\n",
      "      \"children\": []\n",
      "    },\n",
      "    {\n",
      "      \"name\": \"Green Book\",\n",
      "      \"children\": []\n",
      "    },\n",
      "    {\n",
      "      \"name\": \"American History X\",\n",
      "      \"children\": []\n",
      "    },\n",
      "    {\n",
      "      \"name\": \"The Good, the Bad and the Ugly\",\n",
      "      \"children\": []\n",
      "    },\n",
      "    {\n",
      "      \"name\": \"Full Metal Jacket\",\n",
      "      \"children\": []\n",
      "    },\n",
      "    {\n",
      "      \"name\": \"Fargo\",\n",
      "      \"children\": []\n",
      "    },\n",
      "    {\n",
      "      \"name\": \"Amadeus\",\n",
      "      \"children\": []\n",
      "    },\n",
      "    {\n",
      "      \"name\": \"The Lord of the Rings: The Two Towers\",\n",
      "      \"children\": []\n",
      "    },\n",
      "    {\n",
      "      \"name\": \"The Help\",\n",
      "      \"children\": []\n",
      "    },\n",
      "    {\n",
      "      \"name\": \"Inside Out\",\n",
      "      \"children\": []\n",
      "    },\n",
      "    {\n",
      "      \"name\": \"The Thing\",\n",
      "      \"children\": []\n",
      "    },\n",
      "    {\n",
      "      \"name\": \"The Sixth Sense\",\n",
      "      \"children\": []\n",
      "    },\n",
      "    {\n",
      "      \"name\": \"Kill Bill: Vol. 1\",\n",
      "      \"children\": []\n",
      "    },\n",
      "    {\n",
      "      \"name\": \"Toy Story\",\n",
      "      \"children\": []\n",
      "    },\n",
      "    {\n",
      "      \"name\": \"Warrior\",\n",
      "      \"children\": []\n",
      "    },\n",
      "    {\n",
      "      \"name\": \"Three Billboards Outside Ebbing, Missouri\",\n",
      "      \"children\": []\n",
      "    },\n",
      "    {\n",
      "      \"name\": \"A Beautiful Mind\",\n",
      "      \"children\": []\n",
      "    },\n",
      "    {\n",
      "      \"name\": \"The Intouchables\",\n",
      "      \"children\": []\n",
      "    },\n",
      "    {\n",
      "      \"name\": \"Dead Poets Society\",\n",
      "      \"children\": []\n",
      "    },\n",
      "    {\n",
      "      \"name\": \"The Incredibles\",\n",
      "      \"children\": []\n",
      "    },\n",
      "    {\n",
      "      \"name\": \"Casablanca\",\n",
      "      \"children\": []\n",
      "    },\n",
      "    {\n",
      "      \"name\": \"Hamilton\",\n",
      "      \"children\": []\n",
      "    },\n",
      "    {\n",
      "      \"name\": \"L.A. Confidential\",\n",
      "      \"children\": []\n",
      "    },\n",
      "    {\n",
      "      \"name\": \"Rocky\",\n",
      "      \"children\": []\n",
      "    },\n",
      "    {\n",
      "      \"name\": \"Trainspotting\",\n",
      "      \"children\": []\n",
      "    },\n",
      "    {\n",
      "      \"name\": \"Psycho\",\n",
      "      \"children\": []\n",
      "    },\n",
      "    {\n",
      "      \"name\": \"Life Is Beautiful\",\n",
      "      \"children\": []\n",
      "    },\n",
      "    {\n",
      "      \"name\": \"Finding Nemo\",\n",
      "      \"children\": []\n",
      "    },\n",
      "    {\n",
      "      \"name\": \"The Father\",\n",
      "      \"children\": []\n",
      "    },\n",
      "    {\n",
      "      \"name\": \"Incendies\",\n",
      "      \"children\": []\n",
      "    },\n",
      "    {\n",
      "      \"name\": \"Into the Wild\",\n",
      "      \"children\": []\n",
      "    },\n",
      "    {\n",
      "      \"name\": \"Up\",\n",
      "      \"children\": []\n",
      "    },\n",
      "    {\n",
      "      \"name\": \"Rush\",\n",
      "      \"children\": []\n",
      "    },\n",
      "    {\n",
      "      \"name\": \"Star Wars: Episode V - The Empire Strikes Back\",\n",
      "      \"children\": []\n",
      "    },\n",
      "    {\n",
      "      \"name\": \"Coco\",\n",
      "      \"children\": []\n",
      "    },\n",
      "    {\n",
      "      \"name\": \"Spotlight\",\n",
      "      \"children\": []\n",
      "    },\n",
      "    {\n",
      "      \"name\": \"Memories of Murder\",\n",
      "      \"children\": []\n",
      "    },\n",
      "    {\n",
      "      \"name\": \"Monsters, Inc.\",\n",
      "      \"children\": []\n",
      "    },\n",
      "    {\n",
      "      \"name\": \"Before Sunrise\",\n",
      "      \"children\": []\n",
      "    },\n",
      "    {\n",
      "      \"name\": \"Dr. Strangelove or: How I Learned to Stop Worrying and Love the Bomb\",\n",
      "      \"children\": []\n",
      "    },\n",
      "    {\n",
      "      \"name\": \"V for Vendetta\",\n",
      "      \"children\": []\n",
      "    },\n",
      "    {\n",
      "      \"name\": \"Once Upon a Time in the West\",\n",
      "      \"children\": []\n",
      "    },\n",
      "    {\n",
      "      \"name\": \"Star Wars: Episode VI - Return of the Jedi\",\n",
      "      \"children\": []\n",
      "    },\n",
      "    {\n",
      "      \"name\": \"Lawrence of Arabia\",\n",
      "      \"children\": []\n",
      "    },\n",
      "    {\n",
      "      \"name\": \"WALL\\u00b7E\",\n",
      "      \"children\": []\n",
      "    },\n",
      "    {\n",
      "      \"name\": \"Platoon\",\n",
      "      \"children\": []\n",
      "    },\n",
      "    {\n",
      "      \"name\": \"The Deer Hunter\",\n",
      "      \"children\": []\n",
      "    },\n",
      "    {\n",
      "      \"name\": \"Gone with the Wind\",\n",
      "      \"children\": []\n",
      "    },\n",
      "    {\n",
      "      \"name\": \"Room\",\n",
      "      \"children\": []\n",
      "    },\n",
      "    {\n",
      "      \"name\": \"Downfall\",\n",
      "      \"children\": []\n",
      "    },\n",
      "    {\n",
      "      \"name\": \"Am\\u00e9lie\",\n",
      "      \"children\": []\n",
      "    },\n",
      "    {\n",
      "      \"name\": \"The Sound of Music\",\n",
      "      \"children\": []\n",
      "    },\n",
      "    {\n",
      "      \"name\": \"Dances with Wolves\",\n",
      "      \"children\": []\n",
      "    },\n",
      "    {\n",
      "      \"name\": \"Lock, Stock and Two Smoking Barrels\",\n",
      "      \"children\": []\n",
      "    },\n",
      "    {\n",
      "      \"name\": \"Chinatown\",\n",
      "      \"children\": []\n",
      "    },\n",
      "    {\n",
      "      \"name\": \"Aladdin\",\n",
      "      \"children\": []\n",
      "    },\n",
      "    {\n",
      "      \"name\": \"Unforgiven\",\n",
      "      \"children\": []\n",
      "    },\n",
      "    {\n",
      "      \"name\": \"Groundhog Day\",\n",
      "      \"children\": []\n",
      "    },\n",
      "    {\n",
      "      \"name\": \"How to Train Your Dragon\",\n",
      "      \"children\": []\n",
      "    },\n",
      "    {\n",
      "      \"name\": \"12 Years a Slave\",\n",
      "      \"children\": []\n",
      "    },\n",
      "    {\n",
      "      \"name\": \"Toy Story 3\",\n",
      "      \"children\": []\n",
      "    },\n",
      "    {\n",
      "      \"name\": \"3 Idiots\",\n",
      "      \"children\": []\n",
      "    },\n",
      "    {\n",
      "      \"name\": \"It's a Wonderful Life\",\n",
      "      \"children\": []\n",
      "    },\n",
      "    {\n",
      "      \"name\": \"Dial M for Murder\",\n",
      "      \"children\": []\n",
      "    },\n",
      "    {\n",
      "      \"name\": \"Rear Window\",\n",
      "      \"children\": []\n",
      "    },\n",
      "    {\n",
      "      \"name\": \"Barry Lyndon\",\n",
      "      \"children\": []\n",
      "    },\n",
      "    {\n",
      "      \"name\": \"Monty Python and the Holy Grail\",\n",
      "      \"children\": []\n",
      "    },\n",
      "    {\n",
      "      \"name\": \"Singin' in the Rain\",\n",
      "      \"children\": []\n",
      "    },\n",
      "    {\n",
      "      \"name\": \"Citizen Kane\",\n",
      "      \"children\": []\n",
      "    },\n",
      "    {\n",
      "      \"name\": \"Vertigo\",\n",
      "      \"children\": []\n",
      "    },\n",
      "    {\n",
      "      \"name\": \"Some Like It Hot\",\n",
      "      \"children\": []\n",
      "    },\n",
      "    {\n",
      "      \"name\": \"Raging Bull\",\n",
      "      \"children\": []\n",
      "    },\n",
      "    {\n",
      "      \"name\": \"The Great Escape\",\n",
      "      \"children\": []\n",
      "    },\n",
      "    {\n",
      "      \"name\": \"Gran Torino\",\n",
      "      \"children\": []\n",
      "    },\n",
      "    {\n",
      "      \"name\": \"Million Dollar Baby\",\n",
      "      \"children\": []\n",
      "    },\n",
      "    {\n",
      "      \"name\": \"To Kill a Mockingbird\",\n",
      "      \"children\": []\n",
      "    },\n",
      "    {\n",
      "      \"name\": \"Hachi: A Dog's Tale\",\n",
      "      \"children\": []\n",
      "    },\n",
      "    {\n",
      "      \"name\": \"Metropolis\",\n",
      "      \"children\": []\n",
      "    },\n",
      "    {\n",
      "      \"name\": \"For a Few Dollars More\",\n",
      "      \"children\": []\n",
      "    },\n",
      "    {\n",
      "      \"name\": \"The Iron Giant\",\n",
      "      \"children\": []\n",
      "    },\n",
      "    {\n",
      "      \"name\": \"North by Northwest\",\n",
      "      \"children\": []\n",
      "    },\n",
      "    {\n",
      "      \"name\": \"Before Sunset\",\n",
      "      \"children\": []\n",
      "    },\n",
      "    {\n",
      "      \"name\": \"The Sting\",\n",
      "      \"children\": []\n",
      "    },\n",
      "    {\n",
      "      \"name\": \"The Elephant Man\",\n",
      "      \"children\": []\n",
      "    },\n",
      "    {\n",
      "      \"name\": \"Sunset Blvd.\",\n",
      "      \"children\": []\n",
      "    },\n",
      "    {\n",
      "      \"name\": \"Life of Brian\",\n",
      "      \"children\": []\n",
      "    },\n",
      "    {\n",
      "      \"name\": \"Ben-Hur\",\n",
      "      \"children\": []\n",
      "    },\n",
      "    {\n",
      "      \"name\": \"Paths of Glory\",\n",
      "      \"children\": []\n",
      "    },\n",
      "    {\n",
      "      \"name\": \"The Third Man\",\n",
      "      \"children\": []\n",
      "    },\n",
      "    {\n",
      "      \"name\": \"The Apartment\",\n",
      "      \"children\": []\n",
      "    },\n",
      "    {\n",
      "      \"name\": \"Judgment at Nuremberg\",\n",
      "      \"children\": []\n",
      "    },\n",
      "    {\n",
      "      \"name\": \"The Bridge on the River Kwai\",\n",
      "      \"children\": []\n",
      "    },\n",
      "    {\n",
      "      \"name\": \"Persona\",\n",
      "      \"children\": []\n",
      "    },\n",
      "    {\n",
      "      \"name\": \"Witness for the Prosecution\",\n",
      "      \"children\": []\n",
      "    },\n",
      "    {\n",
      "      \"name\": \"Network\",\n",
      "      \"children\": []\n",
      "    },\n",
      "    {\n",
      "      \"name\": \"In the Name of the Father\",\n",
      "      \"children\": []\n",
      "    },\n",
      "    {\n",
      "      \"name\": \"Dangal\",\n",
      "      \"children\": []\n",
      "    },\n",
      "    {\n",
      "      \"name\": \"Double Indemnity\",\n",
      "      \"children\": []\n",
      "    },\n",
      "    {\n",
      "      \"name\": \"Hotel Rwanda\",\n",
      "      \"children\": []\n",
      "    },\n",
      "    {\n",
      "      \"name\": \"On the Waterfront\",\n",
      "      \"children\": []\n",
      "    },\n",
      "    {\n",
      "      \"name\": \"Ikiru\",\n",
      "      \"children\": []\n",
      "    },\n",
      "    {\n",
      "      \"name\": \"The Great Dictator\",\n",
      "      \"children\": []\n",
      "    },\n",
      "    {\n",
      "      \"name\": \"It Happened One Night\",\n",
      "      \"children\": []\n",
      "    },\n",
      "    {\n",
      "      \"name\": \"Rebecca\",\n",
      "      \"children\": []\n",
      "    },\n",
      "    {\n",
      "      \"name\": \"Mary and Max\",\n",
      "      \"children\": []\n",
      "    },\n",
      "    {\n",
      "      \"name\": \"All About Eve\",\n",
      "      \"children\": []\n",
      "    },\n",
      "    {\n",
      "      \"name\": \"Klaus\",\n",
      "      \"children\": []\n",
      "    },\n",
      "    {\n",
      "      \"name\": \"Like Stars on Earth\",\n",
      "      \"children\": []\n",
      "    },\n",
      "    {\n",
      "      \"name\": \"The Best Years of Our Lives\",\n",
      "      \"children\": []\n",
      "    },\n",
      "    {\n",
      "      \"name\": \"The 400 Blows\",\n",
      "      \"children\": []\n",
      "    },\n",
      "    {\n",
      "      \"name\": \"The Grapes of Wrath\",\n",
      "      \"children\": []\n",
      "    },\n",
      "    {\n",
      "      \"name\": \"Modern Times\",\n",
      "      \"children\": []\n",
      "    },\n",
      "    {\n",
      "      \"name\": \"Tokyo Story\",\n",
      "      \"children\": []\n",
      "    },\n",
      "    {\n",
      "      \"name\": \"Bicycle Thieves\",\n",
      "      \"children\": []\n",
      "    },\n",
      "    {\n",
      "      \"name\": \"City Lights\",\n",
      "      \"children\": []\n",
      "    },\n",
      "    {\n",
      "      \"name\": \"The Treasure of the Sierra Madre\",\n",
      "      \"children\": []\n",
      "    },\n",
      "    {\n",
      "      \"name\": \"The Wages of Fear\",\n",
      "      \"children\": []\n",
      "    },\n",
      "    {\n",
      "      \"name\": \"To Be or Not to Be\",\n",
      "      \"children\": []\n",
      "    },\n",
      "    {\n",
      "      \"name\": \"The Battle of Algiers\",\n",
      "      \"children\": []\n",
      "    },\n",
      "    {\n",
      "      \"name\": \"The Kid\",\n",
      "      \"children\": []\n",
      "    },\n",
      "    {\n",
      "      \"name\": \"Mr. Smith Goes to Washington\",\n",
      "      \"children\": []\n",
      "    },\n",
      "    {\n",
      "      \"name\": \"The General\",\n",
      "      \"children\": []\n",
      "    },\n",
      "    {\n",
      "      \"name\": \"Sherlock Jr.\",\n",
      "      \"children\": []\n",
      "    },\n",
      "    {\n",
      "      \"name\": \"The Gold Rush\",\n",
      "      \"children\": []\n",
      "    }\n",
      "  ]\n",
      "}\n",
      "Hierarchical data saved to hierarchical_data2.json\n"
     ]
    }
   ],
   "source": [
    "def format_movie_data(movie_data):\n",
    "    formatted_data = {\n",
    "        \"name\": \"Movie Data\",\n",
    "        \"children\": []\n",
    "    }\n",
    "\n",
    "    for movie_name, movie_details in movie_data.items():\n",
    "        movie_entry = {\n",
    "            \"name\": movie_name,\n",
    "            \"children\": []\n",
    "        }\n",
    "\n",
    "        for detail_name, detail_value in movie_details.items():\n",
    "            if detail_name == \"name\":\n",
    "                continue\n",
    "            if isinstance(detail_value, str):\n",
    "                movie_entry[\"children\"].append({\n",
    "                    \"name\": detail_name,\n",
    "                    \"children\": [{\"name\": \"Value\", \"value\": detail_value}]\n",
    "                })\n",
    "            elif isinstance(detail_value, dict):\n",
    "                nested_entry = {\"name\": detail_name, \"children\": []}\n",
    "                for nested_name, nested_value in detail_value.items():\n",
    "                    nested_entry[\"children\"].append({\n",
    "                        \"name\": nested_name,\n",
    "                        \"value\": nested_value\n",
    "                    })\n",
    "                movie_entry[\"children\"].append(nested_entry)\n",
    "\n",
    "        formatted_data[\"children\"].append(movie_entry)\n",
    "\n",
    "    return formatted_data\n",
    "\n",
    "\n",
    "# Your original movie data\n",
    "original_movie_data =(hierarchical_data)\n",
    "\n",
    "formatted_data = format_movie_data(original_movie_data)\n",
    "\n",
    "# Displaying the formatted data\n",
    "import json\n",
    "print(json.dumps(formatted_data, indent=2))\n",
    "\n",
    "output_file_path = \"hierarchical_data2.json\"  # Provide the desired file path and name\n",
    "with open(output_file_path, \"w\") as output_file:\n",
    "    output_file.write(hierarchical_json_str)\n",
    "\n",
    "print(f\"Hierarchical data saved to {output_file_path}\")"
   ]
  }
 ],
 "metadata": {
  "kernelspec": {
   "display_name": "base",
   "language": "python",
   "name": "python3"
  },
  "language_info": {
   "codemirror_mode": {
    "name": "ipython",
    "version": 3
   },
   "file_extension": ".py",
   "mimetype": "text/x-python",
   "name": "python",
   "nbconvert_exporter": "python",
   "pygments_lexer": "ipython3",
   "version": "3.9.13"
  },
  "orig_nbformat": 4
 },
 "nbformat": 4,
 "nbformat_minor": 2
}
