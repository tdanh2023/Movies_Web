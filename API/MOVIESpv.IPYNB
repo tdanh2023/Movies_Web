{
 "cells": [
  {
   "cell_type": "code",
   "execution_count": 6,
   "metadata": {},
   "outputs": [
    {
     "data": {
      "text/html": [
       "<div>\n",
       "<style scoped>\n",
       "    .dataframe tbody tr th:only-of-type {\n",
       "        vertical-align: middle;\n",
       "    }\n",
       "\n",
       "    .dataframe tbody tr th {\n",
       "        vertical-align: top;\n",
       "    }\n",
       "\n",
       "    .dataframe thead th {\n",
       "        text-align: right;\n",
       "    }\n",
       "</style>\n",
       "<table border=\"1\" class=\"dataframe\">\n",
       "  <thead>\n",
       "    <tr style=\"text-align: right;\">\n",
       "      <th></th>\n",
       "      <th>id</th>\n",
       "      <th>image</th>\n",
       "      <th>title</th>\n",
       "      <th>description</th>\n",
       "      <th>runtimeStr</th>\n",
       "      <th>genres</th>\n",
       "      <th>genreList</th>\n",
       "      <th>contentRating</th>\n",
       "      <th>imDbRating</th>\n",
       "      <th>imDbRatingVotes</th>\n",
       "      <th>metacriticRating</th>\n",
       "      <th>plot</th>\n",
       "      <th>stars</th>\n",
       "      <th>starList</th>\n",
       "    </tr>\n",
       "  </thead>\n",
       "  <tbody>\n",
       "    <tr>\n",
       "      <th>0</th>\n",
       "      <td>tt15398776</td>\n",
       "      <td>https://m.media-amazon.com/images/M/MV5BMDBmYT...</td>\n",
       "      <td>Oppenheimer</td>\n",
       "      <td>(2023)</td>\n",
       "      <td>180 min</td>\n",
       "      <td>Biography, Drama, History</td>\n",
       "      <td>[{'key': 'Biography', 'value': 'Biography'}, {...</td>\n",
       "      <td>R</td>\n",
       "      <td>8.7</td>\n",
       "      <td>246522</td>\n",
       "      <td>88</td>\n",
       "      <td>The story of American scientist, J. Robert Opp...</td>\n",
       "      <td>Christopher Nolan, Cillian Murphy, Emily Blunt...</td>\n",
       "      <td>[{'id': 'tt15398776', 'name': 'Christopher Nol...</td>\n",
       "    </tr>\n",
       "    <tr>\n",
       "      <th>1</th>\n",
       "      <td>tt0816692</td>\n",
       "      <td>https://m.media-amazon.com/images/M/MV5BZjdkOT...</td>\n",
       "      <td>Interstellar</td>\n",
       "      <td>(2014)</td>\n",
       "      <td>169 min</td>\n",
       "      <td>Adventure, Drama, Sci-Fi</td>\n",
       "      <td>[{'key': 'Adventure', 'value': 'Adventure'}, {...</td>\n",
       "      <td>PG-13</td>\n",
       "      <td>8.7</td>\n",
       "      <td>1953991</td>\n",
       "      <td>74</td>\n",
       "      <td>When Earth becomes uninhabitable in the future...</td>\n",
       "      <td>Christopher Nolan, Matthew McConaughey, Anne H...</td>\n",
       "      <td>[{'id': 'tt0816692', 'name': 'Christopher Nola...</td>\n",
       "    </tr>\n",
       "    <tr>\n",
       "      <th>2</th>\n",
       "      <td>tt9362722</td>\n",
       "      <td>https://m.media-amazon.com/images/M/MV5BMzI0Nm...</td>\n",
       "      <td>Spider-Man: Across the Spider-Verse</td>\n",
       "      <td>(2023)</td>\n",
       "      <td>140 min</td>\n",
       "      <td>Animation, Action, Adventure</td>\n",
       "      <td>[{'key': 'Animation', 'value': 'Animation'}, {...</td>\n",
       "      <td>PG</td>\n",
       "      <td>8.9</td>\n",
       "      <td>196646</td>\n",
       "      <td>86</td>\n",
       "      <td>Miles Morales catapults across the Multiverse,...</td>\n",
       "      <td>Joaquim Dos Santos, Kemp Powers, Justin K. Tho...</td>\n",
       "      <td>[{'id': 'tt9362722', 'name': 'Joaquim Dos Sant...</td>\n",
       "    </tr>\n",
       "    <tr>\n",
       "      <th>3</th>\n",
       "      <td>tt1375666</td>\n",
       "      <td>https://m.media-amazon.com/images/M/MV5BMjAxMz...</td>\n",
       "      <td>Inception</td>\n",
       "      <td>(2010)</td>\n",
       "      <td>148 min</td>\n",
       "      <td>Action, Adventure, Sci-Fi</td>\n",
       "      <td>[{'key': 'Action', 'value': 'Action'}, {'key':...</td>\n",
       "      <td>PG-13</td>\n",
       "      <td>8.8</td>\n",
       "      <td>2443223</td>\n",
       "      <td>74</td>\n",
       "      <td>A thief who steals corporate secrets through t...</td>\n",
       "      <td>Christopher Nolan, Leonardo DiCaprio, Joseph G...</td>\n",
       "      <td>[{'id': 'tt1375666', 'name': 'Christopher Nola...</td>\n",
       "    </tr>\n",
       "    <tr>\n",
       "      <th>4</th>\n",
       "      <td>tt0468569</td>\n",
       "      <td>https://m.media-amazon.com/images/M/MV5BMTMxNT...</td>\n",
       "      <td>The Dark Knight</td>\n",
       "      <td>(2008)</td>\n",
       "      <td>152 min</td>\n",
       "      <td>Action, Crime, Drama</td>\n",
       "      <td>[{'key': 'Action', 'value': 'Action'}, {'key':...</td>\n",
       "      <td>PG-13</td>\n",
       "      <td>9.0</td>\n",
       "      <td>2752511</td>\n",
       "      <td>84</td>\n",
       "      <td>When the menace known as the Joker wreaks havo...</td>\n",
       "      <td>Christopher Nolan, Christian Bale, Heath Ledge...</td>\n",
       "      <td>[{'id': 'tt0468569', 'name': 'Christopher Nola...</td>\n",
       "    </tr>\n",
       "  </tbody>\n",
       "</table>\n",
       "</div>"
      ],
      "text/plain": [
       "           id                                              image  \\\n",
       "0  tt15398776  https://m.media-amazon.com/images/M/MV5BMDBmYT...   \n",
       "1   tt0816692  https://m.media-amazon.com/images/M/MV5BZjdkOT...   \n",
       "2   tt9362722  https://m.media-amazon.com/images/M/MV5BMzI0Nm...   \n",
       "3   tt1375666  https://m.media-amazon.com/images/M/MV5BMjAxMz...   \n",
       "4   tt0468569  https://m.media-amazon.com/images/M/MV5BMTMxNT...   \n",
       "\n",
       "                                 title description runtimeStr  \\\n",
       "0                          Oppenheimer      (2023)    180 min   \n",
       "1                         Interstellar      (2014)    169 min   \n",
       "2  Spider-Man: Across the Spider-Verse      (2023)    140 min   \n",
       "3                            Inception      (2010)    148 min   \n",
       "4                      The Dark Knight      (2008)    152 min   \n",
       "\n",
       "                         genres  \\\n",
       "0     Biography, Drama, History   \n",
       "1      Adventure, Drama, Sci-Fi   \n",
       "2  Animation, Action, Adventure   \n",
       "3     Action, Adventure, Sci-Fi   \n",
       "4          Action, Crime, Drama   \n",
       "\n",
       "                                           genreList contentRating imDbRating  \\\n",
       "0  [{'key': 'Biography', 'value': 'Biography'}, {...             R        8.7   \n",
       "1  [{'key': 'Adventure', 'value': 'Adventure'}, {...         PG-13        8.7   \n",
       "2  [{'key': 'Animation', 'value': 'Animation'}, {...            PG        8.9   \n",
       "3  [{'key': 'Action', 'value': 'Action'}, {'key':...         PG-13        8.8   \n",
       "4  [{'key': 'Action', 'value': 'Action'}, {'key':...         PG-13        9.0   \n",
       "\n",
       "  imDbRatingVotes metacriticRating  \\\n",
       "0          246522               88   \n",
       "1         1953991               74   \n",
       "2          196646               86   \n",
       "3         2443223               74   \n",
       "4         2752511               84   \n",
       "\n",
       "                                                plot  \\\n",
       "0  The story of American scientist, J. Robert Opp...   \n",
       "1  When Earth becomes uninhabitable in the future...   \n",
       "2  Miles Morales catapults across the Multiverse,...   \n",
       "3  A thief who steals corporate secrets through t...   \n",
       "4  When the menace known as the Joker wreaks havo...   \n",
       "\n",
       "                                               stars  \\\n",
       "0  Christopher Nolan, Cillian Murphy, Emily Blunt...   \n",
       "1  Christopher Nolan, Matthew McConaughey, Anne H...   \n",
       "2  Joaquim Dos Santos, Kemp Powers, Justin K. Tho...   \n",
       "3  Christopher Nolan, Leonardo DiCaprio, Joseph G...   \n",
       "4  Christopher Nolan, Christian Bale, Heath Ledge...   \n",
       "\n",
       "                                            starList  \n",
       "0  [{'id': 'tt15398776', 'name': 'Christopher Nol...  \n",
       "1  [{'id': 'tt0816692', 'name': 'Christopher Nola...  \n",
       "2  [{'id': 'tt9362722', 'name': 'Joaquim Dos Sant...  \n",
       "3  [{'id': 'tt1375666', 'name': 'Christopher Nola...  \n",
       "4  [{'id': 'tt0468569', 'name': 'Christopher Nola...  "
      ]
     },
     "execution_count": 6,
     "metadata": {},
     "output_type": "execute_result"
    }
   ],
   "source": [
    "import requests\n",
    "import csv\n",
    "import pandas as pd\n",
    "import json\n",
    "import plotly.graph_objects as go\n",
    "import plotly.express as px\n",
    "import plotly.io as pio\n",
    "# API endpoint URL\n",
    "api_url = \"https://imdb-api.com/API/AdvancedSearch/k_ubtu0kka?title_type=feature&groups=top_250&languages=en&count=250\"\n",
    "\n",
    "# Make a GET request to the API\n",
    "response = requests.get(api_url)\n",
    "movie_list=pd.DataFrame(response.json()[\"results\"])\n",
    "\n",
    "movies_cleaned= movie_list[[\"title\",\"description\",\"genres\",\"contentRating\",\"imDbRating\",\"stars\"]]\n",
    "movies_js=movies_cleaned.to_json()\n",
    "\n",
    "des_df = pd.DataFrame(movies_cleaned)\n",
    "\n",
    "# This is where you define desc_counts\n",
    "desc_counts = des_df['imDbRating'].value_counts()\n",
    "\n",
    "df = pd.DataFrame(movies_cleaned)\n",
    "\n",
    "# This is where you define genre_counts\n",
    "genre_counts = df['genres'].str.split(', ').explode().value_counts()\n",
    "\n",
    "# Now you can use desc_counts and genre_counts in your plots\n",
    "fig = go.Figure(data=[go.Pie(labels=desc_counts.index, values=desc_counts.values)])\n",
    "fig.update_layout(title='IMDB Rating')\n",
    "fig.write_html(\"imdb_chart.html\")\n",
    "\n",
    "fig2 = go.Figure(data=[go.Pie(labels=genre_counts.index, values=genre_counts.values)])\n",
    "fig2.update_layout(title='Genre')\n",
    "fig2.write_html(\"genre_chart.html\")\n",
    "\n",
    "movie_list.head()"
   ]
  },
  {
   "cell_type": "code",
   "execution_count": 2,
   "metadata": {},
   "outputs": [
    {
     "data": {
      "text/html": [
       "<div>\n",
       "<style scoped>\n",
       "    .dataframe tbody tr th:only-of-type {\n",
       "        vertical-align: middle;\n",
       "    }\n",
       "\n",
       "    .dataframe tbody tr th {\n",
       "        vertical-align: top;\n",
       "    }\n",
       "\n",
       "    .dataframe thead th {\n",
       "        text-align: right;\n",
       "    }\n",
       "</style>\n",
       "<table border=\"1\" class=\"dataframe\">\n",
       "  <thead>\n",
       "    <tr style=\"text-align: right;\">\n",
       "      <th></th>\n",
       "      <th>title</th>\n",
       "      <th>description</th>\n",
       "      <th>genres</th>\n",
       "      <th>contentRating</th>\n",
       "      <th>imDbRating</th>\n",
       "      <th>stars</th>\n",
       "    </tr>\n",
       "  </thead>\n",
       "  <tbody>\n",
       "    <tr>\n",
       "      <th>0</th>\n",
       "      <td>Oppenheimer</td>\n",
       "      <td>(2023)</td>\n",
       "      <td>Biography, Drama, History</td>\n",
       "      <td>R</td>\n",
       "      <td>8.7</td>\n",
       "      <td>Christopher Nolan, Cillian Murphy, Emily Blunt...</td>\n",
       "    </tr>\n",
       "    <tr>\n",
       "      <th>1</th>\n",
       "      <td>Interstellar</td>\n",
       "      <td>(2014)</td>\n",
       "      <td>Adventure, Drama, Sci-Fi</td>\n",
       "      <td>PG-13</td>\n",
       "      <td>8.7</td>\n",
       "      <td>Christopher Nolan, Matthew McConaughey, Anne H...</td>\n",
       "    </tr>\n",
       "    <tr>\n",
       "      <th>2</th>\n",
       "      <td>Spider-Man: Across the Spider-Verse</td>\n",
       "      <td>(2023)</td>\n",
       "      <td>Animation, Action, Adventure</td>\n",
       "      <td>PG</td>\n",
       "      <td>8.9</td>\n",
       "      <td>Joaquim Dos Santos, Kemp Powers, Justin K. Tho...</td>\n",
       "    </tr>\n",
       "    <tr>\n",
       "      <th>3</th>\n",
       "      <td>Inception</td>\n",
       "      <td>(2010)</td>\n",
       "      <td>Action, Adventure, Sci-Fi</td>\n",
       "      <td>PG-13</td>\n",
       "      <td>8.8</td>\n",
       "      <td>Christopher Nolan, Leonardo DiCaprio, Joseph G...</td>\n",
       "    </tr>\n",
       "    <tr>\n",
       "      <th>4</th>\n",
       "      <td>The Dark Knight</td>\n",
       "      <td>(2008)</td>\n",
       "      <td>Action, Crime, Drama</td>\n",
       "      <td>PG-13</td>\n",
       "      <td>9.0</td>\n",
       "      <td>Christopher Nolan, Christian Bale, Heath Ledge...</td>\n",
       "    </tr>\n",
       "    <tr>\n",
       "      <th>...</th>\n",
       "      <td>...</td>\n",
       "      <td>...</td>\n",
       "      <td>...</td>\n",
       "      <td>...</td>\n",
       "      <td>...</td>\n",
       "      <td>...</td>\n",
       "    </tr>\n",
       "    <tr>\n",
       "      <th>211</th>\n",
       "      <td>The Battle of Algiers</td>\n",
       "      <td>(1966)</td>\n",
       "      <td>Drama, War</td>\n",
       "      <td>Not Rated</td>\n",
       "      <td>8.1</td>\n",
       "      <td>Gillo Pontecorvo, Brahim Hadjadj, Jean Martin,...</td>\n",
       "    </tr>\n",
       "    <tr>\n",
       "      <th>212</th>\n",
       "      <td>Mr. Smith Goes to Washington</td>\n",
       "      <td>(1939)</td>\n",
       "      <td>Comedy, Drama</td>\n",
       "      <td>Passed</td>\n",
       "      <td>8.1</td>\n",
       "      <td>Frank Capra, James Stewart, Jean Arthur, Claud...</td>\n",
       "    </tr>\n",
       "    <tr>\n",
       "      <th>213</th>\n",
       "      <td>The General</td>\n",
       "      <td>(1926)</td>\n",
       "      <td>Action, Adventure, Comedy</td>\n",
       "      <td>Passed</td>\n",
       "      <td>8.1</td>\n",
       "      <td>Clyde Bruckman, Buster Keaton, Marion Mack, Gl...</td>\n",
       "    </tr>\n",
       "    <tr>\n",
       "      <th>214</th>\n",
       "      <td>The Gold Rush</td>\n",
       "      <td>(1925)</td>\n",
       "      <td>Adventure, Comedy, Drama</td>\n",
       "      <td>Passed</td>\n",
       "      <td>8.1</td>\n",
       "      <td>Charles Chaplin, Mack Swain, Tom Murray, Henry...</td>\n",
       "    </tr>\n",
       "    <tr>\n",
       "      <th>215</th>\n",
       "      <td>Sherlock Jr.</td>\n",
       "      <td>(1924)</td>\n",
       "      <td>Action, Comedy, Romance</td>\n",
       "      <td>Passed</td>\n",
       "      <td>8.2</td>\n",
       "      <td>Buster Keaton, Kathryn McGuire, Joe Keaton, Er...</td>\n",
       "    </tr>\n",
       "  </tbody>\n",
       "</table>\n",
       "<p>216 rows × 6 columns</p>\n",
       "</div>"
      ],
      "text/plain": [
       "                                   title description  \\\n",
       "0                            Oppenheimer      (2023)   \n",
       "1                           Interstellar      (2014)   \n",
       "2    Spider-Man: Across the Spider-Verse      (2023)   \n",
       "3                              Inception      (2010)   \n",
       "4                        The Dark Knight      (2008)   \n",
       "..                                   ...         ...   \n",
       "211                The Battle of Algiers      (1966)   \n",
       "212         Mr. Smith Goes to Washington      (1939)   \n",
       "213                          The General      (1926)   \n",
       "214                        The Gold Rush      (1925)   \n",
       "215                         Sherlock Jr.      (1924)   \n",
       "\n",
       "                           genres contentRating imDbRating  \\\n",
       "0       Biography, Drama, History             R        8.7   \n",
       "1        Adventure, Drama, Sci-Fi         PG-13        8.7   \n",
       "2    Animation, Action, Adventure            PG        8.9   \n",
       "3       Action, Adventure, Sci-Fi         PG-13        8.8   \n",
       "4            Action, Crime, Drama         PG-13        9.0   \n",
       "..                            ...           ...        ...   \n",
       "211                    Drama, War     Not Rated        8.1   \n",
       "212                 Comedy, Drama        Passed        8.1   \n",
       "213     Action, Adventure, Comedy        Passed        8.1   \n",
       "214      Adventure, Comedy, Drama        Passed        8.1   \n",
       "215       Action, Comedy, Romance        Passed        8.2   \n",
       "\n",
       "                                                 stars  \n",
       "0    Christopher Nolan, Cillian Murphy, Emily Blunt...  \n",
       "1    Christopher Nolan, Matthew McConaughey, Anne H...  \n",
       "2    Joaquim Dos Santos, Kemp Powers, Justin K. Tho...  \n",
       "3    Christopher Nolan, Leonardo DiCaprio, Joseph G...  \n",
       "4    Christopher Nolan, Christian Bale, Heath Ledge...  \n",
       "..                                                 ...  \n",
       "211  Gillo Pontecorvo, Brahim Hadjadj, Jean Martin,...  \n",
       "212  Frank Capra, James Stewart, Jean Arthur, Claud...  \n",
       "213  Clyde Bruckman, Buster Keaton, Marion Mack, Gl...  \n",
       "214  Charles Chaplin, Mack Swain, Tom Murray, Henry...  \n",
       "215  Buster Keaton, Kathryn McGuire, Joe Keaton, Er...  \n",
       "\n",
       "[216 rows x 6 columns]"
      ]
     },
     "execution_count": 2,
     "metadata": {},
     "output_type": "execute_result"
    }
   ],
   "source": [
    "movies_cleaned= movie_list[[\"title\",\"description\",\"genres\",\"contentRating\",\"imDbRating\",\"stars\"]]\n",
    "movies_cleaned"
   ]
  },
  {
   "cell_type": "code",
   "execution_count": 3,
   "metadata": {},
   "outputs": [
    {
     "name": "stdout",
     "output_type": "stream",
     "text": [
      "{\"title\":{\"0\":\"Oppenheimer\",\"1\":\"Interstellar\",\"2\":\"Spider-Man: Across the Spider-Verse\",\"3\":\"Inception\",\"4\":\"The Dark Knight\",\"5\":\"The Wolf of Wall Street\",\"6\":\"The Shawshank Redemption\",\"7\":\"The Prestige\",\"8\":\"Top Gun: Maverick\",\"9\":\"The Godfather\",\"10\":\"Memento\",\"11\":\"The Exorcist\",\"12\":\"Pulp Fiction\",\"13\":\"The Dark Knight Rises\",\"14\":\"Batman Begins\",\"15\":\"Spider-Man: Into the Spider-Verse\",\"16\":\"Raiders of the Lost Ark\",\"17\":\"Braveheart\",\"18\":\"Jaws\",\"19\":\"Spider-Man: No Way Home\",\"20\":\"Fight Club\",\"21\":\"Inglourious Basterds\",\"22\":\"Django Unchained\",\"23\":\"Joker\",\"24\":\"Avengers: Endgame\",\"25\":\"No Country for Old Men\",\"26\":\"Se7en\",\"27\":\"Saving Private Ryan\",\"28\":\"Prisoners\",\"29\":\"Heat\",\"30\":\"Schindler's List\",\"31\":\"Back to the Future\",\"32\":\"The Lord of the Rings: The Fellowship of the Ring\",\"33\":\"Indiana Jones and the Last Crusade\",\"34\":\"Shutter Island\",\"35\":\"Parasite\",\"36\":\"Gladiator\",\"37\":\"American Beauty\",\"38\":\"The Departed\",\"39\":\"Forrest Gump\",\"40\":\"Gone Girl\",\"41\":\"The Silence of the Lambs\",\"42\":\"12 Angry Men\",\"43\":\"Jurassic Park\",\"44\":\"Goodfellas\",\"45\":\"Alien\",\"46\":\"Whiplash\",\"47\":\"The Grand Budapest Hotel\",\"48\":\"Mad Max: Fury Road\",\"49\":\"Pirates of the Caribbean: The Curse of the Black Pearl\",\"50\":\"There Will Be Blood\",\"51\":\"The Shining\",\"52\":\"Requiem for a Dream\",\"53\":\"One Flew Over the Cuckoo's Nest\",\"54\":\"The Matrix\",\"55\":\"Good Will Hunting\",\"56\":\"Aliens\",\"57\":\"2001: A Space Odyssey\",\"58\":\"The Truman Show\",\"59\":\"Taxi Driver\",\"60\":\"L\\u00e9on: The Professional\",\"61\":\"Terminator 2: Judgment Day\",\"62\":\"The Pianist\",\"63\":\"Avengers: Infinity War\",\"64\":\"1917\",\"65\":\"Apocalypse Now\",\"66\":\"The Green Mile\",\"67\":\"Blade Runner\",\"68\":\"The Lord of the Rings: The Return of the King\",\"69\":\"Hacksaw Ridge\",\"70\":\"To Kill a Mockingbird\",\"71\":\"Reservoir Dogs\",\"72\":\"The Usual Suspects\",\"73\":\"The Terminator\",\"74\":\"Stand by Me\",\"75\":\"Amadeus\",\"76\":\"The Godfather Part II\",\"77\":\"Catch Me If You Can\",\"78\":\"A Clockwork Orange\",\"79\":\"Ford v Ferrari\",\"80\":\"The Big Lebowski\",\"81\":\"Scarface\",\"82\":\"Star Wars: Episode IV - A New Hope\",\"83\":\"Eternal Sunshine of the Spotless Mind\",\"84\":\"Snatch\",\"85\":\"The Hunt\",\"86\":\"Full Metal Jacket\",\"87\":\"The Lion King\",\"88\":\"Kill Bill: Vol. 1\",\"89\":\"The Good, the Bad and the Ugly\",\"90\":\"Harry Potter and the Deathly Hallows: Part 2\",\"91\":\"The Thing\",\"92\":\"American History X\",\"93\":\"Ratatouille\",\"94\":\"Die Hard\",\"95\":\"Casino\",\"96\":\"Once Upon a Time in America\",\"97\":\"Toy Story\",\"98\":\"Green Book\",\"99\":\"The Help\",\"100\":\"Logan\",\"101\":\"The Sixth Sense\",\"102\":\"A Beautiful Mind\",\"103\":\"The Lord of the Rings: The Two Towers\",\"104\":\"Three Billboards Outside Ebbing, Missouri\",\"105\":\"Life Is Beautiful\",\"106\":\"Fargo\",\"107\":\"Inside Out\",\"108\":\"Rocky\",\"109\":\"Dead Poets Society\",\"110\":\"The Intouchables\",\"111\":\"The Incredibles\",\"112\":\"Dr. Strangelove or: How I Learned to Stop Worrying and Love the Bomb\",\"113\":\"The Wizard of Oz\",\"114\":\"Finding Nemo\",\"115\":\"Memories of Murder\",\"116\":\"Hamilton\",\"117\":\"Into the Wild\",\"118\":\"L.A. Confidential\",\"119\":\"Warrior\",\"120\":\"Trainspotting\",\"121\":\"Psycho\",\"122\":\"V for Vendetta\",\"123\":\"Casablanca\",\"124\":\"Star Wars: Episode V - The Empire Strikes Back\",\"125\":\"The Father\",\"126\":\"Spotlight\",\"127\":\"Coco\",\"128\":\"Platoon\",\"129\":\"Monsters, Inc.\",\"130\":\"Up\",\"131\":\"Incendies\",\"132\":\"Lawrence of Arabia\",\"133\":\"Toy Story 3\",\"134\":\"Downfall\",\"135\":\"Before Sunrise\",\"136\":\"Once Upon a Time in the West\",\"137\":\"Rush\",\"138\":\"Chinatown\",\"139\":\"Lock, Stock and Two Smoking Barrels\",\"140\":\"WALL\\u00b7E\",\"141\":\"Am\\u00e9lie\",\"142\":\"Room\",\"143\":\"Star Wars: Episode VI - Return of the Jedi\",\"144\":\"Gone with the Wind\",\"145\":\"It's a Wonderful Life\",\"146\":\"Dances with Wolves\",\"147\":\"Unforgiven\",\"148\":\"The Deer Hunter\",\"149\":\"The Sound of Music\",\"150\":\"How to Train Your Dragon\",\"151\":\"12 Years a Slave\",\"152\":\"Aladdin\",\"153\":\"3 Idiots\",\"154\":\"Groundhog Day\",\"155\":\"Barry Lyndon\",\"156\":\"Rear Window\",\"157\":\"Cool Hand Luke\",\"158\":\"Vertigo\",\"159\":\"Citizen Kane\",\"160\":\"Raging Bull\",\"161\":\"Monty Python and the Holy Grail\",\"162\":\"Singin' in the Rain\",\"163\":\"The Great Escape\",\"164\":\"Million Dollar Baby\",\"165\":\"The Elephant Man\",\"166\":\"Gran Torino\",\"167\":\"Some Like It Hot\",\"168\":\"For a Few Dollars More\",\"169\":\"In the Name of the Father\",\"170\":\"Hachi: A Dog's Tale\",\"171\":\"Network\",\"172\":\"Metropolis\",\"173\":\"Ben-Hur\",\"174\":\"The Iron Giant\",\"175\":\"Life of Brian\",\"176\":\"Paths of Glory\",\"177\":\"North by Northwest\",\"178\":\"Before Sunset\",\"179\":\"The Sting\",\"180\":\"Sunset Blvd.\",\"181\":\"The Apartment\",\"182\":\"City Lights\",\"183\":\"Persona\",\"184\":\"The Third Man\",\"185\":\"Judgment at Nuremberg\",\"186\":\"On the Waterfront\",\"187\":\"Dangal\",\"188\":\"Witness for the Prosecution\",\"189\":\"The Bridge on the River Kwai\",\"190\":\"Ikiru\",\"191\":\"Dial M for Murder\",\"192\":\"Rebecca\",\"193\":\"The Great Dictator\",\"194\":\"Hotel Rwanda\",\"195\":\"Double Indemnity\",\"196\":\"Klaus\",\"197\":\"To Be or Not to Be\",\"198\":\"All About Eve\",\"199\":\"It Happened One Night\",\"200\":\"Mary and Max\",\"201\":\"The Best Years of Our Lives\",\"202\":\"Modern Times\",\"203\":\"Like Stars on Earth\",\"204\":\"The 400 Blows\",\"205\":\"Bicycle Thieves\",\"206\":\"The Wages of Fear\",\"207\":\"Tokyo Story\",\"208\":\"The Grapes of Wrath\",\"209\":\"The Treasure of the Sierra Madre\",\"210\":\"The Kid\",\"211\":\"The Battle of Algiers\",\"212\":\"Mr. Smith Goes to Washington\",\"213\":\"The General\",\"214\":\"The Gold Rush\",\"215\":\"Sherlock Jr.\"},\"description\":{\"0\":\"(2023)\",\"1\":\"(2014)\",\"2\":\"(2023)\",\"3\":\"(2010)\",\"4\":\"(2008)\",\"5\":\"(2013)\",\"6\":\"(1994)\",\"7\":\"(2006)\",\"8\":\"(2022)\",\"9\":\"(1972)\",\"10\":\"(2000)\",\"11\":\"(1973)\",\"12\":\"(1994)\",\"13\":\"(2012)\",\"14\":\"(2005)\",\"15\":\"(2018)\",\"16\":\"(1981)\",\"17\":\"(1995)\",\"18\":\"(1975)\",\"19\":\"(2021)\",\"20\":\"(1999)\",\"21\":\"(2009)\",\"22\":\"(2012)\",\"23\":\"(I) (2019)\",\"24\":\"(2019)\",\"25\":\"(2007)\",\"26\":\"(1995)\",\"27\":\"(1998)\",\"28\":\"(2013)\",\"29\":\"(1995)\",\"30\":\"(1993)\",\"31\":\"(1985)\",\"32\":\"(2001)\",\"33\":\"(1989)\",\"34\":\"(2010)\",\"35\":\"(2019)\",\"36\":\"(2000)\",\"37\":\"(1999)\",\"38\":\"(2006)\",\"39\":\"(1994)\",\"40\":\"(2014)\",\"41\":\"(1991)\",\"42\":\"(1957)\",\"43\":\"(1993)\",\"44\":\"(1990)\",\"45\":\"(1979)\",\"46\":\"(2014)\",\"47\":\"(2014)\",\"48\":\"(2015)\",\"49\":\"(2003)\",\"50\":\"(2007)\",\"51\":\"(1980)\",\"52\":\"(2000)\",\"53\":\"(1975)\",\"54\":\"(1999)\",\"55\":\"(1997)\",\"56\":\"(1986)\",\"57\":\"(1968)\",\"58\":\"(1998)\",\"59\":\"(1976)\",\"60\":\"(1994)\",\"61\":\"(1991)\",\"62\":\"(2002)\",\"63\":\"(2018)\",\"64\":\"(2019)\",\"65\":\"(1979)\",\"66\":\"(1999)\",\"67\":\"(1982)\",\"68\":\"(2003)\",\"69\":\"(2016)\",\"70\":\"(1962)\",\"71\":\"(1992)\",\"72\":\"(1995)\",\"73\":\"(1984)\",\"74\":\"(1986)\",\"75\":\"(1984)\",\"76\":\"(1974)\",\"77\":\"(2002)\",\"78\":\"(1971)\",\"79\":\"(2019)\",\"80\":\"(1998)\",\"81\":\"(1983)\",\"82\":\"(1977)\",\"83\":\"(2004)\",\"84\":\"(2000)\",\"85\":\"(2012)\",\"86\":\"(1987)\",\"87\":\"(1994)\",\"88\":\"(2003)\",\"89\":\"(1966)\",\"90\":\"(2011)\",\"91\":\"(1982)\",\"92\":\"(1998)\",\"93\":\"(2007)\",\"94\":\"(1988)\",\"95\":\"(1995)\",\"96\":\"(1984)\",\"97\":\"(1995)\",\"98\":\"(2018)\",\"99\":\"(2011)\",\"100\":\"(2017)\",\"101\":\"(1999)\",\"102\":\"(2001)\",\"103\":\"(2002)\",\"104\":\"(2017)\",\"105\":\"(1997)\",\"106\":\"(1996)\",\"107\":\"(I) (2015)\",\"108\":\"(1976)\",\"109\":\"(1989)\",\"110\":\"(2011)\",\"111\":\"(2004)\",\"112\":\"(1964)\",\"113\":\"(1939)\",\"114\":\"(2003)\",\"115\":\"(2003)\",\"116\":\"(2020)\",\"117\":\"(2007)\",\"118\":\"(1997)\",\"119\":\"(2011)\",\"120\":\"(1996)\",\"121\":\"(1960)\",\"122\":\"(2005)\",\"123\":\"(1942)\",\"124\":\"(1980)\",\"125\":\"(I) (2020)\",\"126\":\"(I) (2015)\",\"127\":\"(I) (2017)\",\"128\":\"(1986)\",\"129\":\"(2001)\",\"130\":\"(2009)\",\"131\":\"(2010)\",\"132\":\"(1962)\",\"133\":\"(2010)\",\"134\":\"(2004)\",\"135\":\"(1995)\",\"136\":\"(1968)\",\"137\":\"(I) (2013)\",\"138\":\"(1974)\",\"139\":\"(1998)\",\"140\":\"(2008)\",\"141\":\"(2001)\",\"142\":\"(I) (2015)\",\"143\":\"(1983)\",\"144\":\"(1939)\",\"145\":\"(1946)\",\"146\":\"(1990)\",\"147\":\"(1992)\",\"148\":\"(1978)\",\"149\":\"(1965)\",\"150\":\"(2010)\",\"151\":\"(2013)\",\"152\":\"(1992)\",\"153\":\"(2009)\",\"154\":\"(1993)\",\"155\":\"(1975)\",\"156\":\"(1954)\",\"157\":\"(1967)\",\"158\":\"(1958)\",\"159\":\"(1941)\",\"160\":\"(1980)\",\"161\":\"(1975)\",\"162\":\"(1952)\",\"163\":\"(1963)\",\"164\":\"(2004)\",\"165\":\"(1980)\",\"166\":\"(2008)\",\"167\":\"(1959)\",\"168\":\"(1965)\",\"169\":\"(1993)\",\"170\":\"(2009)\",\"171\":\"(1976)\",\"172\":\"(1927)\",\"173\":\"(1959)\",\"174\":\"(1999)\",\"175\":\"(1979)\",\"176\":\"(1957)\",\"177\":\"(1959)\",\"178\":\"(2004)\",\"179\":\"(1973)\",\"180\":\"(1950)\",\"181\":\"(1960)\",\"182\":\"(1931)\",\"183\":\"(1966)\",\"184\":\"(1949)\",\"185\":\"(1961)\",\"186\":\"(1954)\",\"187\":\"(2016)\",\"188\":\"(1957)\",\"189\":\"(1957)\",\"190\":\"(1952)\",\"191\":\"(1954)\",\"192\":\"(1940)\",\"193\":\"(1940)\",\"194\":\"(2004)\",\"195\":\"(1944)\",\"196\":\"(2019)\",\"197\":\"(1942)\",\"198\":\"(1950)\",\"199\":\"(1934)\",\"200\":\"(2009)\",\"201\":\"(1946)\",\"202\":\"(1936)\",\"203\":\"(2007)\",\"204\":\"(1959)\",\"205\":\"(1948)\",\"206\":\"(1953)\",\"207\":\"(1953)\",\"208\":\"(1940)\",\"209\":\"(1948)\",\"210\":\"(1921)\",\"211\":\"(1966)\",\"212\":\"(1939)\",\"213\":\"(1926)\",\"214\":\"(1925)\",\"215\":\"(1924)\"},\"genres\":{\"0\":\"Biography, Drama, History\",\"1\":\"Adventure, Drama, Sci-Fi\",\"2\":\"Animation, Action, Adventure\",\"3\":\"Action, Adventure, Sci-Fi\",\"4\":\"Action, Crime, Drama\",\"5\":\"Biography, Comedy, Crime\",\"6\":\"Drama\",\"7\":\"Drama, Mystery, Sci-Fi\",\"8\":\"Action, Drama\",\"9\":\"Crime, Drama\",\"10\":\"Mystery, Thriller\",\"11\":\"Horror\",\"12\":\"Crime, Drama\",\"13\":\"Action, Drama, Thriller\",\"14\":\"Action, Crime, Drama\",\"15\":\"Animation, Action, Adventure\",\"16\":\"Action, Adventure\",\"17\":\"Biography, Drama, History\",\"18\":\"Adventure, Mystery, Thriller\",\"19\":\"Action, Adventure, Fantasy\",\"20\":\"Drama\",\"21\":\"Adventure, Drama, War\",\"22\":\"Drama, Western\",\"23\":\"Crime, Drama, Thriller\",\"24\":\"Action, Adventure, Drama\",\"25\":\"Crime, Drama, Thriller\",\"26\":\"Crime, Drama, Mystery\",\"27\":\"Drama, War\",\"28\":\"Crime, Drama, Mystery\",\"29\":\"Action, Crime, Drama\",\"30\":\"Biography, Drama, History\",\"31\":\"Adventure, Comedy, Sci-Fi\",\"32\":\"Action, Adventure, Drama\",\"33\":\"Action, Adventure\",\"34\":\"Mystery, Thriller\",\"35\":\"Drama, Thriller\",\"36\":\"Action, Adventure, Drama\",\"37\":\"Drama\",\"38\":\"Crime, Drama, Thriller\",\"39\":\"Drama, Romance\",\"40\":\"Drama, Mystery, Thriller\",\"41\":\"Crime, Drama, Thriller\",\"42\":\"Crime, Drama\",\"43\":\"Action, Adventure, Sci-Fi\",\"44\":\"Biography, Crime, Drama\",\"45\":\"Horror, Sci-Fi\",\"46\":\"Drama, Music\",\"47\":\"Adventure, Comedy, Crime\",\"48\":\"Action, Adventure, Sci-Fi\",\"49\":\"Action, Adventure, Fantasy\",\"50\":\"Drama\",\"51\":\"Drama, Horror\",\"52\":\"Drama\",\"53\":\"Drama\",\"54\":\"Action, Sci-Fi\",\"55\":\"Drama, Romance\",\"56\":\"Action, Adventure, Sci-Fi\",\"57\":\"Adventure, Sci-Fi\",\"58\":\"Comedy, Drama\",\"59\":\"Crime, Drama\",\"60\":\"Action, Crime, Drama\",\"61\":\"Action, Sci-Fi\",\"62\":\"Biography, Drama, Music\",\"63\":\"Action, Adventure, Sci-Fi\",\"64\":\"Action, Drama, War\",\"65\":\"Drama, Mystery, War\",\"66\":\"Crime, Drama, Fantasy\",\"67\":\"Action, Drama, Sci-Fi\",\"68\":\"Action, Adventure, Drama\",\"69\":\"Biography, Drama, History\",\"70\":\"Crime, Drama\",\"71\":\"Crime, Thriller\",\"72\":\"Crime, Drama, Mystery\",\"73\":\"Action, Sci-Fi\",\"74\":\"Adventure, Drama\",\"75\":\"Biography, Drama, Music\",\"76\":\"Crime, Drama\",\"77\":\"Biography, Crime, Drama\",\"78\":\"Crime, Sci-Fi\",\"79\":\"Action, Biography, Drama\",\"80\":\"Comedy, Crime\",\"81\":\"Crime, Drama\",\"82\":\"Action, Adventure, Fantasy\",\"83\":\"Drama, Romance, Sci-Fi\",\"84\":\"Comedy, Crime\",\"85\":\"Drama\",\"86\":\"Drama, War\",\"87\":\"Animation, Adventure, Drama\",\"88\":\"Action, Crime, Thriller\",\"89\":\"Adventure, Western\",\"90\":\"Adventure, Family, Fantasy\",\"91\":\"Horror, Mystery, Sci-Fi\",\"92\":\"Crime, Drama\",\"93\":\"Animation, Adventure, Comedy\",\"94\":\"Action, Thriller\",\"95\":\"Crime, Drama\",\"96\":\"Crime, Drama\",\"97\":\"Animation, Adventure, Comedy\",\"98\":\"Biography, Comedy, Drama\",\"99\":\"Drama\",\"100\":\"Action, Drama, Sci-Fi\",\"101\":\"Drama, Mystery, Thriller\",\"102\":\"Biography, Drama\",\"103\":\"Action, Adventure, Drama\",\"104\":\"Comedy, Crime, Drama\",\"105\":\"Comedy, Drama, Romance\",\"106\":\"Crime, Thriller\",\"107\":\"Animation, Adventure, Comedy\",\"108\":\"Drama, Sport\",\"109\":\"Comedy, Drama\",\"110\":\"Biography, Comedy, Drama\",\"111\":\"Animation, Action, Adventure\",\"112\":\"Comedy, War\",\"113\":\"Adventure, Family, Fantasy\",\"114\":\"Animation, Adventure, Comedy\",\"115\":\"Crime, Drama, Mystery\",\"116\":\"Biography, Drama, History\",\"117\":\"Adventure, Biography, Drama\",\"118\":\"Crime, Drama, Mystery\",\"119\":\"Action, Drama, Sport\",\"120\":\"Drama\",\"121\":\"Horror, Mystery, Thriller\",\"122\":\"Action, Drama, Sci-Fi\",\"123\":\"Drama, Romance, War\",\"124\":\"Action, Adventure, Fantasy\",\"125\":\"Drama, Mystery\",\"126\":\"Biography, Crime, Drama\",\"127\":\"Animation, Adventure, Drama\",\"128\":\"Drama, War\",\"129\":\"Animation, Adventure, Comedy\",\"130\":\"Animation, Adventure, Comedy\",\"131\":\"Drama, Mystery, War\",\"132\":\"Adventure, Biography, Drama\",\"133\":\"Animation, Adventure, Comedy\",\"134\":\"Biography, Drama, History\",\"135\":\"Drama, Romance\",\"136\":\"Western\",\"137\":\"Action, Biography, Drama\",\"138\":\"Drama, Mystery, Thriller\",\"139\":\"Action, Comedy, Crime\",\"140\":\"Animation, Adventure, Family\",\"141\":\"Comedy, Romance\",\"142\":\"Drama, Thriller\",\"143\":\"Action, Adventure, Fantasy\",\"144\":\"Drama, Romance, War\",\"145\":\"Drama, Family, Fantasy\",\"146\":\"Adventure, Drama, Western\",\"147\":\"Drama, Western\",\"148\":\"Drama, War\",\"149\":\"Biography, Drama, Family\",\"150\":\"Animation, Action, Adventure\",\"151\":\"Biography, Drama, History\",\"152\":\"Animation, Adventure, Comedy\",\"153\":\"Comedy, Drama\",\"154\":\"Comedy, Drama, Fantasy\",\"155\":\"Adventure, Drama, War\",\"156\":\"Mystery, Thriller\",\"157\":\"Crime, Drama\",\"158\":\"Mystery, Romance, Thriller\",\"159\":\"Drama, Mystery\",\"160\":\"Biography, Drama, Sport\",\"161\":\"Adventure, Comedy, Fantasy\",\"162\":\"Comedy, Musical, Romance\",\"163\":\"Adventure, Drama, History\",\"164\":\"Drama, Sport\",\"165\":\"Biography, Drama\",\"166\":\"Drama\",\"167\":\"Comedy, Music, Romance\",\"168\":\"Drama, Western\",\"169\":\"Biography, Crime, Drama\",\"170\":\"Biography, Drama, Family\",\"171\":\"Drama\",\"172\":\"Drama, Sci-Fi\",\"173\":\"Adventure, Drama\",\"174\":\"Animation, Action, Adventure\",\"175\":\"Comedy\",\"176\":\"Drama, War\",\"177\":\"Action, Adventure, Mystery\",\"178\":\"Drama, Romance\",\"179\":\"Comedy, Crime, Drama\",\"180\":\"Drama, Film-Noir\",\"181\":\"Comedy, Drama, Romance\",\"182\":\"Comedy, Drama, Romance\",\"183\":\"Drama, Thriller\",\"184\":\"Film-Noir, Mystery, Thriller\",\"185\":\"Drama, War\",\"186\":\"Crime, Drama, Thriller\",\"187\":\"Action, Biography, Drama\",\"188\":\"Crime, Drama, Mystery\",\"189\":\"Adventure, Drama, War\",\"190\":\"Drama\",\"191\":\"Crime, Thriller\",\"192\":\"Drama, Film-Noir, Mystery\",\"193\":\"Comedy, Drama, War\",\"194\":\"Biography, Drama, History\",\"195\":\"Crime, Drama, Film-Noir\",\"196\":\"Animation, Adventure, Comedy\",\"197\":\"Comedy, Romance, War\",\"198\":\"Drama\",\"199\":\"Comedy, Romance\",\"200\":\"Animation, Comedy, Drama\",\"201\":\"Drama, Romance, War\",\"202\":\"Comedy, Drama, Romance\",\"203\":\"Drama, Family\",\"204\":\"Crime, Drama\",\"205\":\"Drama\",\"206\":\"Adventure, Drama, Thriller\",\"207\":\"Drama\",\"208\":\"Drama\",\"209\":\"Adventure, Drama, Western\",\"210\":\"Comedy, Drama, Family\",\"211\":\"Drama, War\",\"212\":\"Comedy, Drama\",\"213\":\"Action, Adventure, Comedy\",\"214\":\"Adventure, Comedy, Drama\",\"215\":\"Action, Comedy, Romance\"},\"contentRating\":{\"0\":\"R\",\"1\":\"PG-13\",\"2\":\"PG\",\"3\":\"PG-13\",\"4\":\"PG-13\",\"5\":\"R\",\"6\":\"R\",\"7\":\"PG-13\",\"8\":\"PG-13\",\"9\":\"R\",\"10\":\"R\",\"11\":\"R\",\"12\":\"R\",\"13\":\"PG-13\",\"14\":\"PG-13\",\"15\":\"PG\",\"16\":\"PG\",\"17\":\"R\",\"18\":\"PG\",\"19\":\"PG-13\",\"20\":\"R\",\"21\":\"R\",\"22\":\"R\",\"23\":\"R\",\"24\":\"PG-13\",\"25\":\"R\",\"26\":\"R\",\"27\":\"R\",\"28\":\"R\",\"29\":\"R\",\"30\":\"R\",\"31\":\"PG\",\"32\":\"PG-13\",\"33\":\"PG-13\",\"34\":\"R\",\"35\":\"R\",\"36\":\"R\",\"37\":\"R\",\"38\":\"R\",\"39\":\"PG-13\",\"40\":\"R\",\"41\":\"R\",\"42\":\"Approved\",\"43\":\"PG-13\",\"44\":\"R\",\"45\":\"R\",\"46\":\"R\",\"47\":\"R\",\"48\":\"R\",\"49\":\"PG-13\",\"50\":\"R\",\"51\":\"R\",\"52\":\"R\",\"53\":\"R\",\"54\":\"R\",\"55\":\"R\",\"56\":\"R\",\"57\":\"G\",\"58\":\"PG\",\"59\":\"R\",\"60\":\"R\",\"61\":\"R\",\"62\":\"R\",\"63\":\"PG-13\",\"64\":\"R\",\"65\":\"R\",\"66\":\"R\",\"67\":\"R\",\"68\":\"PG-13\",\"69\":\"R\",\"70\":\"Approved\",\"71\":\"R\",\"72\":\"R\",\"73\":\"R\",\"74\":\"R\",\"75\":\"R\",\"76\":\"R\",\"77\":\"PG-13\",\"78\":\"R\",\"79\":\"PG-13\",\"80\":\"R\",\"81\":\"R\",\"82\":\"PG\",\"83\":\"R\",\"84\":\"R\",\"85\":\"R\",\"86\":\"R\",\"87\":\"G\",\"88\":\"R\",\"89\":\"Approved\",\"90\":\"PG-13\",\"91\":\"16+\",\"92\":\"R\",\"93\":\"G\",\"94\":\"R\",\"95\":\"R\",\"96\":\"R\",\"97\":\"G\",\"98\":\"PG-13\",\"99\":\"PG-13\",\"100\":\"R\",\"101\":\"PG-13\",\"102\":\"PG-13\",\"103\":\"PG-13\",\"104\":\"R\",\"105\":\"PG-13\",\"106\":\"R\",\"107\":\"PG\",\"108\":\"PG\",\"109\":\"PG\",\"110\":\"R\",\"111\":\"PG\",\"112\":\"PG\",\"113\":\"PG\",\"114\":\"G\",\"115\":\"Not Rated\",\"116\":\"PG-13\",\"117\":\"R\",\"118\":\"R\",\"119\":\"PG-13\",\"120\":\"R\",\"121\":\"R\",\"122\":\"R\",\"123\":\"PG\",\"124\":\"PG\",\"125\":\"PG-13\",\"126\":\"R\",\"127\":\"PG\",\"128\":\"R\",\"129\":\"G\",\"130\":\"PG\",\"131\":\"R\",\"132\":\"Approved\",\"133\":\"G\",\"134\":\"R\",\"135\":\"R\",\"136\":\"PG-13\",\"137\":\"R\",\"138\":\"R\",\"139\":\"R\",\"140\":\"G\",\"141\":\"R\",\"142\":\"R\",\"143\":\"PG\",\"144\":\"Passed\",\"145\":\"PG\",\"146\":\"PG-13\",\"147\":\"R\",\"148\":\"R\",\"149\":\"G\",\"150\":\"PG\",\"151\":\"R\",\"152\":\"G\",\"153\":\"PG-13\",\"154\":\"PG\",\"155\":\"PG\",\"156\":\"PG\",\"157\":\"GP\",\"158\":\"PG\",\"159\":\"PG\",\"160\":\"R\",\"161\":\"PG\",\"162\":\"G\",\"163\":\"Approved\",\"164\":\"PG-13\",\"165\":\"PG\",\"166\":\"R\",\"167\":\"Passed\",\"168\":\"R\",\"169\":\"R\",\"170\":\"G\",\"171\":\"R\",\"172\":\"Not Rated\",\"173\":\"G\",\"174\":\"PG\",\"175\":\"R\",\"176\":\"Approved\",\"177\":\"Approved\",\"178\":\"R\",\"179\":\"PG\",\"180\":\"Passed\",\"181\":\"Approved\",\"182\":\"G\",\"183\":\"Not Rated\",\"184\":\"Approved\",\"185\":\"Approved\",\"186\":\"Approved\",\"187\":\"Not Rated\",\"188\":\"Approved\",\"189\":\"PG\",\"190\":\"Not Rated\",\"191\":\"PG\",\"192\":\"Approved\",\"193\":\"G\",\"194\":\"PG-13\",\"195\":\"Passed\",\"196\":\"PG\",\"197\":\"Passed\",\"198\":\"Passed\",\"199\":\"Passed\",\"200\":\"Not Rated\",\"201\":\"Approved\",\"202\":\"G\",\"203\":\"PG\",\"204\":\"Not Rated\",\"205\":\"Not Rated\",\"206\":\"Not Rated\",\"207\":\"Not Rated\",\"208\":\"Passed\",\"209\":\"Passed\",\"210\":\"Passed\",\"211\":\"Not Rated\",\"212\":\"Passed\",\"213\":\"Passed\",\"214\":\"Passed\",\"215\":\"Passed\"},\"imDbRating\":{\"0\":\"8.7\",\"1\":\"8.7\",\"2\":\"8.9\",\"3\":\"8.8\",\"4\":\"9.0\",\"5\":\"8.2\",\"6\":\"9.3\",\"7\":\"8.5\",\"8\":\"8.3\",\"9\":\"9.2\",\"10\":\"8.4\",\"11\":\"8.1\",\"12\":\"8.9\",\"13\":\"8.4\",\"14\":\"8.2\",\"15\":\"8.4\",\"16\":\"8.4\",\"17\":\"8.3\",\"18\":\"8.1\",\"19\":\"8.2\",\"20\":\"8.8\",\"21\":\"8.3\",\"22\":\"8.4\",\"23\":\"8.4\",\"24\":\"8.4\",\"25\":\"8.2\",\"26\":\"8.6\",\"27\":\"8.6\",\"28\":\"8.1\",\"29\":\"8.3\",\"30\":\"9.0\",\"31\":\"8.5\",\"32\":\"8.8\",\"33\":\"8.2\",\"34\":\"8.2\",\"35\":\"8.5\",\"36\":\"8.5\",\"37\":\"8.3\",\"38\":\"8.5\",\"39\":\"8.8\",\"40\":\"8.1\",\"41\":\"8.6\",\"42\":\"9.0\",\"43\":\"8.2\",\"44\":\"8.7\",\"45\":\"8.5\",\"46\":\"8.5\",\"47\":\"8.1\",\"48\":\"8.1\",\"49\":\"8.1\",\"50\":\"8.2\",\"51\":\"8.4\",\"52\":\"8.3\",\"53\":\"8.7\",\"54\":\"8.7\",\"55\":\"8.3\",\"56\":\"8.4\",\"57\":\"8.3\",\"58\":\"8.2\",\"59\":\"8.2\",\"60\":\"8.5\",\"61\":\"8.6\",\"62\":\"8.5\",\"63\":\"8.4\",\"64\":\"8.2\",\"65\":\"8.4\",\"66\":\"8.6\",\"67\":\"8.1\",\"68\":\"9.0\",\"69\":\"8.1\",\"70\":\"8.3\",\"71\":\"8.3\",\"72\":\"8.5\",\"73\":\"8.1\",\"74\":\"8.1\",\"75\":\"8.4\",\"76\":\"9.0\",\"77\":\"8.1\",\"78\":\"8.3\",\"79\":\"8.1\",\"80\":\"8.1\",\"81\":\"8.3\",\"82\":\"8.6\",\"83\":\"8.3\",\"84\":\"8.2\",\"85\":\"8.3\",\"86\":\"8.3\",\"87\":\"8.5\",\"88\":\"8.2\",\"89\":\"8.8\",\"90\":\"8.1\",\"91\":\"8.2\",\"92\":\"8.5\",\"93\":\"8.1\",\"94\":\"8.2\",\"95\":\"8.2\",\"96\":\"8.3\",\"97\":\"8.3\",\"98\":\"8.2\",\"99\":\"8.1\",\"100\":\"8.1\",\"101\":\"8.2\",\"102\":\"8.2\",\"103\":\"8.8\",\"104\":\"8.1\",\"105\":\"8.6\",\"106\":\"8.1\",\"107\":\"8.1\",\"108\":\"8.1\",\"109\":\"8.1\",\"110\":\"8.5\",\"111\":\"8.0\",\"112\":\"8.4\",\"113\":\"8.1\",\"114\":\"8.2\",\"115\":\"8.1\",\"116\":\"8.3\",\"117\":\"8.1\",\"118\":\"8.2\",\"119\":\"8.1\",\"120\":\"8.1\",\"121\":\"8.5\",\"122\":\"8.2\",\"123\":\"8.5\",\"124\":\"8.7\",\"125\":\"8.2\",\"126\":\"8.1\",\"127\":\"8.4\",\"128\":\"8.1\",\"129\":\"8.1\",\"130\":\"8.3\",\"131\":\"8.3\",\"132\":\"8.3\",\"133\":\"8.3\",\"134\":\"8.2\",\"135\":\"8.1\",\"136\":\"8.5\",\"137\":\"8.1\",\"138\":\"8.2\",\"139\":\"8.1\",\"140\":\"8.4\",\"141\":\"8.3\",\"142\":\"8.1\",\"143\":\"8.3\",\"144\":\"8.2\",\"145\":\"8.6\",\"146\":\"8.0\",\"147\":\"8.2\",\"148\":\"8.1\",\"149\":\"8.1\",\"150\":\"8.1\",\"151\":\"8.1\",\"152\":\"8.0\",\"153\":\"8.4\",\"154\":\"8.0\",\"155\":\"8.1\",\"156\":\"8.5\",\"157\":\"8.1\",\"158\":\"8.3\",\"159\":\"8.3\",\"160\":\"8.1\",\"161\":\"8.2\",\"162\":\"8.3\",\"163\":\"8.2\",\"164\":\"8.1\",\"165\":\"8.2\",\"166\":\"8.1\",\"167\":\"8.2\",\"168\":\"8.2\",\"169\":\"8.1\",\"170\":\"8.1\",\"171\":\"8.1\",\"172\":\"8.3\",\"173\":\"8.1\",\"174\":\"8.1\",\"175\":\"8.0\",\"176\":\"8.4\",\"177\":\"8.3\",\"178\":\"8.1\",\"179\":\"8.3\",\"180\":\"8.4\",\"181\":\"8.3\",\"182\":\"8.5\",\"183\":\"8.1\",\"184\":\"8.1\",\"185\":\"8.3\",\"186\":\"8.1\",\"187\":\"8.3\",\"188\":\"8.4\",\"189\":\"8.1\",\"190\":\"8.3\",\"191\":\"8.2\",\"192\":\"8.1\",\"193\":\"8.4\",\"194\":\"8.1\",\"195\":\"8.3\",\"196\":\"8.2\",\"197\":\"8.2\",\"198\":\"8.2\",\"199\":\"8.1\",\"200\":\"8.1\",\"201\":\"8.1\",\"202\":\"8.5\",\"203\":\"8.3\",\"204\":\"8.1\",\"205\":\"8.3\",\"206\":\"8.2\",\"207\":\"8.2\",\"208\":\"8.1\",\"209\":\"8.2\",\"210\":\"8.3\",\"211\":\"8.1\",\"212\":\"8.1\",\"213\":\"8.1\",\"214\":\"8.1\",\"215\":\"8.2\"},\"stars\":{\"0\":\"Christopher Nolan, Cillian Murphy, Emily Blunt, Matt Damon, Robert Downey Jr.\",\"1\":\"Christopher Nolan, Matthew McConaughey, Anne Hathaway, Jessica Chastain, Mackenzie Foy\",\"2\":\"Joaquim Dos Santos, Kemp Powers, Justin K. Thompson, Shameik Moore, Hailee Steinfeld, Brian Tyree Henry, Luna Lauren Velez\",\"3\":\"Christopher Nolan, Leonardo DiCaprio, Joseph Gordon-Levitt, Elliot Page, Ken Watanabe\",\"4\":\"Christopher Nolan, Christian Bale, Heath Ledger, Aaron Eckhart, Michael Caine\",\"5\":\"Martin Scorsese, Leonardo DiCaprio, Jonah Hill, Margot Robbie, Matthew McConaughey\",\"6\":\"Frank Darabont, Tim Robbins, Morgan Freeman, Bob Gunton, William Sadler\",\"7\":\"Christopher Nolan, Christian Bale, Hugh Jackman, Scarlett Johansson, Michael Caine\",\"8\":\"Joseph Kosinski, Tom Cruise, Jennifer Connelly, Miles Teller, Val Kilmer\",\"9\":\"Francis Ford Coppola, Marlon Brando, Al Pacino, James Caan, Diane Keaton\",\"10\":\"Christopher Nolan, Guy Pearce, Carrie-Anne Moss, Joe Pantoliano, Mark Boone Junior\",\"11\":\"William Friedkin, Ellen Burstyn, Max von Sydow, Linda Blair, Lee J. Cobb\",\"12\":\"Quentin Tarantino, John Travolta, Uma Thurman, Samuel L. Jackson, Bruce Willis\",\"13\":\"Christopher Nolan, Christian Bale, Tom Hardy, Anne Hathaway, Gary Oldman\",\"14\":\"Christopher Nolan, Christian Bale, Michael Caine, Ken Watanabe, Liam Neeson\",\"15\":\"Bob Persichetti, Peter Ramsey, Rodney Rothman, Shameik Moore, Jake Johnson, Hailee Steinfeld, Mahershala Ali\",\"16\":\"Steven Spielberg, Harrison Ford, Karen Allen, Paul Freeman, John Rhys-Davies\",\"17\":\"Mel Gibson, Sophie Marceau, Patrick McGoohan, Angus Macfadyen\",\"18\":\"Steven Spielberg, Roy Scheider, Robert Shaw, Richard Dreyfuss, Lorraine Gary\",\"19\":\"Jon Watts, Tom Holland, Zendaya, Benedict Cumberbatch, Jacob Batalon\",\"20\":\"David Fincher, Brad Pitt, Edward Norton, Meat Loaf, Zach Grenier\",\"21\":\"Quentin Tarantino, Brad Pitt, Diane Kruger, Eli Roth, M\\u00e9lanie Laurent\",\"22\":\"Quentin Tarantino, Jamie Foxx, Christoph Waltz, Leonardo DiCaprio, Kerry Washington\",\"23\":\"Todd Phillips, Joaquin Phoenix, Robert De Niro, Zazie Beetz, Frances Conroy\",\"24\":\"Anthony Russo, Joe Russo, Robert Downey Jr., Chris Evans, Mark Ruffalo, Chris Hemsworth\",\"25\":\"Ethan Coen, Joel Coen, Tommy Lee Jones, Javier Bardem, Josh Brolin, Woody Harrelson\",\"26\":\"David Fincher, Morgan Freeman, Brad Pitt, Kevin Spacey, Andrew Kevin Walker\",\"27\":\"Steven Spielberg, Tom Hanks, Matt Damon, Tom Sizemore, Edward Burns\",\"28\":\"Denis Villeneuve, Hugh Jackman, Jake Gyllenhaal, Viola Davis, Melissa Leo\",\"29\":\"Michael Mann, Al Pacino, Robert De Niro, Val Kilmer, Jon Voight\",\"30\":\"Steven Spielberg, Liam Neeson, Ralph Fiennes, Ben Kingsley, Caroline Goodall\",\"31\":\"Robert Zemeckis, Michael J. Fox, Christopher Lloyd, Lea Thompson, Crispin Glover\",\"32\":\"Peter Jackson, Elijah Wood, Ian McKellen, Orlando Bloom, Sean Bean\",\"33\":\"Steven Spielberg, Harrison Ford, Sean Connery, Alison Doody, Denholm Elliott\",\"34\":\"Martin Scorsese, Leonardo DiCaprio, Emily Mortimer, Mark Ruffalo, Ben Kingsley\",\"35\":\"Bong Joon Ho, Song Kang-ho, Lee Sun-kyun, Cho Yeo-jeong, Choi Woo-sik\",\"36\":\"Ridley Scott, Russell Crowe, Joaquin Phoenix, Connie Nielsen, Oliver Reed\",\"37\":\"Sam Mendes, Kevin Spacey, Annette Bening, Thora Birch, Wes Bentley\",\"38\":\"Martin Scorsese, Leonardo DiCaprio, Matt Damon, Jack Nicholson, Mark Wahlberg\",\"39\":\"Robert Zemeckis, Tom Hanks, Robin Wright, Gary Sinise, Sally Field\",\"40\":\"David Fincher, Ben Affleck, Rosamund Pike, Neil Patrick Harris, Tyler Perry\",\"41\":\"Jonathan Demme, Jodie Foster, Anthony Hopkins, Lawrence A. Bonney, Kasi Lemmons\",\"42\":\"Sidney Lumet, Henry Fonda, Lee J. Cobb, Martin Balsam, John Fiedler\",\"43\":\"Steven Spielberg, Sam Neill, Laura Dern, Jeff Goldblum, Richard Attenborough\",\"44\":\"Martin Scorsese, Robert De Niro, Ray Liotta, Joe Pesci, Lorraine Bracco\",\"45\":\"Ridley Scott, Sigourney Weaver, Tom Skerritt, John Hurt, Veronica Cartwright\",\"46\":\"Damien Chazelle, Miles Teller, J.K. Simmons, Melissa Benoist, Paul Reiser\",\"47\":\"Wes Anderson, Ralph Fiennes, F. Murray Abraham, Mathieu Amalric, Adrien Brody\",\"48\":\"George Miller, Tom Hardy, Charlize Theron, Nicholas Hoult, Zo\\u00eb Kravitz\",\"49\":\"Gore Verbinski, Johnny Depp, Geoffrey Rush, Orlando Bloom, Keira Knightley\",\"50\":\"Paul Thomas Anderson, Daniel Day-Lewis, Paul Dano, Ciar\\u00e1n Hinds, Martin Stringer\",\"51\":\"Stanley Kubrick, Jack Nicholson, Shelley Duvall, Danny Lloyd, Scatman Crothers\",\"52\":\"Darren Aronofsky, Ellen Burstyn, Jared Leto, Jennifer Connelly, Marlon Wayans\",\"53\":\"Milos Forman, Jack Nicholson, Louise Fletcher, Michael Berryman, Peter Brocco\",\"54\":\"Lana Wachowski, Lilly Wachowski, Keanu Reeves, Laurence Fishburne, Carrie-Anne Moss, Hugo Weaving\",\"55\":\"Gus Van Sant, Robin Williams, Matt Damon, Ben Affleck, Stellan Skarsg\\u00e5rd\",\"56\":\"James Cameron, Sigourney Weaver, Michael Biehn, Carrie Henn, Paul Reiser\",\"57\":\"Stanley Kubrick, Keir Dullea, Gary Lockwood, William Sylvester, Daniel Richter\",\"58\":\"Peter Weir, Jim Carrey, Ed Harris, Laura Linney, Noah Emmerich\",\"59\":\"Martin Scorsese, Robert De Niro, Jodie Foster, Cybill Shepherd, Albert Brooks\",\"60\":\"Luc Besson, Jean Reno, Gary Oldman, Natalie Portman, Danny Aiello\",\"61\":\"James Cameron, Arnold Schwarzenegger, Linda Hamilton, Edward Furlong, Robert Patrick\",\"62\":\"Roman Polanski, Adrien Brody, Thomas Kretschmann, Frank Finlay, Emilia Fox\",\"63\":\"Anthony Russo, Joe Russo, Robert Downey Jr., Chris Hemsworth, Mark Ruffalo, Chris Evans\",\"64\":\"Sam Mendes, Dean-Charles Chapman, George MacKay, Daniel Mays, Colin Firth\",\"65\":\"Francis Ford Coppola, Martin Sheen, Marlon Brando, Robert Duvall, Frederic Forrest\",\"66\":\"Frank Darabont, Tom Hanks, Michael Clarke Duncan, David Morse, Bonnie Hunt\",\"67\":\"Ridley Scott, Harrison Ford, Rutger Hauer, Sean Young, Edward James Olmos\",\"68\":\"Peter Jackson, Elijah Wood, Viggo Mortensen, Ian McKellen, Orlando Bloom\",\"69\":\"Mel Gibson, Andrew Garfield, Sam Worthington, Luke Bracey, Teresa Palmer\",\"70\":\"Robert Mulligan, Gregory Peck, John Megna, Frank Overton, Rosemary Murphy\",\"71\":\"Quentin Tarantino, Harvey Keitel, Tim Roth, Michael Madsen, Chris Penn\",\"72\":\"Bryan Singer, Kevin Spacey, Gabriel Byrne, Chazz Palminteri, Stephen Baldwin\",\"73\":\"James Cameron, Arnold Schwarzenegger, Linda Hamilton, Michael Biehn, Paul Winfield\",\"74\":\"Rob Reiner, Wil Wheaton, River Phoenix, Corey Feldman, Jerry O'Connell\",\"75\":\"Milos Forman, F. Murray Abraham, Tom Hulce, Elizabeth Berridge, Roy Dotrice\",\"76\":\"Francis Ford Coppola, Al Pacino, Robert De Niro, Robert Duvall, Diane Keaton\",\"77\":\"Steven Spielberg, Leonardo DiCaprio, Tom Hanks, Christopher Walken, Martin Sheen\",\"78\":\"Stanley Kubrick, Malcolm McDowell, Patrick Magee, Michael Bates, Warren Clarke\",\"79\":\"James Mangold, Matt Damon, Christian Bale, Jon Bernthal, Caitr\\u00edona Balfe\",\"80\":\"Joel Coen, Ethan Coen, Jeff Bridges, John Goodman, Julianne Moore, Steve Buscemi\",\"81\":\"Brian De Palma, Al Pacino, Michelle Pfeiffer, Steven Bauer, Mary Elizabeth Mastrantonio\",\"82\":\"George Lucas, Mark Hamill, Harrison Ford, Carrie Fisher, Alec Guinness\",\"83\":\"Michel Gondry, Jim Carrey, Kate Winslet, Tom Wilkinson, Gerry Robert Byrne\",\"84\":\"Guy Ritchie, Jason Statham, Brad Pitt, Stephen Graham, Vinnie Jones\",\"85\":\"Thomas Vinterberg, Mads Mikkelsen, Thomas Bo Larsen, Annika Wedderkopp, Lasse Fogelstr\\u00f8m\",\"86\":\"Stanley Kubrick, Matthew Modine, R. Lee Ermey, Vincent D'Onofrio, Adam Baldwin\",\"87\":\"Roger Allers, Rob Minkoff, Matthew Broderick, Jeremy Irons, James Earl Jones, Whoopi Goldberg\",\"88\":\"Quentin Tarantino, Uma Thurman, David Carradine, Daryl Hannah, Michael Madsen\",\"89\":\"Sergio Leone, Clint Eastwood, Eli Wallach, Lee Van Cleef, Aldo Giuffr\\u00e8\",\"90\":\"David Yates, Daniel Radcliffe, Emma Watson, Rupert Grint, Michael Gambon\",\"91\":\"John Carpenter, Kurt Russell, Wilford Brimley, Keith David, Richard Masur\",\"92\":\"Tony Kaye, Edward Norton, Edward Furlong, Beverly D'Angelo, Jennifer Lien\",\"93\":\"Brad Bird, Jan Pinkava, Brad Garrett, Lou Romano, Patton Oswalt, Ian Holm\",\"94\":\"John McTiernan, Bruce Willis, Alan Rickman, Bonnie Bedelia, Reginald VelJohnson\",\"95\":\"Martin Scorsese, Robert De Niro, Sharon Stone, Joe Pesci, James Woods\",\"96\":\"Sergio Leone, Robert De Niro, James Woods, Elizabeth McGovern, Treat Williams\",\"97\":\"John Lasseter, Tom Hanks, Tim Allen, Don Rickles, Jim Varney\",\"98\":\"Peter Farrelly, Viggo Mortensen, Mahershala Ali, Linda Cardellini, Sebastian Maniscalco\",\"99\":\"Tate Taylor, Viola Davis, Emma Stone, Octavia Spencer, Bryce Dallas Howard\",\"100\":\"James Mangold, Hugh Jackman, Patrick Stewart, Dafne Keen, Boyd Holbrook\",\"101\":\"M. Night Shyamalan, Bruce Willis, Haley Joel Osment, Toni Collette, Olivia Williams\",\"102\":\"Ron Howard, Russell Crowe, Ed Harris, Jennifer Connelly, Christopher Plummer\",\"103\":\"Peter Jackson, Elijah Wood, Ian McKellen, Viggo Mortensen, Orlando Bloom\",\"104\":\"Martin McDonagh, Frances McDormand, Woody Harrelson, Sam Rockwell, Caleb Landry Jones\",\"105\":\"Roberto Benigni, Nicoletta Braschi, Giorgio Cantarini, Giustino Durano\",\"106\":\"Joel Coen, Ethan Coen, William H. Macy, Frances McDormand, Steve Buscemi, Peter Stormare\",\"107\":\"Pete Docter, Ronnie Del Carmen, Amy Poehler, Bill Hader, Lewis Black, Mindy Kaling\",\"108\":\"John G. Avildsen, Sylvester Stallone, Talia Shire, Burt Young, Carl Weathers\",\"109\":\"Peter Weir, Robin Williams, Robert Sean Leonard, Ethan Hawke, Josh Charles\",\"110\":\"Olivier Nakache, \\u00c9ric Toledano, Fran\\u00e7ois Cluzet, Omar Sy, Anne Le Ny, Audrey Fleurot\",\"111\":\"Brad Bird, Craig T. Nelson, Samuel L. Jackson, Holly Hunter, Jason Lee\",\"112\":\"Stanley Kubrick, Peter Sellers, George C. Scott, Sterling Hayden, Keenan Wynn\",\"113\":\"Victor Fleming, George Cukor, Mervyn LeRoy, Norman Taurog, Richard Thorpe, King Vidor, Judy Garland, Frank Morgan, Ray Bolger, Bert Lahr\",\"114\":\"Andrew Stanton, Lee Unkrich, Albert Brooks, Ellen DeGeneres, Alexander Gould, Willem Dafoe\",\"115\":\"Bong Joon Ho, Song Kang-ho, Kim Sang-kyung, Roe-ha Kim, Jae-ho Song\",\"116\":\"Thomas Kail, Lin-Manuel Miranda, Phillipa Soo, Leslie Odom Jr., Ren\\u00e9e Elise Goldsberry\",\"117\":\"Sean Penn, Emile Hirsch, Vince Vaughn, Catherine Keener, Marcia Gay Harden\",\"118\":\"Curtis Hanson, Kevin Spacey, Russell Crowe, Guy Pearce, Kim Basinger\",\"119\":\"Gavin O'Connor, Tom Hardy, Nick Nolte, Joel Edgerton, Jennifer Morrison\",\"120\":\"Danny Boyle, Ewan McGregor, Ewen Bremner, Jonny Lee Miller, Kevin McKidd\",\"121\":\"Alfred Hitchcock, Anthony Perkins, Janet Leigh, Vera Miles, John Gavin\",\"122\":\"James McTeigue, Hugo Weaving, Natalie Portman, Rupert Graves, Stephen Rea\",\"123\":\"Michael Curtiz, Humphrey Bogart, Ingrid Bergman, Paul Henreid, Claude Rains\",\"124\":\"Irvin Kershner, Mark Hamill, Harrison Ford, Carrie Fisher, Billy Dee Williams\",\"125\":\"Florian Zeller, Anthony Hopkins, Olivia Colman, Mark Gatiss, Olivia Williams\",\"126\":\"Tom McCarthy, Mark Ruffalo, Michael Keaton, Rachel McAdams, Liev Schreiber\",\"127\":\"Lee Unkrich, Adrian Molina, Anthony Gonzalez, Gael Garc\\u00eda Bernal, Benjamin Bratt, Alanna Ubach\",\"128\":\"Oliver Stone, Charlie Sheen, Tom Berenger, Willem Dafoe, Keith David\",\"129\":\"Pete Docter, David Silverman, Lee Unkrich, Billy Crystal, John Goodman, Mary Gibbs, Steve Buscemi\",\"130\":\"Pete Docter, Bob Peterson, Edward Asner, Jordan Nagai, John Ratzenberger, Christopher Plummer\",\"131\":\"Denis Villeneuve, Lubna Azabal, M\\u00e9lissa D\\u00e9sormeaux-Poulin, Maxim Gaudette, Mustafa Kamel\",\"132\":\"David Lean, Peter O'Toole, Alec Guinness, Anthony Quinn, Jack Hawkins\",\"133\":\"Lee Unkrich, Tom Hanks, Tim Allen, Joan Cusack, Ned Beatty\",\"134\":\"Oliver Hirschbiegel, Bruno Ganz, Alexandra Maria Lara, Ulrich Matthes, Juliane K\\u00f6hler\",\"135\":\"Richard Linklater, Ethan Hawke, Julie Delpy, Andrea Eckert, Hanno P\\u00f6schl\",\"136\":\"Sergio Leone, Henry Fonda, Charles Bronson, Claudia Cardinale, Jason Robards\",\"137\":\"Ron Howard, Daniel Br\\u00fchl, Chris Hemsworth, Olivia Wilde, Alexandra Maria Lara\",\"138\":\"Roman Polanski, Jack Nicholson, Faye Dunaway, John Huston, Perry Lopez\",\"139\":\"Guy Ritchie, Jason Flemyng, Dexter Fletcher, Nick Moran, Jason Statham\",\"140\":\"Andrew Stanton, Ben Burtt, Elissa Knight, Jeff Garlin, Fred Willard\",\"141\":\"Jean-Pierre Jeunet, Audrey Tautou, Mathieu Kassovitz, Rufus, Lorella Cravotta\",\"142\":\"Lenny Abrahamson, Brie Larson, Jacob Tremblay, Sean Bridgers, Wendy Crewson\",\"143\":\"Richard Marquand, Mark Hamill, Harrison Ford, Carrie Fisher, Billy Dee Williams\",\"144\":\"Victor Fleming, George Cukor, Sam Wood, Clark Gable, Vivien Leigh, Thomas Mitchell, Barbara O'Neil\",\"145\":\"Frank Capra, James Stewart, Donna Reed, Lionel Barrymore, Thomas Mitchell\",\"146\":\"Kevin Costner, Mary McDonnell, Graham Greene, Rodney A. Grant\",\"147\":\"Clint Eastwood, Gene Hackman, Morgan Freeman, Richard Harris\",\"148\":\"Michael Cimino, Robert De Niro, Christopher Walken, John Cazale, John Savage\",\"149\":\"Robert Wise, Julie Andrews, Christopher Plummer, Eleanor Parker, Richard Haydn\",\"150\":\"Dean DeBlois, Chris Sanders, Jay Baruchel, Gerard Butler, Christopher Mintz-Plasse, Craig Ferguson\",\"151\":\"Steve McQueen, Chiwetel Ejiofor, Michael Kenneth Williams, Michael Fassbender, Brad Pitt\",\"152\":\"Ron Clements, John Musker, Scott Weinger, Robin Williams, Linda Larkin, Jonathan Freeman\",\"153\":\"Rajkumar Hirani, Aamir Khan, Madhavan, Mona Singh, Sharman Joshi\",\"154\":\"Harold Ramis, Bill Murray, Andie MacDowell, Chris Elliott, Stephen Tobolowsky\",\"155\":\"Stanley Kubrick, Ryan O'Neal, Marisa Berenson, Patrick Magee, Hardy Kr\\u00fcger\",\"156\":\"Alfred Hitchcock, James Stewart, Grace Kelly, Wendell Corey, Thelma Ritter\",\"157\":\"Stuart Rosenberg, Paul Newman, George Kennedy, Strother Martin, J.D. Cannon\",\"158\":\"Alfred Hitchcock, James Stewart, Kim Novak, Barbara Bel Geddes, Tom Helmore\",\"159\":\"Orson Welles, Joseph Cotten, Dorothy Comingore, Agnes Moorehead\",\"160\":\"Martin Scorsese, Robert De Niro, Cathy Moriarty, Joe Pesci, Frank Vincent\",\"161\":\"Terry Gilliam, Terry Jones, Graham Chapman, John Cleese, Eric Idle\",\"162\":\"Stanley Donen, Gene Kelly, Donald O'Connor, Debbie Reynolds, Jean Hagen\",\"163\":\"John Sturges, Steve McQueen, James Garner, Richard Attenborough, Charles Bronson\",\"164\":\"Clint Eastwood, Hilary Swank, Morgan Freeman, Jay Baruchel\",\"165\":\"David Lynch, Anthony Hopkins, John Hurt, Anne Bancroft, John Gielgud\",\"166\":\"Clint Eastwood, Bee Vang, Christopher Carley, Ahney Her\",\"167\":\"Billy Wilder, Marilyn Monroe, Tony Curtis, Jack Lemmon, George Raft\",\"168\":\"Sergio Leone, Clint Eastwood, Lee Van Cleef, Gian Maria Volont\\u00e8, Mara Krupp\",\"169\":\"Jim Sheridan, Daniel Day-Lewis, Pete Postlethwaite, Alison Crosbie, Philip King\",\"170\":\"Lasse Hallstr\\u00f6m, Richard Gere, Joan Allen, Cary-Hiroyuki Tagawa, Sarah Roemer\",\"171\":\"Sidney Lumet, Faye Dunaway, William Holden, Peter Finch, Robert Duvall\",\"172\":\"Fritz Lang, Brigitte Helm, Alfred Abel, Gustav Fr\\u00f6hlich, Rudolf Klein-Rogge\",\"173\":\"William Wyler, Charlton Heston, Jack Hawkins, Stephen Boyd, Haya Harareet\",\"174\":\"Brad Bird, Eli Marienthal, Harry Connick Jr., Jennifer Aniston, Vin Diesel\",\"175\":\"Terry Jones, Graham Chapman, John Cleese, Michael Palin, Terry Gilliam\",\"176\":\"Stanley Kubrick, Kirk Douglas, Ralph Meeker, Adolphe Menjou, George Macready\",\"177\":\"Alfred Hitchcock, Cary Grant, Eva Marie Saint, James Mason, Jessie Royce Landis\",\"178\":\"Richard Linklater, Ethan Hawke, Julie Delpy, Vernon Dobtcheff, Louise Lemoine Torr\\u00e8s\",\"179\":\"George Roy Hill, Paul Newman, Robert Redford, Robert Shaw, Charles Durning\",\"180\":\"Billy Wilder, William Holden, Gloria Swanson, Erich von Stroheim, Nancy Olson\",\"181\":\"Billy Wilder, Jack Lemmon, Shirley MacLaine, Fred MacMurray, Ray Walston\",\"182\":\"Charles Chaplin, Virginia Cherrill, Florence Lee, Harry Myers\",\"183\":\"Ingmar Bergman, Bibi Andersson, Liv Ullmann, Margaretha Krook, Gunnar Bj\\u00f6rnstrand\",\"184\":\"Carol Reed, Orson Welles, Joseph Cotten, Alida Valli, Trevor Howard\",\"185\":\"Stanley Kramer, Spencer Tracy, Burt Lancaster, Richard Widmark, Marlene Dietrich\",\"186\":\"Elia Kazan, Marlon Brando, Karl Malden, Lee J. Cobb, Rod Steiger\",\"187\":\"Nitesh Tiwari, Aamir Khan, Sakshi Tanwar, Fatima Sana Shaikh, Sanya Malhotra\",\"188\":\"Billy Wilder, Tyrone Power, Marlene Dietrich, Charles Laughton, Elsa Lanchester\",\"189\":\"David Lean, William Holden, Alec Guinness, Jack Hawkins, Sessue Hayakawa\",\"190\":\"Akira Kurosawa, Takashi Shimura, Nobuo Kaneko, Shin'ichi Himori, Haruo Tanaka\",\"191\":\"Alfred Hitchcock, Ray Milland, Grace Kelly, Robert Cummings, John Williams\",\"192\":\"Alfred Hitchcock, Laurence Olivier, Joan Fontaine, George Sanders, Judith Anderson\",\"193\":\"Charles Chaplin, Paulette Goddard, Jack Oakie, Reginald Gardiner\",\"194\":\"Terry George, Don Cheadle, Sophie Okonedo, Joaquin Phoenix, Xolani Mali\",\"195\":\"Billy Wilder, Fred MacMurray, Barbara Stanwyck, Edward G. Robinson, Byron Barr\",\"196\":\"Sergio Pablos, Carlos Mart\\u00ednez L\\u00f3pez, Jason Schwartzman, J.K. Simmons, Rashida Jones, Will Sasso\",\"197\":\"Ernst Lubitsch, Carole Lombard, Jack Benny, Robert Stack, Felix Bressart\",\"198\":\"Joseph L. Mankiewicz, Bette Davis, Anne Baxter, George Sanders, Celeste Holm\",\"199\":\"Frank Capra, Clark Gable, Claudette Colbert, Walter Connolly, Roscoe Karns\",\"200\":\"Adam Elliot, Toni Collette, Philip Seymour Hoffman, Eric Bana, Barry Humphries\",\"201\":\"William Wyler, Myrna Loy, Dana Andrews, Fredric March, Teresa Wright\",\"202\":\"Charles Chaplin, Paulette Goddard, Henry Bergman, Tiny Sandford\",\"203\":\"Aamir Khan, Amole Gupte, Darsheel Safary, Tanay Chheda, Sachet Engineer\",\"204\":\"Fran\\u00e7ois Truffaut, Jean-Pierre L\\u00e9aud, Albert R\\u00e9my, Claire Maurier, Guy Decomble\",\"205\":\"Vittorio De Sica, Lamberto Maggiorani, Enzo Staiola, Lianella Carell, Elena Altieri\",\"206\":\"Henri-Georges Clouzot, Yves Montand, Charles Vanel, Peter van Eyck, Folco Lulli\",\"207\":\"Yasujir\\u00f4 Ozu, Chish\\u00fb Ry\\u00fb, Chieko Higashiyama, S\\u00f4 Yamamura, Setsuko Hara\",\"208\":\"John Ford, Henry Fonda, Jane Darwell, John Carradine, Charley Grapewin\",\"209\":\"John Huston, Humphrey Bogart, Walter Huston, Tim Holt, Bruce Bennett\",\"210\":\"Charles Chaplin, Edna Purviance, Jackie Coogan, Carl Miller\",\"211\":\"Gillo Pontecorvo, Brahim Hadjadj, Jean Martin, Yacef Saadi, Samia Kerbash\",\"212\":\"Frank Capra, James Stewart, Jean Arthur, Claude Rains, Edward Arnold\",\"213\":\"Clyde Bruckman, Buster Keaton, Marion Mack, Glen Cavender, Jim Farley\",\"214\":\"Charles Chaplin, Mack Swain, Tom Murray, Henry Bergman\",\"215\":\"Buster Keaton, Kathryn McGuire, Joe Keaton, Erwin Connelly\"}}\n"
     ]
    }
   ],
   "source": [
    "movies_js=movies_cleaned.to_json()\n",
    "print(movies_js)"
   ]
  },
  {
   "cell_type": "markdown",
   "metadata": {},
   "source": [
    "From the data we can see the percentage from the 250 top moives "
   ]
  },
  {
   "cell_type": "code",
   "execution_count": 4,
   "metadata": {},
   "outputs": [
    {
     "name": "stdout",
     "output_type": "stream",
     "text": [
      "8.1    65\n",
      "8.2    40\n",
      "8.3    38\n",
      "8.4    20\n",
      "8.5    19\n",
      "8.6     8\n",
      "8.7     6\n",
      "8.8     6\n",
      "9.0     5\n",
      "8.0     5\n",
      "8.9     2\n",
      "9.3     1\n",
      "9.2     1\n",
      "Name: imDbRating, dtype: int64\n"
     ]
    }
   ],
   "source": [
    "des_df = pd.DataFrame(movies_cleaned)\n",
    "\n",
    "# Count occurrences of each genre\n",
    "desc_counts = des_df['imDbRating'].value_counts()\n",
    "\n",
    "print(desc_counts)"
   ]
  },
  {
   "cell_type": "code",
   "execution_count": 5,
   "metadata": {},
   "outputs": [
    {
     "data": {
      "application/vnd.plotly.v1+json": {
       "config": {
        "plotlyServerURL": "https://plot.ly"
       },
       "data": [
        {
         "labels": [
          "8.1",
          "8.2",
          "8.3",
          "8.4",
          "8.5",
          "8.6",
          "8.7",
          "8.8",
          "9.0",
          "8.0",
          "8.9",
          "9.3",
          "9.2"
         ],
         "type": "pie",
         "values": [
          65,
          40,
          38,
          20,
          19,
          8,
          6,
          6,
          5,
          5,
          2,
          1,
          1
         ]
        }
       ],
       "layout": {
        "template": {
         "data": {
          "bar": [
           {
            "error_x": {
             "color": "#2a3f5f"
            },
            "error_y": {
             "color": "#2a3f5f"
            },
            "marker": {
             "line": {
              "color": "#E5ECF6",
              "width": 0.5
             },
             "pattern": {
              "fillmode": "overlay",
              "size": 10,
              "solidity": 0.2
             }
            },
            "type": "bar"
           }
          ],
          "barpolar": [
           {
            "marker": {
             "line": {
              "color": "#E5ECF6",
              "width": 0.5
             },
             "pattern": {
              "fillmode": "overlay",
              "size": 10,
              "solidity": 0.2
             }
            },
            "type": "barpolar"
           }
          ],
          "carpet": [
           {
            "aaxis": {
             "endlinecolor": "#2a3f5f",
             "gridcolor": "white",
             "linecolor": "white",
             "minorgridcolor": "white",
             "startlinecolor": "#2a3f5f"
            },
            "baxis": {
             "endlinecolor": "#2a3f5f",
             "gridcolor": "white",
             "linecolor": "white",
             "minorgridcolor": "white",
             "startlinecolor": "#2a3f5f"
            },
            "type": "carpet"
           }
          ],
          "choropleth": [
           {
            "colorbar": {
             "outlinewidth": 0,
             "ticks": ""
            },
            "type": "choropleth"
           }
          ],
          "contour": [
           {
            "colorbar": {
             "outlinewidth": 0,
             "ticks": ""
            },
            "colorscale": [
             [
              0,
              "#0d0887"
             ],
             [
              0.1111111111111111,
              "#46039f"
             ],
             [
              0.2222222222222222,
              "#7201a8"
             ],
             [
              0.3333333333333333,
              "#9c179e"
             ],
             [
              0.4444444444444444,
              "#bd3786"
             ],
             [
              0.5555555555555556,
              "#d8576b"
             ],
             [
              0.6666666666666666,
              "#ed7953"
             ],
             [
              0.7777777777777778,
              "#fb9f3a"
             ],
             [
              0.8888888888888888,
              "#fdca26"
             ],
             [
              1,
              "#f0f921"
             ]
            ],
            "type": "contour"
           }
          ],
          "contourcarpet": [
           {
            "colorbar": {
             "outlinewidth": 0,
             "ticks": ""
            },
            "type": "contourcarpet"
           }
          ],
          "heatmap": [
           {
            "colorbar": {
             "outlinewidth": 0,
             "ticks": ""
            },
            "colorscale": [
             [
              0,
              "#0d0887"
             ],
             [
              0.1111111111111111,
              "#46039f"
             ],
             [
              0.2222222222222222,
              "#7201a8"
             ],
             [
              0.3333333333333333,
              "#9c179e"
             ],
             [
              0.4444444444444444,
              "#bd3786"
             ],
             [
              0.5555555555555556,
              "#d8576b"
             ],
             [
              0.6666666666666666,
              "#ed7953"
             ],
             [
              0.7777777777777778,
              "#fb9f3a"
             ],
             [
              0.8888888888888888,
              "#fdca26"
             ],
             [
              1,
              "#f0f921"
             ]
            ],
            "type": "heatmap"
           }
          ],
          "heatmapgl": [
           {
            "colorbar": {
             "outlinewidth": 0,
             "ticks": ""
            },
            "colorscale": [
             [
              0,
              "#0d0887"
             ],
             [
              0.1111111111111111,
              "#46039f"
             ],
             [
              0.2222222222222222,
              "#7201a8"
             ],
             [
              0.3333333333333333,
              "#9c179e"
             ],
             [
              0.4444444444444444,
              "#bd3786"
             ],
             [
              0.5555555555555556,
              "#d8576b"
             ],
             [
              0.6666666666666666,
              "#ed7953"
             ],
             [
              0.7777777777777778,
              "#fb9f3a"
             ],
             [
              0.8888888888888888,
              "#fdca26"
             ],
             [
              1,
              "#f0f921"
             ]
            ],
            "type": "heatmapgl"
           }
          ],
          "histogram": [
           {
            "marker": {
             "pattern": {
              "fillmode": "overlay",
              "size": 10,
              "solidity": 0.2
             }
            },
            "type": "histogram"
           }
          ],
          "histogram2d": [
           {
            "colorbar": {
             "outlinewidth": 0,
             "ticks": ""
            },
            "colorscale": [
             [
              0,
              "#0d0887"
             ],
             [
              0.1111111111111111,
              "#46039f"
             ],
             [
              0.2222222222222222,
              "#7201a8"
             ],
             [
              0.3333333333333333,
              "#9c179e"
             ],
             [
              0.4444444444444444,
              "#bd3786"
             ],
             [
              0.5555555555555556,
              "#d8576b"
             ],
             [
              0.6666666666666666,
              "#ed7953"
             ],
             [
              0.7777777777777778,
              "#fb9f3a"
             ],
             [
              0.8888888888888888,
              "#fdca26"
             ],
             [
              1,
              "#f0f921"
             ]
            ],
            "type": "histogram2d"
           }
          ],
          "histogram2dcontour": [
           {
            "colorbar": {
             "outlinewidth": 0,
             "ticks": ""
            },
            "colorscale": [
             [
              0,
              "#0d0887"
             ],
             [
              0.1111111111111111,
              "#46039f"
             ],
             [
              0.2222222222222222,
              "#7201a8"
             ],
             [
              0.3333333333333333,
              "#9c179e"
             ],
             [
              0.4444444444444444,
              "#bd3786"
             ],
             [
              0.5555555555555556,
              "#d8576b"
             ],
             [
              0.6666666666666666,
              "#ed7953"
             ],
             [
              0.7777777777777778,
              "#fb9f3a"
             ],
             [
              0.8888888888888888,
              "#fdca26"
             ],
             [
              1,
              "#f0f921"
             ]
            ],
            "type": "histogram2dcontour"
           }
          ],
          "mesh3d": [
           {
            "colorbar": {
             "outlinewidth": 0,
             "ticks": ""
            },
            "type": "mesh3d"
           }
          ],
          "parcoords": [
           {
            "line": {
             "colorbar": {
              "outlinewidth": 0,
              "ticks": ""
             }
            },
            "type": "parcoords"
           }
          ],
          "pie": [
           {
            "automargin": true,
            "type": "pie"
           }
          ],
          "scatter": [
           {
            "fillpattern": {
             "fillmode": "overlay",
             "size": 10,
             "solidity": 0.2
            },
            "type": "scatter"
           }
          ],
          "scatter3d": [
           {
            "line": {
             "colorbar": {
              "outlinewidth": 0,
              "ticks": ""
             }
            },
            "marker": {
             "colorbar": {
              "outlinewidth": 0,
              "ticks": ""
             }
            },
            "type": "scatter3d"
           }
          ],
          "scattercarpet": [
           {
            "marker": {
             "colorbar": {
              "outlinewidth": 0,
              "ticks": ""
             }
            },
            "type": "scattercarpet"
           }
          ],
          "scattergeo": [
           {
            "marker": {
             "colorbar": {
              "outlinewidth": 0,
              "ticks": ""
             }
            },
            "type": "scattergeo"
           }
          ],
          "scattergl": [
           {
            "marker": {
             "colorbar": {
              "outlinewidth": 0,
              "ticks": ""
             }
            },
            "type": "scattergl"
           }
          ],
          "scattermapbox": [
           {
            "marker": {
             "colorbar": {
              "outlinewidth": 0,
              "ticks": ""
             }
            },
            "type": "scattermapbox"
           }
          ],
          "scatterpolar": [
           {
            "marker": {
             "colorbar": {
              "outlinewidth": 0,
              "ticks": ""
             }
            },
            "type": "scatterpolar"
           }
          ],
          "scatterpolargl": [
           {
            "marker": {
             "colorbar": {
              "outlinewidth": 0,
              "ticks": ""
             }
            },
            "type": "scatterpolargl"
           }
          ],
          "scatterternary": [
           {
            "marker": {
             "colorbar": {
              "outlinewidth": 0,
              "ticks": ""
             }
            },
            "type": "scatterternary"
           }
          ],
          "surface": [
           {
            "colorbar": {
             "outlinewidth": 0,
             "ticks": ""
            },
            "colorscale": [
             [
              0,
              "#0d0887"
             ],
             [
              0.1111111111111111,
              "#46039f"
             ],
             [
              0.2222222222222222,
              "#7201a8"
             ],
             [
              0.3333333333333333,
              "#9c179e"
             ],
             [
              0.4444444444444444,
              "#bd3786"
             ],
             [
              0.5555555555555556,
              "#d8576b"
             ],
             [
              0.6666666666666666,
              "#ed7953"
             ],
             [
              0.7777777777777778,
              "#fb9f3a"
             ],
             [
              0.8888888888888888,
              "#fdca26"
             ],
             [
              1,
              "#f0f921"
             ]
            ],
            "type": "surface"
           }
          ],
          "table": [
           {
            "cells": {
             "fill": {
              "color": "#EBF0F8"
             },
             "line": {
              "color": "white"
             }
            },
            "header": {
             "fill": {
              "color": "#C8D4E3"
             },
             "line": {
              "color": "white"
             }
            },
            "type": "table"
           }
          ]
         },
         "layout": {
          "annotationdefaults": {
           "arrowcolor": "#2a3f5f",
           "arrowhead": 0,
           "arrowwidth": 1
          },
          "autotypenumbers": "strict",
          "coloraxis": {
           "colorbar": {
            "outlinewidth": 0,
            "ticks": ""
           }
          },
          "colorscale": {
           "diverging": [
            [
             0,
             "#8e0152"
            ],
            [
             0.1,
             "#c51b7d"
            ],
            [
             0.2,
             "#de77ae"
            ],
            [
             0.3,
             "#f1b6da"
            ],
            [
             0.4,
             "#fde0ef"
            ],
            [
             0.5,
             "#f7f7f7"
            ],
            [
             0.6,
             "#e6f5d0"
            ],
            [
             0.7,
             "#b8e186"
            ],
            [
             0.8,
             "#7fbc41"
            ],
            [
             0.9,
             "#4d9221"
            ],
            [
             1,
             "#276419"
            ]
           ],
           "sequential": [
            [
             0,
             "#0d0887"
            ],
            [
             0.1111111111111111,
             "#46039f"
            ],
            [
             0.2222222222222222,
             "#7201a8"
            ],
            [
             0.3333333333333333,
             "#9c179e"
            ],
            [
             0.4444444444444444,
             "#bd3786"
            ],
            [
             0.5555555555555556,
             "#d8576b"
            ],
            [
             0.6666666666666666,
             "#ed7953"
            ],
            [
             0.7777777777777778,
             "#fb9f3a"
            ],
            [
             0.8888888888888888,
             "#fdca26"
            ],
            [
             1,
             "#f0f921"
            ]
           ],
           "sequentialminus": [
            [
             0,
             "#0d0887"
            ],
            [
             0.1111111111111111,
             "#46039f"
            ],
            [
             0.2222222222222222,
             "#7201a8"
            ],
            [
             0.3333333333333333,
             "#9c179e"
            ],
            [
             0.4444444444444444,
             "#bd3786"
            ],
            [
             0.5555555555555556,
             "#d8576b"
            ],
            [
             0.6666666666666666,
             "#ed7953"
            ],
            [
             0.7777777777777778,
             "#fb9f3a"
            ],
            [
             0.8888888888888888,
             "#fdca26"
            ],
            [
             1,
             "#f0f921"
            ]
           ]
          },
          "colorway": [
           "#636efa",
           "#EF553B",
           "#00cc96",
           "#ab63fa",
           "#FFA15A",
           "#19d3f3",
           "#FF6692",
           "#B6E880",
           "#FF97FF",
           "#FECB52"
          ],
          "font": {
           "color": "#2a3f5f"
          },
          "geo": {
           "bgcolor": "white",
           "lakecolor": "white",
           "landcolor": "#E5ECF6",
           "showlakes": true,
           "showland": true,
           "subunitcolor": "white"
          },
          "hoverlabel": {
           "align": "left"
          },
          "hovermode": "closest",
          "mapbox": {
           "style": "light"
          },
          "paper_bgcolor": "white",
          "plot_bgcolor": "#E5ECF6",
          "polar": {
           "angularaxis": {
            "gridcolor": "white",
            "linecolor": "white",
            "ticks": ""
           },
           "bgcolor": "#E5ECF6",
           "radialaxis": {
            "gridcolor": "white",
            "linecolor": "white",
            "ticks": ""
           }
          },
          "scene": {
           "xaxis": {
            "backgroundcolor": "#E5ECF6",
            "gridcolor": "white",
            "gridwidth": 2,
            "linecolor": "white",
            "showbackground": true,
            "ticks": "",
            "zerolinecolor": "white"
           },
           "yaxis": {
            "backgroundcolor": "#E5ECF6",
            "gridcolor": "white",
            "gridwidth": 2,
            "linecolor": "white",
            "showbackground": true,
            "ticks": "",
            "zerolinecolor": "white"
           },
           "zaxis": {
            "backgroundcolor": "#E5ECF6",
            "gridcolor": "white",
            "gridwidth": 2,
            "linecolor": "white",
            "showbackground": true,
            "ticks": "",
            "zerolinecolor": "white"
           }
          },
          "shapedefaults": {
           "line": {
            "color": "#2a3f5f"
           }
          },
          "ternary": {
           "aaxis": {
            "gridcolor": "white",
            "linecolor": "white",
            "ticks": ""
           },
           "baxis": {
            "gridcolor": "white",
            "linecolor": "white",
            "ticks": ""
           },
           "bgcolor": "#E5ECF6",
           "caxis": {
            "gridcolor": "white",
            "linecolor": "white",
            "ticks": ""
           }
          },
          "title": {
           "x": 0.05
          },
          "xaxis": {
           "automargin": true,
           "gridcolor": "white",
           "linecolor": "white",
           "ticks": "",
           "title": {
            "standoff": 15
           },
           "zerolinecolor": "white",
           "zerolinewidth": 2
          },
          "yaxis": {
           "automargin": true,
           "gridcolor": "white",
           "linecolor": "white",
           "ticks": "",
           "title": {
            "standoff": 15
           },
           "zerolinecolor": "white",
           "zerolinewidth": 2
          }
         }
        },
        "title": {
         "text": "IMDB Rating"
        }
       }
      }
     },
     "metadata": {},
     "output_type": "display_data"
    }
   ],
   "source": [
    "fig = go.Figure(data=[go.Pie(labels=desc_counts.index, values=desc_counts.values)])\n",
    "\n",
    "fig.update_layout(title='IMDB Rating')\n",
    "\n",
    "fig.show()\n",
    "\n"
   ]
  },
  {
   "cell_type": "code",
   "execution_count": 6,
   "metadata": {},
   "outputs": [
    {
     "name": "stdout",
     "output_type": "stream",
     "text": [
      "Drama        148\n",
      "Adventure     57\n",
      "Action        45\n",
      "Crime         45\n",
      "Comedy        42\n",
      "Biography     27\n",
      "Thriller      25\n",
      "Mystery       24\n",
      "Sci-Fi        20\n",
      "War           19\n",
      "Romance       19\n",
      "Animation     18\n",
      "Fantasy       11\n",
      "History        9\n",
      "Family         8\n",
      "Western        7\n",
      "Horror         5\n",
      "Music          4\n",
      "Sport          4\n",
      "Film-Noir      4\n",
      "Musical        1\n",
      "Name: genres, dtype: int64\n"
     ]
    }
   ],
   "source": [
    "df = pd.DataFrame(movies_cleaned)\n",
    "\n",
    "# Count occurrences of each genre\n",
    "genre_counts = df['genres'].str.split(', ').explode().value_counts()\n",
    "\n",
    "print(genre_counts)"
   ]
  },
  {
   "cell_type": "code",
   "execution_count": 7,
   "metadata": {},
   "outputs": [
    {
     "data": {
      "application/vnd.plotly.v1+json": {
       "config": {
        "plotlyServerURL": "https://plot.ly"
       },
       "data": [
        {
         "labels": [
          "Drama",
          "Adventure",
          "Action",
          "Crime",
          "Comedy",
          "Biography",
          "Thriller",
          "Mystery",
          "Sci-Fi",
          "War",
          "Romance",
          "Animation",
          "Fantasy",
          "History",
          "Family",
          "Western",
          "Horror",
          "Music",
          "Sport",
          "Film-Noir",
          "Musical"
         ],
         "type": "pie",
         "values": [
          148,
          57,
          45,
          45,
          42,
          27,
          25,
          24,
          20,
          19,
          19,
          18,
          11,
          9,
          8,
          7,
          5,
          4,
          4,
          4,
          1
         ]
        }
       ],
       "layout": {
        "template": {
         "data": {
          "bar": [
           {
            "error_x": {
             "color": "#2a3f5f"
            },
            "error_y": {
             "color": "#2a3f5f"
            },
            "marker": {
             "line": {
              "color": "#E5ECF6",
              "width": 0.5
             },
             "pattern": {
              "fillmode": "overlay",
              "size": 10,
              "solidity": 0.2
             }
            },
            "type": "bar"
           }
          ],
          "barpolar": [
           {
            "marker": {
             "line": {
              "color": "#E5ECF6",
              "width": 0.5
             },
             "pattern": {
              "fillmode": "overlay",
              "size": 10,
              "solidity": 0.2
             }
            },
            "type": "barpolar"
           }
          ],
          "carpet": [
           {
            "aaxis": {
             "endlinecolor": "#2a3f5f",
             "gridcolor": "white",
             "linecolor": "white",
             "minorgridcolor": "white",
             "startlinecolor": "#2a3f5f"
            },
            "baxis": {
             "endlinecolor": "#2a3f5f",
             "gridcolor": "white",
             "linecolor": "white",
             "minorgridcolor": "white",
             "startlinecolor": "#2a3f5f"
            },
            "type": "carpet"
           }
          ],
          "choropleth": [
           {
            "colorbar": {
             "outlinewidth": 0,
             "ticks": ""
            },
            "type": "choropleth"
           }
          ],
          "contour": [
           {
            "colorbar": {
             "outlinewidth": 0,
             "ticks": ""
            },
            "colorscale": [
             [
              0,
              "#0d0887"
             ],
             [
              0.1111111111111111,
              "#46039f"
             ],
             [
              0.2222222222222222,
              "#7201a8"
             ],
             [
              0.3333333333333333,
              "#9c179e"
             ],
             [
              0.4444444444444444,
              "#bd3786"
             ],
             [
              0.5555555555555556,
              "#d8576b"
             ],
             [
              0.6666666666666666,
              "#ed7953"
             ],
             [
              0.7777777777777778,
              "#fb9f3a"
             ],
             [
              0.8888888888888888,
              "#fdca26"
             ],
             [
              1,
              "#f0f921"
             ]
            ],
            "type": "contour"
           }
          ],
          "contourcarpet": [
           {
            "colorbar": {
             "outlinewidth": 0,
             "ticks": ""
            },
            "type": "contourcarpet"
           }
          ],
          "heatmap": [
           {
            "colorbar": {
             "outlinewidth": 0,
             "ticks": ""
            },
            "colorscale": [
             [
              0,
              "#0d0887"
             ],
             [
              0.1111111111111111,
              "#46039f"
             ],
             [
              0.2222222222222222,
              "#7201a8"
             ],
             [
              0.3333333333333333,
              "#9c179e"
             ],
             [
              0.4444444444444444,
              "#bd3786"
             ],
             [
              0.5555555555555556,
              "#d8576b"
             ],
             [
              0.6666666666666666,
              "#ed7953"
             ],
             [
              0.7777777777777778,
              "#fb9f3a"
             ],
             [
              0.8888888888888888,
              "#fdca26"
             ],
             [
              1,
              "#f0f921"
             ]
            ],
            "type": "heatmap"
           }
          ],
          "heatmapgl": [
           {
            "colorbar": {
             "outlinewidth": 0,
             "ticks": ""
            },
            "colorscale": [
             [
              0,
              "#0d0887"
             ],
             [
              0.1111111111111111,
              "#46039f"
             ],
             [
              0.2222222222222222,
              "#7201a8"
             ],
             [
              0.3333333333333333,
              "#9c179e"
             ],
             [
              0.4444444444444444,
              "#bd3786"
             ],
             [
              0.5555555555555556,
              "#d8576b"
             ],
             [
              0.6666666666666666,
              "#ed7953"
             ],
             [
              0.7777777777777778,
              "#fb9f3a"
             ],
             [
              0.8888888888888888,
              "#fdca26"
             ],
             [
              1,
              "#f0f921"
             ]
            ],
            "type": "heatmapgl"
           }
          ],
          "histogram": [
           {
            "marker": {
             "pattern": {
              "fillmode": "overlay",
              "size": 10,
              "solidity": 0.2
             }
            },
            "type": "histogram"
           }
          ],
          "histogram2d": [
           {
            "colorbar": {
             "outlinewidth": 0,
             "ticks": ""
            },
            "colorscale": [
             [
              0,
              "#0d0887"
             ],
             [
              0.1111111111111111,
              "#46039f"
             ],
             [
              0.2222222222222222,
              "#7201a8"
             ],
             [
              0.3333333333333333,
              "#9c179e"
             ],
             [
              0.4444444444444444,
              "#bd3786"
             ],
             [
              0.5555555555555556,
              "#d8576b"
             ],
             [
              0.6666666666666666,
              "#ed7953"
             ],
             [
              0.7777777777777778,
              "#fb9f3a"
             ],
             [
              0.8888888888888888,
              "#fdca26"
             ],
             [
              1,
              "#f0f921"
             ]
            ],
            "type": "histogram2d"
           }
          ],
          "histogram2dcontour": [
           {
            "colorbar": {
             "outlinewidth": 0,
             "ticks": ""
            },
            "colorscale": [
             [
              0,
              "#0d0887"
             ],
             [
              0.1111111111111111,
              "#46039f"
             ],
             [
              0.2222222222222222,
              "#7201a8"
             ],
             [
              0.3333333333333333,
              "#9c179e"
             ],
             [
              0.4444444444444444,
              "#bd3786"
             ],
             [
              0.5555555555555556,
              "#d8576b"
             ],
             [
              0.6666666666666666,
              "#ed7953"
             ],
             [
              0.7777777777777778,
              "#fb9f3a"
             ],
             [
              0.8888888888888888,
              "#fdca26"
             ],
             [
              1,
              "#f0f921"
             ]
            ],
            "type": "histogram2dcontour"
           }
          ],
          "mesh3d": [
           {
            "colorbar": {
             "outlinewidth": 0,
             "ticks": ""
            },
            "type": "mesh3d"
           }
          ],
          "parcoords": [
           {
            "line": {
             "colorbar": {
              "outlinewidth": 0,
              "ticks": ""
             }
            },
            "type": "parcoords"
           }
          ],
          "pie": [
           {
            "automargin": true,
            "type": "pie"
           }
          ],
          "scatter": [
           {
            "fillpattern": {
             "fillmode": "overlay",
             "size": 10,
             "solidity": 0.2
            },
            "type": "scatter"
           }
          ],
          "scatter3d": [
           {
            "line": {
             "colorbar": {
              "outlinewidth": 0,
              "ticks": ""
             }
            },
            "marker": {
             "colorbar": {
              "outlinewidth": 0,
              "ticks": ""
             }
            },
            "type": "scatter3d"
           }
          ],
          "scattercarpet": [
           {
            "marker": {
             "colorbar": {
              "outlinewidth": 0,
              "ticks": ""
             }
            },
            "type": "scattercarpet"
           }
          ],
          "scattergeo": [
           {
            "marker": {
             "colorbar": {
              "outlinewidth": 0,
              "ticks": ""
             }
            },
            "type": "scattergeo"
           }
          ],
          "scattergl": [
           {
            "marker": {
             "colorbar": {
              "outlinewidth": 0,
              "ticks": ""
             }
            },
            "type": "scattergl"
           }
          ],
          "scattermapbox": [
           {
            "marker": {
             "colorbar": {
              "outlinewidth": 0,
              "ticks": ""
             }
            },
            "type": "scattermapbox"
           }
          ],
          "scatterpolar": [
           {
            "marker": {
             "colorbar": {
              "outlinewidth": 0,
              "ticks": ""
             }
            },
            "type": "scatterpolar"
           }
          ],
          "scatterpolargl": [
           {
            "marker": {
             "colorbar": {
              "outlinewidth": 0,
              "ticks": ""
             }
            },
            "type": "scatterpolargl"
           }
          ],
          "scatterternary": [
           {
            "marker": {
             "colorbar": {
              "outlinewidth": 0,
              "ticks": ""
             }
            },
            "type": "scatterternary"
           }
          ],
          "surface": [
           {
            "colorbar": {
             "outlinewidth": 0,
             "ticks": ""
            },
            "colorscale": [
             [
              0,
              "#0d0887"
             ],
             [
              0.1111111111111111,
              "#46039f"
             ],
             [
              0.2222222222222222,
              "#7201a8"
             ],
             [
              0.3333333333333333,
              "#9c179e"
             ],
             [
              0.4444444444444444,
              "#bd3786"
             ],
             [
              0.5555555555555556,
              "#d8576b"
             ],
             [
              0.6666666666666666,
              "#ed7953"
             ],
             [
              0.7777777777777778,
              "#fb9f3a"
             ],
             [
              0.8888888888888888,
              "#fdca26"
             ],
             [
              1,
              "#f0f921"
             ]
            ],
            "type": "surface"
           }
          ],
          "table": [
           {
            "cells": {
             "fill": {
              "color": "#EBF0F8"
             },
             "line": {
              "color": "white"
             }
            },
            "header": {
             "fill": {
              "color": "#C8D4E3"
             },
             "line": {
              "color": "white"
             }
            },
            "type": "table"
           }
          ]
         },
         "layout": {
          "annotationdefaults": {
           "arrowcolor": "#2a3f5f",
           "arrowhead": 0,
           "arrowwidth": 1
          },
          "autotypenumbers": "strict",
          "coloraxis": {
           "colorbar": {
            "outlinewidth": 0,
            "ticks": ""
           }
          },
          "colorscale": {
           "diverging": [
            [
             0,
             "#8e0152"
            ],
            [
             0.1,
             "#c51b7d"
            ],
            [
             0.2,
             "#de77ae"
            ],
            [
             0.3,
             "#f1b6da"
            ],
            [
             0.4,
             "#fde0ef"
            ],
            [
             0.5,
             "#f7f7f7"
            ],
            [
             0.6,
             "#e6f5d0"
            ],
            [
             0.7,
             "#b8e186"
            ],
            [
             0.8,
             "#7fbc41"
            ],
            [
             0.9,
             "#4d9221"
            ],
            [
             1,
             "#276419"
            ]
           ],
           "sequential": [
            [
             0,
             "#0d0887"
            ],
            [
             0.1111111111111111,
             "#46039f"
            ],
            [
             0.2222222222222222,
             "#7201a8"
            ],
            [
             0.3333333333333333,
             "#9c179e"
            ],
            [
             0.4444444444444444,
             "#bd3786"
            ],
            [
             0.5555555555555556,
             "#d8576b"
            ],
            [
             0.6666666666666666,
             "#ed7953"
            ],
            [
             0.7777777777777778,
             "#fb9f3a"
            ],
            [
             0.8888888888888888,
             "#fdca26"
            ],
            [
             1,
             "#f0f921"
            ]
           ],
           "sequentialminus": [
            [
             0,
             "#0d0887"
            ],
            [
             0.1111111111111111,
             "#46039f"
            ],
            [
             0.2222222222222222,
             "#7201a8"
            ],
            [
             0.3333333333333333,
             "#9c179e"
            ],
            [
             0.4444444444444444,
             "#bd3786"
            ],
            [
             0.5555555555555556,
             "#d8576b"
            ],
            [
             0.6666666666666666,
             "#ed7953"
            ],
            [
             0.7777777777777778,
             "#fb9f3a"
            ],
            [
             0.8888888888888888,
             "#fdca26"
            ],
            [
             1,
             "#f0f921"
            ]
           ]
          },
          "colorway": [
           "#636efa",
           "#EF553B",
           "#00cc96",
           "#ab63fa",
           "#FFA15A",
           "#19d3f3",
           "#FF6692",
           "#B6E880",
           "#FF97FF",
           "#FECB52"
          ],
          "font": {
           "color": "#2a3f5f"
          },
          "geo": {
           "bgcolor": "white",
           "lakecolor": "white",
           "landcolor": "#E5ECF6",
           "showlakes": true,
           "showland": true,
           "subunitcolor": "white"
          },
          "hoverlabel": {
           "align": "left"
          },
          "hovermode": "closest",
          "mapbox": {
           "style": "light"
          },
          "paper_bgcolor": "white",
          "plot_bgcolor": "#E5ECF6",
          "polar": {
           "angularaxis": {
            "gridcolor": "white",
            "linecolor": "white",
            "ticks": ""
           },
           "bgcolor": "#E5ECF6",
           "radialaxis": {
            "gridcolor": "white",
            "linecolor": "white",
            "ticks": ""
           }
          },
          "scene": {
           "xaxis": {
            "backgroundcolor": "#E5ECF6",
            "gridcolor": "white",
            "gridwidth": 2,
            "linecolor": "white",
            "showbackground": true,
            "ticks": "",
            "zerolinecolor": "white"
           },
           "yaxis": {
            "backgroundcolor": "#E5ECF6",
            "gridcolor": "white",
            "gridwidth": 2,
            "linecolor": "white",
            "showbackground": true,
            "ticks": "",
            "zerolinecolor": "white"
           },
           "zaxis": {
            "backgroundcolor": "#E5ECF6",
            "gridcolor": "white",
            "gridwidth": 2,
            "linecolor": "white",
            "showbackground": true,
            "ticks": "",
            "zerolinecolor": "white"
           }
          },
          "shapedefaults": {
           "line": {
            "color": "#2a3f5f"
           }
          },
          "ternary": {
           "aaxis": {
            "gridcolor": "white",
            "linecolor": "white",
            "ticks": ""
           },
           "baxis": {
            "gridcolor": "white",
            "linecolor": "white",
            "ticks": ""
           },
           "bgcolor": "#E5ECF6",
           "caxis": {
            "gridcolor": "white",
            "linecolor": "white",
            "ticks": ""
           }
          },
          "title": {
           "x": 0.05
          },
          "xaxis": {
           "automargin": true,
           "gridcolor": "white",
           "linecolor": "white",
           "ticks": "",
           "title": {
            "standoff": 15
           },
           "zerolinecolor": "white",
           "zerolinewidth": 2
          },
          "yaxis": {
           "automargin": true,
           "gridcolor": "white",
           "linecolor": "white",
           "ticks": "",
           "title": {
            "standoff": 15
           },
           "zerolinecolor": "white",
           "zerolinewidth": 2
          }
         }
        },
        "title": {
         "text": "Genre"
        }
       }
      }
     },
     "metadata": {},
     "output_type": "display_data"
    }
   ],
   "source": [
    "fig2 = go.Figure(data=[go.Pie(labels=genre_counts.index, values=genre_counts.values)])\n",
    "\n",
    "\n",
    "fig2.update_layout(title='Genre')\n",
    "\n",
    "fig2.show()"
   ]
  },
  {
   "cell_type": "code",
   "execution_count": 2,
   "metadata": {},
   "outputs": [],
   "source": []
  },
  {
   "cell_type": "code",
   "execution_count": 5,
   "metadata": {},
   "outputs": [
    {
     "ename": "NameError",
     "evalue": "name 'desc_counts' is not defined",
     "output_type": "error",
     "traceback": [
      "\u001b[1;31m---------------------------------------------------------------------------\u001b[0m",
      "\u001b[1;31mNameError\u001b[0m                                 Traceback (most recent call last)",
      "Cell \u001b[1;32mIn[5], line 4\u001b[0m\n\u001b[0;32m      1\u001b[0m \u001b[39mimport\u001b[39;00m \u001b[39mplotly\u001b[39;00m\u001b[39m.\u001b[39;00m\u001b[39mgraph_objects\u001b[39;00m \u001b[39mas\u001b[39;00m \u001b[39mgo\u001b[39;00m\n\u001b[0;32m      3\u001b[0m \u001b[39m# Assuming desc_counts and genre_counts have been defined\u001b[39;00m\n\u001b[1;32m----> 4\u001b[0m fig \u001b[39m=\u001b[39m go\u001b[39m.\u001b[39mFigure(data\u001b[39m=\u001b[39m[go\u001b[39m.\u001b[39mPie(labels\u001b[39m=\u001b[39mdesc_counts\u001b[39m.\u001b[39mindex, values\u001b[39m=\u001b[39mdesc_counts\u001b[39m.\u001b[39mvalues)])\n\u001b[0;32m      5\u001b[0m fig\u001b[39m.\u001b[39mupdate_layout(title\u001b[39m=\u001b[39m\u001b[39m'\u001b[39m\u001b[39mIMDB Rating\u001b[39m\u001b[39m'\u001b[39m)\n\u001b[0;32m      6\u001b[0m fig\u001b[39m.\u001b[39mwrite_html(\u001b[39m\"\u001b[39m\u001b[39mimdb_chart.html\u001b[39m\u001b[39m\"\u001b[39m)  \u001b[39m# This will create an HTML file in the current directory\u001b[39;00m\n",
      "\u001b[1;31mNameError\u001b[0m: name 'desc_counts' is not defined"
     ]
    }
   ],
   "source": [
    "import plotly.graph_objects as go\n",
    "\n",
    "# Assuming desc_counts and genre_counts have been defined\n",
    "fig = go.Figure(data=[go.Pie(labels=desc_counts.index, values=desc_counts.values)])\n",
    "fig.update_layout(title='IMDB Rating')\n",
    "fig.write_html(\"imdb_chart.html\")  # This will create an HTML file in the current directory\n",
    "\n",
    "fig2 = go.Figure(data=[go.Pie(labels=genre_counts.index, values=genre_counts.values)])\n",
    "fig2.update_layout(title='Genre')\n",
    "fig2.write_html(\"genre_chart.html\")  # This will create another HTML file in the current directory\n"
   ]
  }
 ],
 "metadata": {
  "kernelspec": {
   "display_name": "base",
   "language": "python",
   "name": "python3"
  },
  "language_info": {
   "codemirror_mode": {
    "name": "ipython",
    "version": 3
   },
   "file_extension": ".py",
   "mimetype": "text/x-python",
   "name": "python",
   "nbconvert_exporter": "python",
   "pygments_lexer": "ipython3",
   "version": "3.10.9"
  },
  "orig_nbformat": 4
 },
 "nbformat": 4,
 "nbformat_minor": 2
}
